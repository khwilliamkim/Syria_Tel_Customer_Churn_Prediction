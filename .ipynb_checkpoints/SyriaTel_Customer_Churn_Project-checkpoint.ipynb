{
 "cells": [
  {
   "cell_type": "markdown",
   "id": "244cce15",
   "metadata": {},
   "source": [
    "##### Final Project Submission\n",
    "* Student Name: Kyunghwan William Kim\n",
    "* Student Pace: Flex\n",
    "* Scheduled Project Review Data/Time: 07/19/22 12:00pm\n",
    "* Instructor Name: Abhineet Kulkarni"
   ]
  },
  {
   "cell_type": "markdown",
   "id": "a49f3e38",
   "metadata": {},
   "source": [
    "# SyriaTel Customer Churn Prediction"
   ]
  },
  {
   "cell_type": "markdown",
   "id": "1a31d168",
   "metadata": {},
   "source": [
    "## Overview\n",
    "\n",
    "The main focus of this project is to build a classifier to predict whether a customer will soon stop doing business with SyriaTel, a telecommunications company. The data set which was downloaded from Kaggle consists of 20 features and 3333 rows containing SyriaTel's churn metrics.The process outline initiates by identifying the top attributes of churn and then creating a final machine learning model to predict whether or not a customer will soon churn. Several machine learning models were created and their performances were compared to decide on a final predictive model that the stakeholder can use on their current database. "
   ]
  },
  {
   "cell_type": "markdown",
   "id": "6880bfd8",
   "metadata": {},
   "source": [
    "## Business Understanding\n",
    "\n",
    "SyriaTel is interested in reducing how much money is lost because of customers who don't stick around very long. The question to answer is: are there any predictable patterns here?\n",
    "\n",
    "Customer churn is a major problem and one of the most important concerns for large companies. Due to the direct effect on the revenues of the companies, especially in the telecom field, companies are seeking to develop means to predict potential customer to churn. Therefore, finding factors that increase customer churn is important to take necessary actions to reduce this churn. The main contribution of our project is to develop a churn prediction model which assists telecom operators to predict customers who are most likely subject to churn."
   ]
  },
  {
   "cell_type": "markdown",
   "id": "596797d9",
   "metadata": {},
   "source": [
    "## Method\n",
    "\n",
    "The objective will be achieved by first assessing the feature importance on the below attributes and determining which tend to be the strongest predictors of churn. Then apply these attributes to several classification machine learning models to classify at risk customers in the present and in the future.\n",
    "\n",
    "### Method Outline\n",
    "\n",
    "1. After analyzing the data the project is identified as a classification problem.\n",
    "2. The target variable 'churn' creates a binary classification.\n",
    "3. For this instance the balance of the target variable will be investigated\n",
    "4. Since the target variable is imbalanced, the Accuracy score will not be used, instead the Recall score will be more important due to the problem at hand. \n",
    "\n",
    "### Type Errors\n",
    "\n",
    "The nature of this problem is framed by the fact that losing current customers is less expensive than gaining new customers. Therefore, it is much better to retain the customers that the company currently has rather than to acquire new customers.\n",
    "\n",
    "Incorrectly classifying a false negative would pose a higher threat than a false positive because a false negative would mean that the reality of a customer canceling would have been overlooked. The occurrence of the false-negative occurring is referred to as a type two error. In order to rank the classifiers on how well they minimized false negatives, measurement of recall has been utilized.\n",
    "\n",
    "### Definitions\n",
    "\n",
    "##### Churn: \n",
    "business lost over a period of time. Churn rate is a measure of number of customers moving out of the business over a specific period.\n",
    "\n",
    "##### Recall:\n",
    "is a measure of how many relevant elements were detected. Therefore it divides true positives by the number of actual total positives. Indicates what percentage of the classes we're interested in were actually captured by the model."
   ]
  },
  {
   "cell_type": "markdown",
   "id": "c948e9cc",
   "metadata": {},
   "source": [
    "## Exploratory Data Analysis"
   ]
  },
  {
   "cell_type": "code",
   "execution_count": 4,
   "id": "743e3f2b",
   "metadata": {
    "ExecuteTime": {
     "end_time": "2022-07-22T20:45:52.412467Z",
     "start_time": "2022-07-22T20:45:52.390528Z"
    }
   },
   "outputs": [],
   "source": [
    "import pandas as pd\n",
    "import numpy as np\n",
    "import matplotlib.pyplot as plt\n",
    "%matplotlib inline\n",
    "import seaborn as sns\n",
    "sns.set_style(style='darkgrid')\n",
    "import plotly.express as px\n",
    "from scipy import stats\n",
    "from scipy.stats import norm\n",
    "from xgboost import XGBClassifier\n",
    "import warnings\n",
    "warnings.filterwarnings('ignore')\n",
    "\n",
    "from sklearn.model_selection import train_test_split, cross_val_score, GridSearchCV, KFold\n",
    "from sklearn.linear_model import LogisticRegression\n",
    "from sklearn.metrics import accuracy_score, recall_score, confusion_matrix, classification_report, make_scorer, precision_score, mean_squared_error\n",
    "from sklearn.tree import DecisionTreeClassifier\n",
    "from sklearn import tree\n",
    "from sklearn.ensemble import RandomForestClassifier, AdaBoostClassifier, GradientBoostingClassifier, RandomForestRegressor\n",
    "from sklearn.preprocessing import StandardScaler, MinMaxScaler, OneHotEncoder\n",
    "from sklearn.compose import ColumnTransformer\n",
    "from imblearn.over_sampling import SMOTE\n",
    "from imblearn.pipeline import Pipeline as imbpipeline"
   ]
  },
  {
   "cell_type": "code",
   "execution_count": 5,
   "id": "c11282fe",
   "metadata": {
    "ExecuteTime": {
     "end_time": "2022-07-22T20:45:53.277421Z",
     "start_time": "2022-07-22T20:45:53.095915Z"
    },
    "scrolled": false
   },
   "outputs": [
    {
     "data": {
      "text/html": [
       "<div>\n",
       "<style scoped>\n",
       "    .dataframe tbody tr th:only-of-type {\n",
       "        vertical-align: middle;\n",
       "    }\n",
       "\n",
       "    .dataframe tbody tr th {\n",
       "        vertical-align: top;\n",
       "    }\n",
       "\n",
       "    .dataframe thead th {\n",
       "        text-align: right;\n",
       "    }\n",
       "</style>\n",
       "<table border=\"1\" class=\"dataframe\">\n",
       "  <thead>\n",
       "    <tr style=\"text-align: right;\">\n",
       "      <th></th>\n",
       "      <th>state</th>\n",
       "      <th>account length</th>\n",
       "      <th>area code</th>\n",
       "      <th>phone number</th>\n",
       "      <th>international plan</th>\n",
       "      <th>voice mail plan</th>\n",
       "      <th>number vmail messages</th>\n",
       "      <th>total day minutes</th>\n",
       "      <th>total day calls</th>\n",
       "      <th>total day charge</th>\n",
       "      <th>...</th>\n",
       "      <th>total eve calls</th>\n",
       "      <th>total eve charge</th>\n",
       "      <th>total night minutes</th>\n",
       "      <th>total night calls</th>\n",
       "      <th>total night charge</th>\n",
       "      <th>total intl minutes</th>\n",
       "      <th>total intl calls</th>\n",
       "      <th>total intl charge</th>\n",
       "      <th>customer service calls</th>\n",
       "      <th>churn</th>\n",
       "    </tr>\n",
       "  </thead>\n",
       "  <tbody>\n",
       "    <tr>\n",
       "      <th>0</th>\n",
       "      <td>KS</td>\n",
       "      <td>128</td>\n",
       "      <td>415</td>\n",
       "      <td>382-4657</td>\n",
       "      <td>no</td>\n",
       "      <td>yes</td>\n",
       "      <td>25</td>\n",
       "      <td>265.1</td>\n",
       "      <td>110</td>\n",
       "      <td>45.07</td>\n",
       "      <td>...</td>\n",
       "      <td>99</td>\n",
       "      <td>16.78</td>\n",
       "      <td>244.7</td>\n",
       "      <td>91</td>\n",
       "      <td>11.01</td>\n",
       "      <td>10.0</td>\n",
       "      <td>3</td>\n",
       "      <td>2.70</td>\n",
       "      <td>1</td>\n",
       "      <td>False</td>\n",
       "    </tr>\n",
       "    <tr>\n",
       "      <th>1</th>\n",
       "      <td>OH</td>\n",
       "      <td>107</td>\n",
       "      <td>415</td>\n",
       "      <td>371-7191</td>\n",
       "      <td>no</td>\n",
       "      <td>yes</td>\n",
       "      <td>26</td>\n",
       "      <td>161.6</td>\n",
       "      <td>123</td>\n",
       "      <td>27.47</td>\n",
       "      <td>...</td>\n",
       "      <td>103</td>\n",
       "      <td>16.62</td>\n",
       "      <td>254.4</td>\n",
       "      <td>103</td>\n",
       "      <td>11.45</td>\n",
       "      <td>13.7</td>\n",
       "      <td>3</td>\n",
       "      <td>3.70</td>\n",
       "      <td>1</td>\n",
       "      <td>False</td>\n",
       "    </tr>\n",
       "    <tr>\n",
       "      <th>2</th>\n",
       "      <td>NJ</td>\n",
       "      <td>137</td>\n",
       "      <td>415</td>\n",
       "      <td>358-1921</td>\n",
       "      <td>no</td>\n",
       "      <td>no</td>\n",
       "      <td>0</td>\n",
       "      <td>243.4</td>\n",
       "      <td>114</td>\n",
       "      <td>41.38</td>\n",
       "      <td>...</td>\n",
       "      <td>110</td>\n",
       "      <td>10.30</td>\n",
       "      <td>162.6</td>\n",
       "      <td>104</td>\n",
       "      <td>7.32</td>\n",
       "      <td>12.2</td>\n",
       "      <td>5</td>\n",
       "      <td>3.29</td>\n",
       "      <td>0</td>\n",
       "      <td>False</td>\n",
       "    </tr>\n",
       "    <tr>\n",
       "      <th>3</th>\n",
       "      <td>OH</td>\n",
       "      <td>84</td>\n",
       "      <td>408</td>\n",
       "      <td>375-9999</td>\n",
       "      <td>yes</td>\n",
       "      <td>no</td>\n",
       "      <td>0</td>\n",
       "      <td>299.4</td>\n",
       "      <td>71</td>\n",
       "      <td>50.90</td>\n",
       "      <td>...</td>\n",
       "      <td>88</td>\n",
       "      <td>5.26</td>\n",
       "      <td>196.9</td>\n",
       "      <td>89</td>\n",
       "      <td>8.86</td>\n",
       "      <td>6.6</td>\n",
       "      <td>7</td>\n",
       "      <td>1.78</td>\n",
       "      <td>2</td>\n",
       "      <td>False</td>\n",
       "    </tr>\n",
       "    <tr>\n",
       "      <th>4</th>\n",
       "      <td>OK</td>\n",
       "      <td>75</td>\n",
       "      <td>415</td>\n",
       "      <td>330-6626</td>\n",
       "      <td>yes</td>\n",
       "      <td>no</td>\n",
       "      <td>0</td>\n",
       "      <td>166.7</td>\n",
       "      <td>113</td>\n",
       "      <td>28.34</td>\n",
       "      <td>...</td>\n",
       "      <td>122</td>\n",
       "      <td>12.61</td>\n",
       "      <td>186.9</td>\n",
       "      <td>121</td>\n",
       "      <td>8.41</td>\n",
       "      <td>10.1</td>\n",
       "      <td>3</td>\n",
       "      <td>2.73</td>\n",
       "      <td>3</td>\n",
       "      <td>False</td>\n",
       "    </tr>\n",
       "  </tbody>\n",
       "</table>\n",
       "<p>5 rows × 21 columns</p>\n",
       "</div>"
      ],
      "text/plain": [
       "  state  account length  area code phone number international plan  \\\n",
       "0    KS             128        415     382-4657                 no   \n",
       "1    OH             107        415     371-7191                 no   \n",
       "2    NJ             137        415     358-1921                 no   \n",
       "3    OH              84        408     375-9999                yes   \n",
       "4    OK              75        415     330-6626                yes   \n",
       "\n",
       "  voice mail plan  number vmail messages  total day minutes  total day calls  \\\n",
       "0             yes                     25              265.1              110   \n",
       "1             yes                     26              161.6              123   \n",
       "2              no                      0              243.4              114   \n",
       "3              no                      0              299.4               71   \n",
       "4              no                      0              166.7              113   \n",
       "\n",
       "   total day charge  ...  total eve calls  total eve charge  \\\n",
       "0             45.07  ...               99             16.78   \n",
       "1             27.47  ...              103             16.62   \n",
       "2             41.38  ...              110             10.30   \n",
       "3             50.90  ...               88              5.26   \n",
       "4             28.34  ...              122             12.61   \n",
       "\n",
       "   total night minutes  total night calls  total night charge  \\\n",
       "0                244.7                 91               11.01   \n",
       "1                254.4                103               11.45   \n",
       "2                162.6                104                7.32   \n",
       "3                196.9                 89                8.86   \n",
       "4                186.9                121                8.41   \n",
       "\n",
       "   total intl minutes  total intl calls  total intl charge  \\\n",
       "0                10.0                 3               2.70   \n",
       "1                13.7                 3               3.70   \n",
       "2                12.2                 5               3.29   \n",
       "3                 6.6                 7               1.78   \n",
       "4                10.1                 3               2.73   \n",
       "\n",
       "   customer service calls  churn  \n",
       "0                       1  False  \n",
       "1                       1  False  \n",
       "2                       0  False  \n",
       "3                       2  False  \n",
       "4                       3  False  \n",
       "\n",
       "[5 rows x 21 columns]"
      ]
     },
     "execution_count": 5,
     "metadata": {},
     "output_type": "execute_result"
    }
   ],
   "source": [
    "#Import dataframe\n",
    "df = pd.read_csv(\"data.csv\")\n",
    "df.head()"
   ]
  },
  {
   "cell_type": "code",
   "execution_count": 6,
   "id": "22525331",
   "metadata": {
    "ExecuteTime": {
     "end_time": "2022-07-22T20:45:53.737189Z",
     "start_time": "2022-07-22T20:45:53.726222Z"
    }
   },
   "outputs": [
    {
     "data": {
      "text/plain": [
       "(3333, 21)"
      ]
     },
     "execution_count": 6,
     "metadata": {},
     "output_type": "execute_result"
    }
   ],
   "source": [
    "#Review shape of dataframe\n",
    "df.shape"
   ]
  },
  {
   "cell_type": "code",
   "execution_count": 7,
   "id": "6eacf781",
   "metadata": {
    "ExecuteTime": {
     "end_time": "2022-07-22T20:45:54.261786Z",
     "start_time": "2022-07-22T20:45:54.233896Z"
    }
   },
   "outputs": [
    {
     "name": "stdout",
     "output_type": "stream",
     "text": [
      "<class 'pandas.core.frame.DataFrame'>\n",
      "RangeIndex: 3333 entries, 0 to 3332\n",
      "Data columns (total 21 columns):\n",
      " #   Column                  Non-Null Count  Dtype  \n",
      "---  ------                  --------------  -----  \n",
      " 0   state                   3333 non-null   object \n",
      " 1   account length          3333 non-null   int64  \n",
      " 2   area code               3333 non-null   int64  \n",
      " 3   phone number            3333 non-null   object \n",
      " 4   international plan      3333 non-null   object \n",
      " 5   voice mail plan         3333 non-null   object \n",
      " 6   number vmail messages   3333 non-null   int64  \n",
      " 7   total day minutes       3333 non-null   float64\n",
      " 8   total day calls         3333 non-null   int64  \n",
      " 9   total day charge        3333 non-null   float64\n",
      " 10  total eve minutes       3333 non-null   float64\n",
      " 11  total eve calls         3333 non-null   int64  \n",
      " 12  total eve charge        3333 non-null   float64\n",
      " 13  total night minutes     3333 non-null   float64\n",
      " 14  total night calls       3333 non-null   int64  \n",
      " 15  total night charge      3333 non-null   float64\n",
      " 16  total intl minutes      3333 non-null   float64\n",
      " 17  total intl calls        3333 non-null   int64  \n",
      " 18  total intl charge       3333 non-null   float64\n",
      " 19  customer service calls  3333 non-null   int64  \n",
      " 20  churn                   3333 non-null   bool   \n",
      "dtypes: bool(1), float64(8), int64(8), object(4)\n",
      "memory usage: 524.2+ KB\n"
     ]
    }
   ],
   "source": [
    "#Review dataframe\n",
    "df.info()"
   ]
  },
  {
   "cell_type": "markdown",
   "id": "c8614894",
   "metadata": {},
   "source": [
    "Most of our features have a numeric datatype except for state, phone number, international plan, & voicemail plan.\n",
    "Let's investigate these features to classify as either categorical or continuous."
   ]
  },
  {
   "cell_type": "markdown",
   "id": "a0ad66d9",
   "metadata": {},
   "source": [
    "### Cleaning and Preprocessing"
   ]
  },
  {
   "cell_type": "markdown",
   "id": "26edb8d3",
   "metadata": {},
   "source": [
    "##### Cleaning and Preprocessing Outline\n",
    "\n",
    "1. Replace ' ' with '-'\n",
    "2. Check for null and duplicated values\n",
    "3. Inspect Unique values of columns to identify potential errors or null values\n",
    "4. Convert all yes,no object values into integer values\n",
    "5. Calculate the total_net_minutes, total_net_calls & total_net_charge to reduce the number of features\n",
    "6. Drop all repeated features and irrelevant columns"
   ]
  },
  {
   "cell_type": "code",
   "execution_count": 8,
   "id": "d8c2cbd6",
   "metadata": {
    "ExecuteTime": {
     "end_time": "2022-07-22T20:45:55.690169Z",
     "start_time": "2022-07-22T20:45:55.588447Z"
    }
   },
   "outputs": [
    {
     "data": {
      "text/html": [
       "<div>\n",
       "<style scoped>\n",
       "    .dataframe tbody tr th:only-of-type {\n",
       "        vertical-align: middle;\n",
       "    }\n",
       "\n",
       "    .dataframe tbody tr th {\n",
       "        vertical-align: top;\n",
       "    }\n",
       "\n",
       "    .dataframe thead th {\n",
       "        text-align: right;\n",
       "    }\n",
       "</style>\n",
       "<table border=\"1\" class=\"dataframe\">\n",
       "  <thead>\n",
       "    <tr style=\"text-align: right;\">\n",
       "      <th></th>\n",
       "      <th>account length</th>\n",
       "      <th>area code</th>\n",
       "      <th>number vmail messages</th>\n",
       "      <th>total day minutes</th>\n",
       "      <th>total day calls</th>\n",
       "      <th>total day charge</th>\n",
       "      <th>total eve minutes</th>\n",
       "      <th>total eve calls</th>\n",
       "      <th>total eve charge</th>\n",
       "      <th>total night minutes</th>\n",
       "      <th>total night calls</th>\n",
       "      <th>total night charge</th>\n",
       "      <th>total intl minutes</th>\n",
       "      <th>total intl calls</th>\n",
       "      <th>total intl charge</th>\n",
       "      <th>customer service calls</th>\n",
       "    </tr>\n",
       "  </thead>\n",
       "  <tbody>\n",
       "    <tr>\n",
       "      <th>count</th>\n",
       "      <td>3333.000000</td>\n",
       "      <td>3333.000000</td>\n",
       "      <td>3333.000000</td>\n",
       "      <td>3333.000000</td>\n",
       "      <td>3333.000000</td>\n",
       "      <td>3333.000000</td>\n",
       "      <td>3333.000000</td>\n",
       "      <td>3333.000000</td>\n",
       "      <td>3333.000000</td>\n",
       "      <td>3333.000000</td>\n",
       "      <td>3333.000000</td>\n",
       "      <td>3333.000000</td>\n",
       "      <td>3333.000000</td>\n",
       "      <td>3333.000000</td>\n",
       "      <td>3333.000000</td>\n",
       "      <td>3333.000000</td>\n",
       "    </tr>\n",
       "    <tr>\n",
       "      <th>mean</th>\n",
       "      <td>101.064806</td>\n",
       "      <td>437.182418</td>\n",
       "      <td>8.099010</td>\n",
       "      <td>179.775098</td>\n",
       "      <td>100.435644</td>\n",
       "      <td>30.562307</td>\n",
       "      <td>200.980348</td>\n",
       "      <td>100.114311</td>\n",
       "      <td>17.083540</td>\n",
       "      <td>200.872037</td>\n",
       "      <td>100.107711</td>\n",
       "      <td>9.039325</td>\n",
       "      <td>10.237294</td>\n",
       "      <td>4.479448</td>\n",
       "      <td>2.764581</td>\n",
       "      <td>1.562856</td>\n",
       "    </tr>\n",
       "    <tr>\n",
       "      <th>std</th>\n",
       "      <td>39.822106</td>\n",
       "      <td>42.371290</td>\n",
       "      <td>13.688365</td>\n",
       "      <td>54.467389</td>\n",
       "      <td>20.069084</td>\n",
       "      <td>9.259435</td>\n",
       "      <td>50.713844</td>\n",
       "      <td>19.922625</td>\n",
       "      <td>4.310668</td>\n",
       "      <td>50.573847</td>\n",
       "      <td>19.568609</td>\n",
       "      <td>2.275873</td>\n",
       "      <td>2.791840</td>\n",
       "      <td>2.461214</td>\n",
       "      <td>0.753773</td>\n",
       "      <td>1.315491</td>\n",
       "    </tr>\n",
       "    <tr>\n",
       "      <th>min</th>\n",
       "      <td>1.000000</td>\n",
       "      <td>408.000000</td>\n",
       "      <td>0.000000</td>\n",
       "      <td>0.000000</td>\n",
       "      <td>0.000000</td>\n",
       "      <td>0.000000</td>\n",
       "      <td>0.000000</td>\n",
       "      <td>0.000000</td>\n",
       "      <td>0.000000</td>\n",
       "      <td>23.200000</td>\n",
       "      <td>33.000000</td>\n",
       "      <td>1.040000</td>\n",
       "      <td>0.000000</td>\n",
       "      <td>0.000000</td>\n",
       "      <td>0.000000</td>\n",
       "      <td>0.000000</td>\n",
       "    </tr>\n",
       "    <tr>\n",
       "      <th>25%</th>\n",
       "      <td>74.000000</td>\n",
       "      <td>408.000000</td>\n",
       "      <td>0.000000</td>\n",
       "      <td>143.700000</td>\n",
       "      <td>87.000000</td>\n",
       "      <td>24.430000</td>\n",
       "      <td>166.600000</td>\n",
       "      <td>87.000000</td>\n",
       "      <td>14.160000</td>\n",
       "      <td>167.000000</td>\n",
       "      <td>87.000000</td>\n",
       "      <td>7.520000</td>\n",
       "      <td>8.500000</td>\n",
       "      <td>3.000000</td>\n",
       "      <td>2.300000</td>\n",
       "      <td>1.000000</td>\n",
       "    </tr>\n",
       "    <tr>\n",
       "      <th>50%</th>\n",
       "      <td>101.000000</td>\n",
       "      <td>415.000000</td>\n",
       "      <td>0.000000</td>\n",
       "      <td>179.400000</td>\n",
       "      <td>101.000000</td>\n",
       "      <td>30.500000</td>\n",
       "      <td>201.400000</td>\n",
       "      <td>100.000000</td>\n",
       "      <td>17.120000</td>\n",
       "      <td>201.200000</td>\n",
       "      <td>100.000000</td>\n",
       "      <td>9.050000</td>\n",
       "      <td>10.300000</td>\n",
       "      <td>4.000000</td>\n",
       "      <td>2.780000</td>\n",
       "      <td>1.000000</td>\n",
       "    </tr>\n",
       "    <tr>\n",
       "      <th>75%</th>\n",
       "      <td>127.000000</td>\n",
       "      <td>510.000000</td>\n",
       "      <td>20.000000</td>\n",
       "      <td>216.400000</td>\n",
       "      <td>114.000000</td>\n",
       "      <td>36.790000</td>\n",
       "      <td>235.300000</td>\n",
       "      <td>114.000000</td>\n",
       "      <td>20.000000</td>\n",
       "      <td>235.300000</td>\n",
       "      <td>113.000000</td>\n",
       "      <td>10.590000</td>\n",
       "      <td>12.100000</td>\n",
       "      <td>6.000000</td>\n",
       "      <td>3.270000</td>\n",
       "      <td>2.000000</td>\n",
       "    </tr>\n",
       "    <tr>\n",
       "      <th>max</th>\n",
       "      <td>243.000000</td>\n",
       "      <td>510.000000</td>\n",
       "      <td>51.000000</td>\n",
       "      <td>350.800000</td>\n",
       "      <td>165.000000</td>\n",
       "      <td>59.640000</td>\n",
       "      <td>363.700000</td>\n",
       "      <td>170.000000</td>\n",
       "      <td>30.910000</td>\n",
       "      <td>395.000000</td>\n",
       "      <td>175.000000</td>\n",
       "      <td>17.770000</td>\n",
       "      <td>20.000000</td>\n",
       "      <td>20.000000</td>\n",
       "      <td>5.400000</td>\n",
       "      <td>9.000000</td>\n",
       "    </tr>\n",
       "  </tbody>\n",
       "</table>\n",
       "</div>"
      ],
      "text/plain": [
       "       account length    area code  number vmail messages  total day minutes  \\\n",
       "count     3333.000000  3333.000000            3333.000000        3333.000000   \n",
       "mean       101.064806   437.182418               8.099010         179.775098   \n",
       "std         39.822106    42.371290              13.688365          54.467389   \n",
       "min          1.000000   408.000000               0.000000           0.000000   \n",
       "25%         74.000000   408.000000               0.000000         143.700000   \n",
       "50%        101.000000   415.000000               0.000000         179.400000   \n",
       "75%        127.000000   510.000000              20.000000         216.400000   \n",
       "max        243.000000   510.000000              51.000000         350.800000   \n",
       "\n",
       "       total day calls  total day charge  total eve minutes  total eve calls  \\\n",
       "count      3333.000000       3333.000000        3333.000000      3333.000000   \n",
       "mean        100.435644         30.562307         200.980348       100.114311   \n",
       "std          20.069084          9.259435          50.713844        19.922625   \n",
       "min           0.000000          0.000000           0.000000         0.000000   \n",
       "25%          87.000000         24.430000         166.600000        87.000000   \n",
       "50%         101.000000         30.500000         201.400000       100.000000   \n",
       "75%         114.000000         36.790000         235.300000       114.000000   \n",
       "max         165.000000         59.640000         363.700000       170.000000   \n",
       "\n",
       "       total eve charge  total night minutes  total night calls  \\\n",
       "count       3333.000000          3333.000000        3333.000000   \n",
       "mean          17.083540           200.872037         100.107711   \n",
       "std            4.310668            50.573847          19.568609   \n",
       "min            0.000000            23.200000          33.000000   \n",
       "25%           14.160000           167.000000          87.000000   \n",
       "50%           17.120000           201.200000         100.000000   \n",
       "75%           20.000000           235.300000         113.000000   \n",
       "max           30.910000           395.000000         175.000000   \n",
       "\n",
       "       total night charge  total intl minutes  total intl calls  \\\n",
       "count         3333.000000         3333.000000       3333.000000   \n",
       "mean             9.039325           10.237294          4.479448   \n",
       "std              2.275873            2.791840          2.461214   \n",
       "min              1.040000            0.000000          0.000000   \n",
       "25%              7.520000            8.500000          3.000000   \n",
       "50%              9.050000           10.300000          4.000000   \n",
       "75%             10.590000           12.100000          6.000000   \n",
       "max             17.770000           20.000000         20.000000   \n",
       "\n",
       "       total intl charge  customer service calls  \n",
       "count        3333.000000             3333.000000  \n",
       "mean            2.764581                1.562856  \n",
       "std             0.753773                1.315491  \n",
       "min             0.000000                0.000000  \n",
       "25%             2.300000                1.000000  \n",
       "50%             2.780000                1.000000  \n",
       "75%             3.270000                2.000000  \n",
       "max             5.400000                9.000000  "
      ]
     },
     "execution_count": 8,
     "metadata": {},
     "output_type": "execute_result"
    }
   ],
   "source": [
    "#Review dataframe description\n",
    "df.describe()"
   ]
  },
  {
   "cell_type": "markdown",
   "id": "135d7445",
   "metadata": {},
   "source": [
    "Featuress are not on the same scale, this may be a problem for models like K Nearest Neighbors, we can fix this by utilizing a StandardScaler or a MinMaxScaler in further steps."
   ]
  },
  {
   "cell_type": "markdown",
   "id": "667967b5",
   "metadata": {},
   "source": [
    "#### Clean Up Column Headings"
   ]
  },
  {
   "cell_type": "code",
   "execution_count": 9,
   "id": "fb1c1e29",
   "metadata": {
    "ExecuteTime": {
     "end_time": "2022-07-22T20:45:56.417447Z",
     "start_time": "2022-07-22T20:45:56.403486Z"
    }
   },
   "outputs": [],
   "source": [
    "#Replace \"spaces\" with \"underscore\"\n",
    "df.columns = df.columns.str.replace(' ', '_')"
   ]
  },
  {
   "cell_type": "markdown",
   "id": "d2f48516",
   "metadata": {},
   "source": [
    "#### Check for null values"
   ]
  },
  {
   "cell_type": "code",
   "execution_count": 10,
   "id": "d2410d51",
   "metadata": {
    "ExecuteTime": {
     "end_time": "2022-07-22T20:45:56.877220Z",
     "start_time": "2022-07-22T20:45:56.855247Z"
    }
   },
   "outputs": [
    {
     "data": {
      "text/plain": [
       "state                     0\n",
       "account_length            0\n",
       "area_code                 0\n",
       "phone_number              0\n",
       "international_plan        0\n",
       "voice_mail_plan           0\n",
       "number_vmail_messages     0\n",
       "total_day_minutes         0\n",
       "total_day_calls           0\n",
       "total_day_charge          0\n",
       "total_eve_minutes         0\n",
       "total_eve_calls           0\n",
       "total_eve_charge          0\n",
       "total_night_minutes       0\n",
       "total_night_calls         0\n",
       "total_night_charge        0\n",
       "total_intl_minutes        0\n",
       "total_intl_calls          0\n",
       "total_intl_charge         0\n",
       "customer_service_calls    0\n",
       "churn                     0\n",
       "dtype: int64"
      ]
     },
     "execution_count": 10,
     "metadata": {},
     "output_type": "execute_result"
    }
   ],
   "source": [
    "#Check for null values\n",
    "df.isna().sum()"
   ]
  },
  {
   "cell_type": "code",
   "execution_count": 11,
   "id": "340f553c",
   "metadata": {
    "ExecuteTime": {
     "end_time": "2022-07-22T20:45:57.163418Z",
     "start_time": "2022-07-22T20:45:57.132504Z"
    }
   },
   "outputs": [
    {
     "data": {
      "text/plain": [
       "0"
      ]
     },
     "execution_count": 11,
     "metadata": {},
     "output_type": "execute_result"
    }
   ],
   "source": [
    "#Check for duplicates\n",
    "df.duplicated().sum()"
   ]
  },
  {
   "cell_type": "markdown",
   "id": "f6083880",
   "metadata": {},
   "source": [
    "It appears that there are no null values in the dataframe.\n",
    "\n",
    "Most of the features are numerical except for state, phone_number, international_plan and voice_mail_plan which are strings and our target churn which is of boolean type.\n",
    "\n",
    "Let's inspect the unique values of each feature to see if we have any 'null' values 'in disguise' or any values that we don't expect which might be errors:"
   ]
  },
  {
   "cell_type": "code",
   "execution_count": 12,
   "id": "8823d3ac",
   "metadata": {
    "ExecuteTime": {
     "end_time": "2022-07-22T20:45:58.273482Z",
     "start_time": "2022-07-22T20:45:58.211631Z"
    }
   },
   "outputs": [
    {
     "name": "stdout",
     "output_type": "stream",
     "text": [
      "state\n",
      "['KS' 'OH' 'NJ' 'OK' 'AL' 'MA' 'MO' 'LA' 'WV' 'IN' 'RI' 'IA' 'MT' 'NY'\n",
      " 'ID' 'VT' 'VA' 'TX' 'FL' 'CO' 'AZ' 'SC' 'NE' 'WY' 'HI' 'IL' 'NH' 'GA'\n",
      " 'AK' 'MD' 'AR' 'WI' 'OR' 'MI' 'DE' 'UT' 'CA' 'MN' 'SD' 'NC' 'WA' 'NM'\n",
      " 'NV' 'DC' 'KY' 'ME' 'MS' 'TN' 'PA' 'CT' 'ND']\n",
      "\n",
      "=============================================================\n",
      "\n",
      "account_length\n",
      "[128 107 137  84  75 118 121 147 117 141  65  74 168  95  62 161  85  93\n",
      "  76  73  77 130 111 132 174  57  54  20  49 142 172  12  72  36  78 136\n",
      " 149  98 135  34 160  64  59 119  97  52  60  10  96  87  81  68 125 116\n",
      "  38  40  43 113 126 150 138 162  90  50  82 144  46  70  55 106  94 155\n",
      "  80 104  99 120 108 122 157 103  63 112  41 193  61  92 131 163  91 127\n",
      " 110 140  83 145  56 151 139   6 115 146 185 148  32  25 179  67  19 170\n",
      " 164  51 208  53 105  66  86  35  88 123  45 100 215  22  33 114  24 101\n",
      " 143  48  71 167  89 199 166 158 196 209  16  39 173 129  44  79  31 124\n",
      "  37 159 194 154  21 133 224  58  11 109 102 165  18  30 176  47 190 152\n",
      "  26  69 186 171  28 153 169  13  27   3  42 189 156 134 243  23   1 205\n",
      " 200   5   9 178 181 182 217 177 210  29 180   2  17   7 212 232 192 195\n",
      " 197 225 184 191 201  15 183 202   8 175   4 188 204 221]\n",
      "\n",
      "=============================================================\n",
      "\n",
      "area_code\n",
      "[415 408 510]\n",
      "\n",
      "=============================================================\n",
      "\n",
      "phone_number\n",
      "['382-4657' '371-7191' '358-1921' ... '328-8230' '364-6381' '400-4344']\n",
      "\n",
      "=============================================================\n",
      "\n",
      "international_plan\n",
      "['no' 'yes']\n",
      "\n",
      "=============================================================\n",
      "\n",
      "voice_mail_plan\n",
      "['yes' 'no']\n",
      "\n",
      "=============================================================\n",
      "\n",
      "number_vmail_messages\n",
      "[25 26  0 24 37 27 33 39 30 41 28 34 46 29 35 21 32 42 36 22 23 43 31 38\n",
      " 40 48 18 17 45 16 20 14 19 51 15 11 12 47  8 44 49  4 10 13 50  9]\n",
      "\n",
      "=============================================================\n",
      "\n",
      "total_day_minutes\n",
      "[265.1 161.6 243.4 ... 321.1 231.1 180.8]\n",
      "\n",
      "=============================================================\n",
      "\n",
      "total_day_calls\n",
      "[110 123 114  71 113  98  88  79  97  84 137 127  96  70  67 139  66  90\n",
      " 117  89 112 103  86  76 115  73 109  95 105 121 118  94  80 128  64 106\n",
      " 102  85  82  77 120 133 135 108  57  83 129  91  92  74  93 101 146  72\n",
      "  99 104 125  61 100  87 131  65 124 119  52  68 107  47 116 151 126 122\n",
      " 111 145  78 136 140 148  81  55  69 158 134 130  63  53  75 141 163  59\n",
      " 132 138  54  58  62 144 143 147  36  40 150  56  51 165  30  48  60  42\n",
      "   0  45 160 149 152 142 156  35  49 157  44]\n",
      "\n",
      "=============================================================\n",
      "\n",
      "total_day_charge\n",
      "[45.07 27.47 41.38 ... 54.59 39.29 30.74]\n",
      "\n",
      "=============================================================\n",
      "\n",
      "total_eve_minutes\n",
      "[197.4 195.5 121.2 ... 153.4 288.8 265.9]\n",
      "\n",
      "=============================================================\n",
      "\n",
      "total_eve_calls\n",
      "[ 99 103 110  88 122 101 108  94  80 111  83 148  71  75  76  97  90  65\n",
      "  93 121 102  72 112 100  84 109  63 107 115 119 116  92  85  98 118  74\n",
      " 117  58  96  66  67  62  77 164 126 142  64 104  79  95  86 105  81 113\n",
      " 106  59  48  82  87 123 114 140 128  60  78 125  91  46 138 129  89 133\n",
      " 136  57 135 139  51  70 151 137 134  73 152 168  68 120  69 127 132 143\n",
      "  61 124  42  54 131  52 149  56  37 130  49 146 147  55  12  50 157 155\n",
      "  45 144  36 156  53 141  44 153 154 150  43   0 145 159 170]\n",
      "\n",
      "=============================================================\n",
      "\n",
      "total_eve_charge\n",
      "[16.78 16.62 10.3  ... 13.04 24.55 22.6 ]\n",
      "\n",
      "=============================================================\n",
      "\n",
      "total_night_minutes\n",
      "[244.7 254.4 162.6 ... 280.9 120.1 279.1]\n",
      "\n",
      "=============================================================\n",
      "\n",
      "total_night_calls\n",
      "[ 91 103 104  89 121 118  96  90  97 111  94 128 115  99  75 108  74 133\n",
      "  64  78 105  68 102 148  98 116  71 109 107 135  92  86 127  79  87 129\n",
      "  57  77  95  54 106  53  67 139  60 100  61  73 113  76 119  88  84  62\n",
      " 137  72 142 114 126 122  81 123 117  82  80 120 130 134  59 112 132 110\n",
      " 101 150  69 131  83  93 124 136 125  66 143  58  55  85  56  70  46  42\n",
      " 152  44 145  50 153  49 175  63 138 154 140 141 146  65  51 151 158 155\n",
      " 157 147 144 149 166  52  33 156  38  36  48 164]\n",
      "\n",
      "=============================================================\n",
      "\n",
      "total_night_charge\n",
      "[11.01 11.45  7.32  8.86  8.41  9.18  9.57  9.53  9.71 14.69  9.4   8.82\n",
      "  6.35  8.65  9.14  7.23  4.02  5.83  7.46  8.68  9.43  8.18  8.53 10.67\n",
      " 11.28  8.22  4.59  8.17  8.04 11.27 11.08 13.2  12.61  9.61  6.88  5.82\n",
      " 10.25  4.58  8.47  8.45  5.5  14.02  8.03 11.94  7.34  6.06 10.9   6.44\n",
      "  3.18 10.66 11.21 12.73 10.28 12.16  6.34  8.15  5.84  8.52  7.5   7.48\n",
      "  6.21 11.95  7.15  9.63  7.1   6.91  6.69 13.29 11.46  7.76  6.86  8.16\n",
      " 12.15  7.79  7.99 10.29 10.08 12.53  7.91 10.02  8.61 14.54  8.21  9.09\n",
      "  4.93 11.39 11.88  5.75  7.83  8.59  7.52 12.38  7.21  5.81  8.1  11.04\n",
      " 11.19  8.55  8.42  9.76  9.87 10.86  5.36 10.03 11.15  9.51  6.22  2.59\n",
      "  7.65  6.45  9.    6.4   9.94  5.08 10.23 11.36  6.97 10.16  7.88 11.91\n",
      "  6.61 11.55 11.76  9.27  9.29 11.12 10.69  8.8  11.85  7.14  8.71 11.42\n",
      "  4.94  9.02 11.22  4.97  9.15  5.45  7.27 12.91  7.75 13.46  6.32 12.13\n",
      " 11.97  6.93 11.66  7.42  6.19 11.41 10.33 10.65 11.92  4.77  4.38  7.41\n",
      " 12.1   7.69  8.78  9.36  9.05 12.7   6.16  6.05 10.85  8.93  3.48 10.4\n",
      "  5.05 10.71  9.37  6.75  8.12 11.77 11.49 11.06 11.25 11.03 10.82  8.91\n",
      "  8.57  8.09 10.05 11.7  10.17  8.74  5.51 11.11  3.29 10.13  6.8   8.49\n",
      "  9.55 11.02  9.91  7.84 10.62  9.97  3.44  7.35  9.79  8.89  8.14  6.94\n",
      " 10.49 10.57 10.2   6.29  8.79 10.04 12.41 15.97  9.1  11.78 12.75 11.07\n",
      " 12.56  8.63  8.02 10.42  8.7   9.98  7.62  8.33  6.59 13.12 10.46  6.63\n",
      "  8.32  9.04  9.28 10.76  9.64 11.44  6.48 10.81 12.66 11.34  8.75 13.05\n",
      " 11.48 14.04 13.47  5.63  6.6   9.72 11.68  6.41  9.32 12.95 13.37  9.62\n",
      "  6.03  8.25  8.26 11.96  9.9   9.23  5.58  7.22  6.64 12.29 12.93 11.32\n",
      "  6.85  8.88  7.03  8.48  3.59  5.86  6.23  7.61  7.66 13.63  7.9  11.82\n",
      "  7.47  6.08  8.4   5.74 10.94 10.35 10.68  4.34  8.73  5.14  8.24  9.99\n",
      " 13.93  8.64 11.43  5.79  9.2  10.14 12.11  7.53 12.46  8.46  8.95  9.84\n",
      " 10.8  11.23 10.15  9.21 14.46  6.67 12.83  9.66  9.59 10.48  8.36  4.84\n",
      " 10.54  8.39  7.43  9.06  8.94 11.13  8.87  8.5   7.6  10.73  9.56 10.77\n",
      "  7.73  3.47 11.86  8.11  9.78  9.42  9.65  7.    7.39  9.88  6.56  5.92\n",
      "  6.95 15.71  8.06  4.86  7.8   8.58 10.06  5.21  6.92  6.15 13.49  9.38\n",
      " 12.62 12.26  8.19 11.65 11.62 10.83  7.92  7.33 13.01 13.26 12.22 11.58\n",
      "  5.97 10.99  8.38  9.17  8.08  5.71  3.41 12.63 11.79 12.96  7.64  6.58\n",
      " 10.84 10.22  6.52  5.55  7.63  5.11  5.89 10.78  3.05 11.89  8.97 10.44\n",
      " 10.5   9.35  5.66 11.09  9.83  5.44 10.11  6.39 11.93  8.62 12.06  6.02\n",
      "  8.85  5.25  8.66  6.73 10.21 11.59 13.87  7.77 10.39  5.54  6.62 13.33\n",
      "  6.24 12.59  6.3   6.79  8.28  9.03  8.07  5.52 12.14 10.59  7.54  7.67\n",
      "  5.47  8.81  8.51 13.45  8.77  6.43 12.01 12.08  7.07  6.51  6.84  9.48\n",
      " 13.78 11.54 11.67  8.13 10.79  7.13  4.72  4.64  8.96 13.03  6.07  3.51\n",
      "  6.83  6.12  9.31  9.58  4.68  5.32  9.26 11.52  9.11 10.55 11.47  9.3\n",
      " 13.82  8.44  5.77 10.96 11.74  8.9  10.47  7.85 10.92  4.74  9.74 10.43\n",
      "  9.96 10.18  9.54  7.89 12.36  8.54 10.07  9.46  7.3  11.16  9.16 10.19\n",
      "  5.99 10.88  5.8   7.19  4.55  8.31  8.01 14.43  8.3  14.3   6.53  8.2\n",
      " 11.31 13.    6.42  4.24  7.44  7.51 13.1   9.49  6.14  8.76  6.65 10.56\n",
      "  6.72  8.29 12.09  5.39  2.96  7.59  7.24  4.28  9.7   8.83 13.3  11.37\n",
      "  9.33  5.01  3.26 11.71  8.43  9.68 15.56  9.8   3.61  6.96 11.61 12.81\n",
      " 10.87 13.84  5.03  5.17  2.03 10.34  9.34  7.95 10.09  9.95  7.11  9.22\n",
      "  6.13 11.05  9.89  9.39 14.06 10.26 13.31 15.43 16.39  6.27 10.64 11.5\n",
      " 12.48  8.27 13.53 10.36 12.24  8.69 10.52  9.07 11.51  9.25  8.72  6.78\n",
      "  8.6  11.84  5.78  5.85 12.3   5.76 12.07  9.6   8.84 12.39 10.1   9.73\n",
      "  2.85  6.66  2.45  5.28 11.73 10.75  7.74  6.76  6.    7.58 13.69  7.93\n",
      "  7.68  9.75  4.96  5.49 11.83  7.18  9.19  7.7   7.25 10.74  4.27 13.8\n",
      "  9.12  4.75  7.78 11.63  7.55  2.25  9.45  9.86  7.71  4.95  7.4  11.17\n",
      " 11.33  6.82 13.7   1.97 10.89 12.77 10.31  5.23  5.27  9.41  6.09 10.61\n",
      "  7.29  4.23  7.57  3.67 12.69 14.5   5.95  7.87  5.96  5.94 12.23  4.9\n",
      " 12.33  6.89  9.67 12.68 12.87  3.7   6.04 13.13 15.74 11.87  4.7   4.67\n",
      "  7.05  5.42  4.09  5.73  9.47  8.05  6.87  3.71 15.86  7.49 11.69  6.46\n",
      " 10.45 12.9   5.41 11.26  1.04  6.49  6.37 12.21  6.77 12.65  7.86  9.44\n",
      "  4.3   7.38  5.02 10.63  2.86 17.19  8.67  8.37  6.9  10.93 10.38  7.36\n",
      " 10.27 10.95  6.11  4.45 11.9  15.01 12.84  7.45  6.98 11.72  7.56 11.38\n",
      " 10.    4.42  9.81  5.56  6.01 10.12 12.4  16.99  5.68 11.64  3.78  7.82\n",
      "  9.85 13.74 12.71 10.98 10.01  9.52  7.31  8.35 11.35  9.5  14.03  3.2\n",
      "  7.72 13.22 10.7   8.99 10.6  13.02  9.77 12.58 12.35 12.2  11.4  13.91\n",
      "  3.57 14.65 12.28  5.13 10.72 12.86 14.    7.12 12.17  4.71  6.28  8.\n",
      "  7.01  5.91  5.2  12.   12.02 12.88  7.28  5.4  12.04  5.24 10.3  10.41\n",
      " 13.41 12.72  9.08  7.08 13.5   5.35 12.45  5.3  10.32  5.15 12.67  5.22\n",
      "  5.57  3.94  4.41 13.27 10.24  4.25 12.89  5.72 12.5  11.29  3.25 11.53\n",
      "  9.82  7.26  4.1  10.37  4.98  6.74 12.52 14.56  8.34  3.82  3.86 13.97\n",
      " 11.57  6.5  13.58 14.32 13.75 11.14 14.18  9.13  4.46  4.83  9.69 14.13\n",
      "  7.16  7.98 13.66 14.78 11.2   9.93 11.    5.29  9.92  4.29 11.1  10.51\n",
      " 12.49  4.04 12.94  7.09  6.71  7.94  5.31  5.98  7.2  14.82 13.21 12.32\n",
      " 10.58  4.92  6.2   4.47 11.98  6.18  7.81  4.54  5.37  7.17  5.33 14.1\n",
      "  5.7  12.18  8.98  5.1  14.67 13.95 16.55 11.18  4.44  4.73  2.55  6.31\n",
      "  2.43  9.24  7.37 13.42 12.42 11.8  14.45  2.89 13.23 12.6  13.18 12.19\n",
      " 14.81  6.55 11.3  12.27 13.98  8.23 15.49  6.47 13.48 13.59 13.25 17.77\n",
      " 13.9   3.97 11.56 14.08 13.6   6.26  4.61 12.76 15.76  6.38  3.6  12.8\n",
      "  5.9   7.97  5.   10.97  5.88 12.34 12.03 14.97 15.06 12.85  6.54 11.24\n",
      " 12.64  7.06  5.38 13.14  3.99  3.32  4.51  4.12  3.93  2.4  11.75  4.03\n",
      " 15.85  6.81 14.25 14.09 16.42  6.7  12.74  2.76 12.12  6.99  6.68 11.81\n",
      "  7.96  5.06 13.16  2.13 13.17  5.12  5.65 12.37 10.53]\n",
      "\n",
      "=============================================================\n",
      "\n",
      "total_intl_minutes\n",
      "[10.  13.7 12.2  6.6 10.1  6.3  7.5  7.1  8.7 11.2 12.7  9.1 12.3 13.1\n",
      "  5.4 13.8  8.1 13.  10.6  5.7  9.5  7.7 10.3 15.5 14.7 11.1 14.2 12.6\n",
      " 11.8  8.3 14.5 10.5  9.4 14.6  9.2  3.5  8.5 13.2  7.4  8.8 11.   7.8\n",
      "  6.8 11.4  9.3  9.7 10.2  8.   5.8 12.1 12.  11.6  8.2  6.2  7.3  6.1\n",
      " 11.7 15.   9.8 12.4  8.6 10.9 13.9  8.9  7.9  5.3  4.4 12.5 11.3  9.\n",
      "  9.6 13.3 20.   7.2  6.4 14.1 14.3  6.9 11.5 15.8 12.8 16.2  0.  11.9\n",
      "  9.9  8.4 10.8 13.4 10.7 17.6  4.7  2.7 13.5 12.9 14.4 10.4  6.7 15.4\n",
      "  4.5  6.5 15.6  5.9 18.9  7.6  5.   7.  14.  18.  16.  14.8  3.7  2.\n",
      "  4.8 15.3  6.  13.6 17.2 17.5  5.6 18.2  3.6 16.5  4.6  5.1  4.1 16.3\n",
      " 14.9 16.4 16.7  1.3 15.2 15.1 15.9  5.5 16.1  4.  16.9  5.2  4.2 15.7\n",
      " 17.   3.9  3.8  2.2 17.1  4.9 17.9 17.3 18.4 17.8  4.3  2.9  3.1  3.3\n",
      "  2.6  3.4  1.1 18.3 16.6  2.1  2.4  2.5]\n",
      "\n",
      "=============================================================\n",
      "\n",
      "total_intl_calls\n",
      "[ 3  5  7  6  4  2  9 19  1 10 15  8 11  0 12 13 18 14 16 20 17]\n",
      "\n",
      "=============================================================\n",
      "\n",
      "total_intl_charge\n",
      "[2.7  3.7  3.29 1.78 2.73 1.7  2.03 1.92 2.35 3.02 3.43 2.46 3.32 3.54\n",
      " 1.46 3.73 2.19 3.51 2.86 1.54 2.57 2.08 2.78 4.19 3.97 3.   3.83 3.4\n",
      " 3.19 2.24 3.92 2.84 2.54 3.94 2.48 0.95 2.3  3.56 2.   2.38 2.97 2.11\n",
      " 1.84 3.08 2.51 2.62 2.75 2.16 1.57 3.27 3.24 3.13 2.21 1.67 1.97 1.65\n",
      " 3.16 4.05 2.65 3.35 2.32 2.94 3.75 2.4  2.13 1.43 1.19 3.38 3.05 2.43\n",
      " 2.59 3.59 5.4  1.94 1.73 3.81 3.86 1.86 3.11 4.27 3.46 4.37 0.   3.21\n",
      " 2.67 2.27 2.92 3.62 2.89 4.75 1.27 0.73 3.65 3.48 3.89 2.81 1.81 4.16\n",
      " 1.22 1.76 4.21 1.59 5.1  2.05 1.35 1.89 3.78 4.86 4.32 4.   1.   0.54\n",
      " 1.3  4.13 1.62 3.67 4.64 4.73 1.51 4.91 0.97 4.46 1.24 1.38 1.11 4.4\n",
      " 4.02 4.43 4.51 0.35 4.1  4.08 4.29 1.49 4.35 1.08 4.56 1.4  1.13 4.24\n",
      " 4.59 1.05 1.03 0.59 4.62 1.32 4.83 4.67 4.97 4.81 1.16 0.78 0.84 0.89\n",
      " 0.7  0.92 0.3  4.94 4.48 0.57 0.65 0.68]\n",
      "\n",
      "=============================================================\n",
      "\n",
      "customer_service_calls\n",
      "[1 0 2 3 4 5 7 9 6 8]\n",
      "\n",
      "=============================================================\n",
      "\n",
      "churn\n",
      "[False  True]\n",
      "\n",
      "=============================================================\n",
      "\n"
     ]
    }
   ],
   "source": [
    "#Inspect Unique values of columns to identify potential errors or null values\n",
    "for col in df.columns:\n",
    "    print(col)\n",
    "    print(df[col].unique())\n",
    "    print('\\n=============================================================\\n')"
   ]
  },
  {
   "cell_type": "markdown",
   "id": "15867747",
   "metadata": {},
   "source": [
    "No values of surprise or suspision here.\n",
    "\n",
    "* All states look normal, as expected.\n",
    "* We can see that columns international_plan and voice_mail_plan are binary features with yes/no values - we might want to change these types later to booleans or 1/0.\n",
    "* It is interesting to see that there are only 3 area_codes. It might be worth investigating whether a particular area code has higher churn than another or if it would be safe to simply drop area code. Also, area code would actually be more of a categorical feature rather than an int feature so we will change this data type.\n",
    "* It would be safe to assume that phone_number has no bearing on whether a person decides to leave the company and so we might choose to drop this column.\n",
    "* account_length appears to be discrete, with only integer values. The highest value being 243 suggests that this column represents the total number of days the cusomter has had their account open with the company. From the length of time, this dataset must contain relatively new cusomters.\n",
    "* number_vmail_messages appears to be a discrete variable and there aren't abnormal values here. The highest number of voice mails is 51 which might be high for the average person but could be an indicator of churn so I feel it is worth keeping.\n",
    "* customer_service_calls values are also a discrete variable as expected with no apparent abnormal values.\n",
    "* All minutes, calls and charges columns have reasonable values and nothing stands out as unusual at this stage.\n",
    "* And of course our target churn has just True/False values as expected."
   ]
  },
  {
   "cell_type": "markdown",
   "id": "fdcd18f2",
   "metadata": {},
   "source": [
    "#### Handling Categorical Variables"
   ]
  },
  {
   "cell_type": "markdown",
   "id": "31ca78b1",
   "metadata": {},
   "source": [
    "##### Cateogorical vs. Continuous Features\n",
    "\n",
    "##### Categorical\n",
    "* 'state' - Residing state of customer\n",
    "* 'area code' - area code of customer\n",
    "* 'international plan' - international plan included (y/n)\n",
    "* 'voice mail plan' - voice mail plan included (y/n)\n",
    "\n",
    "##### Continous\n",
    "* 'account length' - duration of customer with business\n",
    "* 'number vmail messages - number of voice mail messages\n",
    "* 'total day minutes' - sum of daytime minutes\n",
    "* 'total day calls' - sum of daytime calls\n",
    "* 'total day charge' - sum of daytime charges\n",
    "* 'total eve minutes' - sum of evening minutes\n",
    "* 'total eve calls' - sum of evening calls\n",
    "* 'total eve charge' - sum of evening charges\n",
    "* 'total night minutes' - sum of nighttime minutes\n",
    "* 'total night calls' - sum of nighttime calls\n",
    "* 'total night charge' - sum of nighttime charges\n",
    "* 'total intl minutes' - sum of international minutes\n",
    "* 'total intl calls' - sum of international calls\n",
    "* 'total intl charge' - sum of international charges\n",
    "* 'number customer service calls' - number of customer service calls"
   ]
  },
  {
   "cell_type": "code",
   "execution_count": 13,
   "id": "9dfe41f0",
   "metadata": {
    "ExecuteTime": {
     "end_time": "2022-07-22T20:45:59.050370Z",
     "start_time": "2022-07-22T20:45:59.040399Z"
    }
   },
   "outputs": [],
   "source": [
    "#Change object datatypes to numeric\n",
    "#International Plan\n",
    "df.international_plan.replace(('yes', 'no'), (1, 0), inplace = True)"
   ]
  },
  {
   "cell_type": "code",
   "execution_count": 14,
   "id": "66b3b066",
   "metadata": {
    "ExecuteTime": {
     "end_time": "2022-07-22T20:45:59.270810Z",
     "start_time": "2022-07-22T20:45:59.259812Z"
    }
   },
   "outputs": [],
   "source": [
    "#Voicemail Plan\n",
    "df.voice_mail_plan.replace(('yes', 'no'), (1, 0), inplace = True)"
   ]
  },
  {
   "cell_type": "code",
   "execution_count": 15,
   "id": "c03da7de",
   "metadata": {
    "ExecuteTime": {
     "end_time": "2022-07-22T20:45:59.556018Z",
     "start_time": "2022-07-22T20:45:59.541065Z"
    }
   },
   "outputs": [],
   "source": [
    "#Change object datafram to category, for later steps - maybe OneHotEncoding\n",
    "df.state = df.state.astype('category')"
   ]
  },
  {
   "cell_type": "markdown",
   "id": "99522d04",
   "metadata": {},
   "source": [
    "#### Drop irrelevant features"
   ]
  },
  {
   "cell_type": "code",
   "execution_count": 16,
   "id": "677d4662",
   "metadata": {
    "ExecuteTime": {
     "end_time": "2022-07-22T20:46:00.141484Z",
     "start_time": "2022-07-22T20:46:00.133477Z"
    }
   },
   "outputs": [],
   "source": [
    "#Phone numbers are private information and might not have an impact \n",
    "df = df.drop(columns='phone_number')"
   ]
  },
  {
   "cell_type": "markdown",
   "id": "687b1c8b",
   "metadata": {},
   "source": [
    "### Investigate Features"
   ]
  },
  {
   "cell_type": "markdown",
   "id": "abe8a15f",
   "metadata": {},
   "source": [
    "#### Churn"
   ]
  },
  {
   "cell_type": "code",
   "execution_count": 17,
   "id": "4f639aa6",
   "metadata": {
    "ExecuteTime": {
     "end_time": "2022-07-22T20:46:01.201655Z",
     "start_time": "2022-07-22T20:46:01.179679Z"
    }
   },
   "outputs": [
    {
     "data": {
      "text/plain": [
       "False    2850\n",
       "True      483\n",
       "Name: churn, dtype: int64"
      ]
     },
     "execution_count": 17,
     "metadata": {},
     "output_type": "execute_result"
    }
   ],
   "source": [
    "#Explore Target Value: Churn\n",
    "df.churn.value_counts()"
   ]
  },
  {
   "cell_type": "code",
   "execution_count": 18,
   "id": "1aba815f",
   "metadata": {
    "ExecuteTime": {
     "end_time": "2022-07-22T20:46:01.488847Z",
     "start_time": "2022-07-22T20:46:01.477911Z"
    }
   },
   "outputs": [],
   "source": [
    "#Change object datatypes to numeric\n",
    "df.churn.replace((True, False), (1, 0), inplace = True)"
   ]
  },
  {
   "cell_type": "code",
   "execution_count": 19,
   "id": "94041e3d",
   "metadata": {
    "ExecuteTime": {
     "end_time": "2022-07-22T20:46:01.833959Z",
     "start_time": "2022-07-22T20:46:01.801019Z"
    }
   },
   "outputs": [
    {
     "data": {
      "text/plain": [
       "0    85.508551\n",
       "1    14.491449\n",
       "Name: churn, dtype: float64"
      ]
     },
     "execution_count": 19,
     "metadata": {},
     "output_type": "execute_result"
    }
   ],
   "source": [
    "#Check Churn Percentages\n",
    "df['churn'].value_counts(normalize=True) * 100"
   ]
  },
  {
   "cell_type": "code",
   "execution_count": 20,
   "id": "95970166",
   "metadata": {
    "ExecuteTime": {
     "end_time": "2022-07-22T20:46:02.024416Z",
     "start_time": "2022-07-22T20:46:02.013446Z"
    }
   },
   "outputs": [
    {
     "name": "stdout",
     "output_type": "stream",
     "text": [
      "Churn Rate: 14.49%\n"
     ]
    }
   ],
   "source": [
    "#Verify Churn Rate Percentages\n",
    "churn_rate = round(sum(df.churn) / len(df.churn) * 100, 2)\n",
    "print('Churn Rate: {0}%'.format(churn_rate))"
   ]
  },
  {
   "cell_type": "code",
   "execution_count": 21,
   "id": "3f3f2318",
   "metadata": {
    "ExecuteTime": {
     "end_time": "2022-07-22T20:46:02.672715Z",
     "start_time": "2022-07-22T20:46:02.281730Z"
    }
   },
   "outputs": [
    {
     "data": {
      "text/plain": [
       "Text(0, 0.5, 'Clientele Count')"
      ]
     },
     "execution_count": 21,
     "metadata": {},
     "output_type": "execute_result"
    },
    {
     "data": {
      "image/png": "[encoded data removed]",
      "text/plain": [
       "<Figure size 432x288 with 1 Axes>"
      ]
     },
     "metadata": {},
     "output_type": "display_data"
    }
   ],
   "source": [
    "#Visualization - 'churn'\n",
    "sns.countplot(x = 'churn',data = df, palette='dark')\n",
    "plt.xlabel(\"Clientele Churn\", size=14)\n",
    "plt.ylabel(\"Clientele Count\", size=14)"
   ]
  },
  {
   "cell_type": "markdown",
   "id": "7b358c4c",
   "metadata": {},
   "source": [
    "There appears to be some class imbalance in our target variable. This could lead to the minority class, churned clients, not being properly represented in the model. Lets address this using SMOTE to ensure that the minority class is well accounted for.\n",
    "\n",
    "SMOTE stands for Synthetic Minority Oversampling. Here, the algorithm generates new sample data by creating 'synthetic' examples that are combinations of the closest minority class cases"
   ]
  },
  {
   "cell_type": "markdown",
   "id": "581dd47a",
   "metadata": {
    "ExecuteTime": {
     "end_time": "2022-07-01T20:35:11.167982Z",
     "start_time": "2022-07-01T20:35:11.149036Z"
    }
   },
   "source": [
    "#### State"
   ]
  },
  {
   "cell_type": "code",
   "execution_count": 22,
   "id": "ee5f4f33",
   "metadata": {
    "ExecuteTime": {
     "end_time": "2022-07-22T20:46:08.719537Z",
     "start_time": "2022-07-22T20:46:03.297011Z"
    }
   },
   "outputs": [
    {
     "data": {
      "text/plain": [
       "Text(0, 0.5, 'Counts of Clientele')"
      ]
     },
     "execution_count": 22,
     "metadata": {},
     "output_type": "execute_result"
    },
    {
     "data": {
      "image/png": "[encoded data removed]",
      "text/plain": [
       "<Figure size 1296x576 with 1 Axes>"
      ]
     },
     "metadata": {},
     "output_type": "display_data"
    }
   ],
   "source": [
    "#Visualization - 'state'\n",
    "fig,ax = plt.subplots(figsize = (18,8)) \n",
    "x = df.groupby('state')[['churn']].size()\n",
    "x.plot.bar()\n",
    "plt.title('Clientele by State', fontsize = 25)\n",
    "plt.xlabel(\"States of Clientele\", size=14)\n",
    "plt.ylabel(\"Counts of Clientele\", size=14)"
   ]
  },
  {
   "cell_type": "code",
   "execution_count": 21,
   "id": "d098e204",
   "metadata": {
    "ExecuteTime": {
     "end_time": "2022-07-22T19:56:22.373783Z",
     "start_time": "2022-07-22T19:56:22.354834Z"
    }
   },
   "outputs": [],
   "source": [
    "#Groupby State and Churn\n",
    "churn_by_state = df.groupby('state')['churn'].value_counts(normalize=True)\n",
    "churn_by_state = pd.DataFrame(churn_by_state)\n",
    "churn_by_state.columns = ['value']\n",
    "churn_by_state = churn_by_state.reset_index()"
   ]
  },
  {
   "cell_type": "code",
   "execution_count": 22,
   "id": "36f068c9",
   "metadata": {
    "ExecuteTime": {
     "end_time": "2022-07-22T19:56:32.110767Z",
     "start_time": "2022-07-22T19:56:23.389066Z"
    }
   },
   "outputs": [
    {
     "data": {
      "image/png": "[encoded data removed]",
      "text/plain": [
       "<Figure size 1841.62x720 with 1 Axes>"
      ]
     },
     "metadata": {},
     "output_type": "display_data"
    },
    {
     "data": {
      "text/plain": [
       "<Figure size 432x288 with 0 Axes>"
      ]
     },
     "metadata": {},
     "output_type": "display_data"
    }
   ],
   "source": [
    "# Plot\n",
    "sns.catplot(data=churn_by_state, kind='bar',\n",
    "            x='state', y='value', hue='churn', \n",
    "            alpha=.6, height=10, aspect=2.5)\n",
    "\n",
    "# Graph details\n",
    "plt.title('Churn By State', fontsize=20)\n",
    "plt.ylabel('Percentage of Customers', fontsize=16)\n",
    "plt.xlabel('State', fontsize=16)\n",
    "plt.legend(loc=(1, .8), fontsize=20)\n",
    "\n",
    "# hlines on highest and lowest churns\n",
    "plt.hlines(y=.27, xmin=0, xmax=51, color='gray')\n",
    "plt.hlines(y=.048, xmin=0, xmax=51, color='gray')\n",
    "\n",
    "plt.show()\n",
    "plt.savefig('Churn by State');"
   ]
  },
  {
   "cell_type": "code",
   "execution_count": 23,
   "id": "4980ea21",
   "metadata": {
    "ExecuteTime": {
     "end_time": "2022-07-22T19:56:34.259022Z",
     "start_time": "2022-07-22T19:56:34.237082Z"
    }
   },
   "outputs": [
    {
     "data": {
      "text/html": [
       "<div>\n",
       "<style scoped>\n",
       "    .dataframe tbody tr th:only-of-type {\n",
       "        vertical-align: middle;\n",
       "    }\n",
       "\n",
       "    .dataframe tbody tr th {\n",
       "        vertical-align: top;\n",
       "    }\n",
       "\n",
       "    .dataframe thead th {\n",
       "        text-align: right;\n",
       "    }\n",
       "</style>\n",
       "<table border=\"1\" class=\"dataframe\">\n",
       "  <thead>\n",
       "    <tr style=\"text-align: right;\">\n",
       "      <th></th>\n",
       "      <th>state</th>\n",
       "      <th>churn</th>\n",
       "      <th>value</th>\n",
       "    </tr>\n",
       "  </thead>\n",
       "  <tbody>\n",
       "    <tr>\n",
       "      <th>9</th>\n",
       "      <td>CA</td>\n",
       "      <td>1</td>\n",
       "      <td>0.264706</td>\n",
       "    </tr>\n",
       "    <tr>\n",
       "      <th>63</th>\n",
       "      <td>NJ</td>\n",
       "      <td>1</td>\n",
       "      <td>0.264706</td>\n",
       "    </tr>\n",
       "    <tr>\n",
       "      <th>87</th>\n",
       "      <td>TX</td>\n",
       "      <td>1</td>\n",
       "      <td>0.250000</td>\n",
       "    </tr>\n",
       "  </tbody>\n",
       "</table>\n",
       "</div>"
      ],
      "text/plain": [
       "   state  churn     value\n",
       "9     CA      1  0.264706\n",
       "63    NJ      1  0.264706\n",
       "87    TX      1  0.250000"
      ]
     },
     "execution_count": 23,
     "metadata": {},
     "output_type": "execute_result"
    }
   ],
   "source": [
    "#States with highest churn\n",
    "churn_by_state.loc[(churn_by_state['value'] >= .25) & (churn_by_state['churn'] == 1)]"
   ]
  },
  {
   "cell_type": "code",
   "execution_count": 24,
   "id": "f1d43d63",
   "metadata": {
    "ExecuteTime": {
     "end_time": "2022-07-22T19:56:35.049906Z",
     "start_time": "2022-07-22T19:56:35.029931Z"
    }
   },
   "outputs": [
    {
     "data": {
      "text/html": [
       "<div>\n",
       "<style scoped>\n",
       "    .dataframe tbody tr th:only-of-type {\n",
       "        vertical-align: middle;\n",
       "    }\n",
       "\n",
       "    .dataframe tbody tr th {\n",
       "        vertical-align: top;\n",
       "    }\n",
       "\n",
       "    .dataframe thead th {\n",
       "        text-align: right;\n",
       "    }\n",
       "</style>\n",
       "<table border=\"1\" class=\"dataframe\">\n",
       "  <thead>\n",
       "    <tr style=\"text-align: right;\">\n",
       "      <th></th>\n",
       "      <th>state</th>\n",
       "      <th>churn</th>\n",
       "      <th>value</th>\n",
       "    </tr>\n",
       "  </thead>\n",
       "  <tbody>\n",
       "    <tr>\n",
       "      <th>1</th>\n",
       "      <td>AK</td>\n",
       "      <td>1</td>\n",
       "      <td>0.057692</td>\n",
       "    </tr>\n",
       "    <tr>\n",
       "      <th>23</th>\n",
       "      <td>HI</td>\n",
       "      <td>1</td>\n",
       "      <td>0.056604</td>\n",
       "    </tr>\n",
       "  </tbody>\n",
       "</table>\n",
       "</div>"
      ],
      "text/plain": [
       "   state  churn     value\n",
       "1     AK      1  0.057692\n",
       "23    HI      1  0.056604"
      ]
     },
     "execution_count": 24,
     "metadata": {},
     "output_type": "execute_result"
    }
   ],
   "source": [
    "#States with lowest churn\n",
    "churn_by_state.loc[churn_by_state['value'] <= .06]"
   ]
  },
  {
   "cell_type": "markdown",
   "id": "3ef5bdfe",
   "metadata": {},
   "source": [
    "It is clear that there are certain states with much higher churn. When grouped by state, California, New Jersey, and Texas have the highest churn than any other state. States with the least churn include Arkansas and Hawaii."
   ]
  },
  {
   "cell_type": "markdown",
   "id": "c7d7a063",
   "metadata": {},
   "source": [
    "#### Account Length"
   ]
  },
  {
   "cell_type": "code",
   "execution_count": 25,
   "id": "f23e2650",
   "metadata": {
    "ExecuteTime": {
     "end_time": "2022-07-22T19:56:38.800840Z",
     "start_time": "2022-07-22T19:56:38.777935Z"
    }
   },
   "outputs": [
    {
     "data": {
      "text/plain": [
       "count    3333.000000\n",
       "mean      101.064806\n",
       "std        39.822106\n",
       "min         1.000000\n",
       "25%        74.000000\n",
       "50%       101.000000\n",
       "75%       127.000000\n",
       "max       243.000000\n",
       "Name: account_length, dtype: float64"
      ]
     },
     "execution_count": 25,
     "metadata": {},
     "output_type": "execute_result"
    }
   ],
   "source": [
    "#Descriptive Statistics of 'Account_Length'\n",
    "df['account_length'].describe()"
   ]
  },
  {
   "cell_type": "markdown",
   "id": "51c206fd",
   "metadata": {},
   "source": [
    "The max account duration was 243 months, and the average account length was 101 months."
   ]
  },
  {
   "cell_type": "code",
   "execution_count": 26,
   "id": "c8bb7819",
   "metadata": {
    "ExecuteTime": {
     "end_time": "2022-07-22T19:56:40.206083Z",
     "start_time": "2022-07-22T19:56:39.834080Z"
    }
   },
   "outputs": [
    {
     "data": {
      "text/plain": [
       "Text(0, 0.5, 'Customer Count')"
      ]
     },
     "execution_count": 26,
     "metadata": {},
     "output_type": "execute_result"
    },
    {
     "data": {
      "image/png": "[encoded data removed]",
      "text/plain": [
       "<Figure size 432x288 with 1 Axes>"
      ]
     },
     "metadata": {},
     "output_type": "display_data"
    }
   ],
   "source": [
    "#Plot distribution of Account Length\n",
    "sns.histplot(df['account_length'], bins=10)\n",
    "plt.title('Distribution of Customer Account Length', fontsize = 15)\n",
    "plt.xlabel(\"Customer Account Length\", size=12)\n",
    "plt.ylabel(\"Customer Count\", size=12)"
   ]
  },
  {
   "cell_type": "markdown",
   "id": "7de946ff",
   "metadata": {},
   "source": [
    "##### Facet Function (to compare features vs churn)"
   ]
  },
  {
   "cell_type": "code",
   "execution_count": 27,
   "id": "3b7f3fa1",
   "metadata": {
    "ExecuteTime": {
     "end_time": "2022-07-22T19:56:40.990001Z",
     "start_time": "2022-07-22T19:56:40.970042Z"
    }
   },
   "outputs": [],
   "source": [
    "#Define Function to compare features with churn features\n",
    "def facet(data,y):\n",
    "    p = sns.FacetGrid(data,col = 'churn',size = 5)\n",
    "    p.map(plt.hist,y,alpha = 0.5)\n",
    "    p.add_legend()\n",
    "    plt.show()"
   ]
  },
  {
   "cell_type": "code",
   "execution_count": 29,
   "id": "64cc990d",
   "metadata": {
    "ExecuteTime": {
     "end_time": "2022-07-22T19:56:52.182230Z",
     "start_time": "2022-07-22T19:56:51.241744Z"
    }
   },
   "outputs": [
    {
     "data": {
      "image/png": "[encoded data removed]",
      "text/plain": [
       "<Figure size 728x360 with 2 Axes>"
      ]
     },
     "metadata": {},
     "output_type": "display_data"
    }
   ],
   "source": [
    "facet(df,'account_length')"
   ]
  },
  {
   "cell_type": "markdown",
   "id": "4ca93418",
   "metadata": {},
   "source": [
    "Most of the customers had the service for between 50 to 150 months"
   ]
  },
  {
   "cell_type": "markdown",
   "id": "91dfd3d0",
   "metadata": {},
   "source": [
    "#### Area Code"
   ]
  },
  {
   "cell_type": "code",
   "execution_count": 30,
   "id": "61a85845",
   "metadata": {
    "ExecuteTime": {
     "end_time": "2022-07-22T19:56:52.465438Z",
     "start_time": "2022-07-22T19:56:52.454468Z"
    }
   },
   "outputs": [
    {
     "data": {
      "text/plain": [
       "415    1655\n",
       "510     840\n",
       "408     838\n",
       "Name: area_code, dtype: int64"
      ]
     },
     "execution_count": 30,
     "metadata": {},
     "output_type": "execute_result"
    }
   ],
   "source": [
    "#Area Code value counts\n",
    "df['area_code'].value_counts()"
   ]
  },
  {
   "cell_type": "code",
   "execution_count": 31,
   "id": "87374dcf",
   "metadata": {
    "ExecuteTime": {
     "end_time": "2022-07-22T19:56:52.811512Z",
     "start_time": "2022-07-22T19:56:52.796553Z"
    }
   },
   "outputs": [
    {
     "data": {
      "text/plain": [
       "415    49.654965\n",
       "510    25.202520\n",
       "408    25.142514\n",
       "Name: area_code, dtype: float64"
      ]
     },
     "execution_count": 31,
     "metadata": {},
     "output_type": "execute_result"
    }
   ],
   "source": [
    "#Area Code value percentages\n",
    "df['area_code'].value_counts(normalize=True) * 100"
   ]
  },
  {
   "cell_type": "markdown",
   "id": "f1d3d11c",
   "metadata": {},
   "source": [
    "Approximately half of the customers use the area code 415. Even though there are 51 states in our data sets, there are only three area code. We can investigate further in later steps."
   ]
  },
  {
   "cell_type": "code",
   "execution_count": 32,
   "id": "19cd990a",
   "metadata": {
    "ExecuteTime": {
     "end_time": "2022-07-22T19:56:53.967421Z",
     "start_time": "2022-07-22T19:56:53.256324Z"
    }
   },
   "outputs": [
    {
     "name": "stdout",
     "output_type": "stream",
     "text": [
      "area_code\n",
      "408    0.145585\n",
      "415    0.142598\n",
      "510    0.148810\n",
      "Name: churn, dtype: float64\n"
     ]
    },
    {
     "data": {
      "image/png": "[encoded data removed]",
      "text/plain": [
       "<Figure size 1080x576 with 1 Axes>"
      ]
     },
     "metadata": {},
     "output_type": "display_data"
    }
   ],
   "source": [
    "#Percentage of churn by area code\n",
    "print(df.groupby([\"area_code\"])['churn'].mean())\n",
    "\n",
    "fig, ax = plt.subplots(figsize = (15, 8))\n",
    "df.groupby(['area_code', 'churn']).size().unstack().plot(kind='bar', stacked=True, ax = ax);\n",
    "plt.title('Number of Customers per Area Code - Split by Churn', fontsize = 25)\n",
    "ax.tick_params(axis = 'both', labelsize = 15)\n",
    "plt.xlabel('Area Code', fontsize = 20)\n",
    "plt.ylabel('# of Customers', fontsize = 20)\n",
    "plt.tight_layout()\n",
    "plt.savefig('Customers_Per_Area_Code');"
   ]
  },
  {
   "cell_type": "markdown",
   "id": "8edf389a",
   "metadata": {},
   "source": [
    "We can see here that customer churn is a consistent rate of roughly 14-15% across all three area codes. Area code 415 has the highest number of customers but still churns the same rate as the other two area codes. For this reason, we might choose to drop area code from  the dataset."
   ]
  },
  {
   "cell_type": "markdown",
   "id": "66deab78",
   "metadata": {},
   "source": [
    "#### International Calls"
   ]
  },
  {
   "cell_type": "code",
   "execution_count": 33,
   "id": "a226ad07",
   "metadata": {
    "ExecuteTime": {
     "end_time": "2022-07-22T19:56:54.265623Z",
     "start_time": "2022-07-22T19:56:54.238695Z"
    }
   },
   "outputs": [
    {
     "data": {
      "text/plain": [
       "0    3010\n",
       "1     323\n",
       "Name: international_plan, dtype: int64"
      ]
     },
     "execution_count": 33,
     "metadata": {},
     "output_type": "execute_result"
    }
   ],
   "source": [
    "#Review International Plan counts\n",
    "df['international_plan'].value_counts()"
   ]
  },
  {
   "cell_type": "code",
   "execution_count": 34,
   "id": "aaed5e94",
   "metadata": {
    "ExecuteTime": {
     "end_time": "2022-07-22T19:56:54.549861Z",
     "start_time": "2022-07-22T19:56:54.522935Z"
    }
   },
   "outputs": [
    {
     "data": {
      "text/plain": [
       "0    90.309031\n",
       "1     9.690969\n",
       "Name: international_plan, dtype: float64"
      ]
     },
     "execution_count": 34,
     "metadata": {},
     "output_type": "execute_result"
    }
   ],
   "source": [
    "#International Plan percentages\n",
    "df['international_plan'].value_counts(normalize=True) * 100"
   ]
  },
  {
   "cell_type": "markdown",
   "id": "ebbab6fd",
   "metadata": {},
   "source": [
    "About 9.7% of customers had the international plan"
   ]
  },
  {
   "cell_type": "code",
   "execution_count": 35,
   "id": "eb4f675e",
   "metadata": {
    "ExecuteTime": {
     "end_time": "2022-07-22T19:56:54.849064Z",
     "start_time": "2022-07-22T19:56:54.822133Z"
    }
   },
   "outputs": [
    {
     "name": "stdout",
     "output_type": "stream",
     "text": [
      "[0 1]\n",
      "Percentage of customers which made international calls but didn't have a plan: 90.26%\n"
     ]
    }
   ],
   "source": [
    "#Are there any customers which made international calls without an internation plan?\n",
    "print(df[df['total_intl_calls'] > 0]['international_plan'].unique())\n",
    "\n",
    "#Yes, there were customers which didn't have an international plan, but made international calls\n",
    "\n",
    "num_cust_intl_calls_without_plan = len(df[(df['total_intl_calls'] > 0) & (df['international_plan'] == 0)])\n",
    "num_cust_made_intl_calls = len(df[df['total_intl_calls'] > 0])\n",
    "print('Percentage of customers which made international calls but didn\\'t have a plan: {:.2f}%'.format(num_cust_intl_calls_without_plan / num_cust_made_intl_calls * 100))"
   ]
  },
  {
   "cell_type": "markdown",
   "id": "5724e078",
   "metadata": {},
   "source": [
    "Seems like SyriaTel did not market its international call plan effectively.\n",
    "90% of the customers calling internationally did not have the plan.\n",
    "But, it might be possible that most customers made international calls rarely, which would explain the no-plan scenario. Let's check the distribution of international call minutes."
   ]
  },
  {
   "cell_type": "code",
   "execution_count": 36,
   "id": "2c2dd449",
   "metadata": {
    "ExecuteTime": {
     "end_time": "2022-07-22T19:56:55.498325Z",
     "start_time": "2022-07-22T19:56:55.108368Z"
    }
   },
   "outputs": [
    {
     "data": {
      "text/plain": [
       "<AxesSubplot:xlabel='total_intl_calls', ylabel='Count'>"
      ]
     },
     "execution_count": 36,
     "metadata": {},
     "output_type": "execute_result"
    },
    {
     "data": {
      "image/png": "[encoded data removed]",
      "text/plain": [
       "<Figure size 432x288 with 1 Axes>"
      ]
     },
     "metadata": {},
     "output_type": "display_data"
    }
   ],
   "source": [
    "#Distribution of Total International Calls\n",
    "sns.histplot(df['total_intl_calls'], bins=10)"
   ]
  },
  {
   "cell_type": "markdown",
   "id": "3fbe0844",
   "metadata": {},
   "source": [
    "Most of the customer made 2 to 6 international calls in total in their subscription period. This explains the high 90% of customers making international calls without a plan."
   ]
  },
  {
   "cell_type": "code",
   "execution_count": 37,
   "id": "99e06e02",
   "metadata": {
    "ExecuteTime": {
     "end_time": "2022-07-22T19:57:14.552823Z",
     "start_time": "2022-07-22T19:57:13.677169Z"
    }
   },
   "outputs": [
    {
     "data": {
      "image/png": "[encoded data removed]",
      "text/plain": [
       "<Figure size 728x360 with 2 Axes>"
      ]
     },
     "metadata": {},
     "output_type": "display_data"
    }
   ],
   "source": [
    "#International Plan vs Churn\n",
    "facet(df,'international_plan')"
   ]
  },
  {
   "cell_type": "code",
   "execution_count": 38,
   "id": "5718ca06",
   "metadata": {
    "ExecuteTime": {
     "end_time": "2022-07-22T19:57:16.154509Z",
     "start_time": "2022-07-22T19:57:15.191119Z"
    }
   },
   "outputs": [
    {
     "data": {
      "image/png": "[encoded data removed]",
      "text/plain": [
       "<Figure size 728x360 with 2 Axes>"
      ]
     },
     "metadata": {},
     "output_type": "display_data"
    }
   ],
   "source": [
    "#Total International Calls vs Churn\n",
    "facet(df,'total_intl_calls')"
   ]
  },
  {
   "cell_type": "code",
   "execution_count": 39,
   "id": "720ce65d",
   "metadata": {
    "ExecuteTime": {
     "end_time": "2022-07-22T19:57:16.642204Z",
     "start_time": "2022-07-22T19:57:16.625282Z"
    }
   },
   "outputs": [
    {
     "data": {
      "text/html": [
       "<div>\n",
       "<style scoped>\n",
       "    .dataframe tbody tr th:only-of-type {\n",
       "        vertical-align: middle;\n",
       "    }\n",
       "\n",
       "    .dataframe tbody tr th {\n",
       "        vertical-align: top;\n",
       "    }\n",
       "\n",
       "    .dataframe thead th {\n",
       "        text-align: right;\n",
       "    }\n",
       "</style>\n",
       "<table border=\"1\" class=\"dataframe\">\n",
       "  <thead>\n",
       "    <tr style=\"text-align: right;\">\n",
       "      <th></th>\n",
       "      <th>churn</th>\n",
       "    </tr>\n",
       "    <tr>\n",
       "      <th>international_plan</th>\n",
       "      <th></th>\n",
       "    </tr>\n",
       "  </thead>\n",
       "  <tbody>\n",
       "    <tr>\n",
       "      <th>0</th>\n",
       "      <td>0.114950</td>\n",
       "    </tr>\n",
       "    <tr>\n",
       "      <th>1</th>\n",
       "      <td>0.424149</td>\n",
       "    </tr>\n",
       "  </tbody>\n",
       "</table>\n",
       "</div>"
      ],
      "text/plain": [
       "                       churn\n",
       "international_plan          \n",
       "0                   0.114950\n",
       "1                   0.424149"
      ]
     },
     "execution_count": 39,
     "metadata": {},
     "output_type": "execute_result"
    }
   ],
   "source": [
    "#Grouby International plan and churn\n",
    "int_plan_churn = pd.DataFrame(df.groupby(['international_plan'])['churn'].mean())\n",
    "int_plan_churn"
   ]
  },
  {
   "cell_type": "code",
   "execution_count": 40,
   "id": "10396a23",
   "metadata": {
    "ExecuteTime": {
     "end_time": "2022-07-22T19:57:18.608973Z",
     "start_time": "2022-07-22T19:57:18.304791Z"
    }
   },
   "outputs": [
    {
     "data": {
      "image/png": "[encoded data removed]",
      "text/plain": [
       "<Figure size 1152x576 with 1 Axes>"
      ]
     },
     "metadata": {},
     "output_type": "display_data"
    }
   ],
   "source": [
    "#Plot\n",
    "fig, ax = plt.subplots(figsize=(16,8))\n",
    "sns.barplot(x = [0, 1], y = 'churn', data = int_plan_churn, ax = ax)\n",
    "plt.title('Churn Percentages for Customers with International Plan', fontsize = 20)\n",
    "ax.tick_params(axis = 'both', labelsize = 10)\n",
    "plt.xlabel('International Plan', fontsize = 15)\n",
    "plt.ylabel('Churn Rate', fontsize = 15)\n",
    "ax.set_xticklabels(['No International Plan', 'Yes International Plan'])\n",
    "plt.tight_layout()"
   ]
  },
  {
   "cell_type": "code",
   "execution_count": 41,
   "id": "159c1a13",
   "metadata": {
    "ExecuteTime": {
     "end_time": "2022-07-22T19:57:21.161204Z",
     "start_time": "2022-07-22T19:57:21.142227Z"
    }
   },
   "outputs": [],
   "source": [
    "#Second Visualization\n",
    "#Create new dataframes with and without international plan\n",
    "df_intl = df.loc[df['international_plan'] == 1]\n",
    "df_non_intl = df.loc[df['international_plan'] == 0]"
   ]
  },
  {
   "cell_type": "code",
   "execution_count": 42,
   "id": "f5c64309",
   "metadata": {
    "ExecuteTime": {
     "end_time": "2022-07-22T19:57:23.312780Z",
     "start_time": "2022-07-22T19:57:23.281828Z"
    }
   },
   "outputs": [
    {
     "data": {
      "text/html": [
       "<div>\n",
       "<style scoped>\n",
       "    .dataframe tbody tr th:only-of-type {\n",
       "        vertical-align: middle;\n",
       "    }\n",
       "\n",
       "    .dataframe tbody tr th {\n",
       "        vertical-align: top;\n",
       "    }\n",
       "\n",
       "    .dataframe thead th {\n",
       "        text-align: right;\n",
       "    }\n",
       "</style>\n",
       "<table border=\"1\" class=\"dataframe\">\n",
       "  <thead>\n",
       "    <tr style=\"text-align: right;\">\n",
       "      <th></th>\n",
       "      <th>churn</th>\n",
       "    </tr>\n",
       "  </thead>\n",
       "  <tbody>\n",
       "    <tr>\n",
       "      <th>0</th>\n",
       "      <td>0.575851</td>\n",
       "    </tr>\n",
       "    <tr>\n",
       "      <th>1</th>\n",
       "      <td>0.424149</td>\n",
       "    </tr>\n",
       "  </tbody>\n",
       "</table>\n",
       "</div>"
      ],
      "text/plain": [
       "      churn\n",
       "0  0.575851\n",
       "1  0.424149"
      ]
     },
     "metadata": {},
     "output_type": "display_data"
    },
    {
     "data": {
      "text/html": [
       "<div>\n",
       "<style scoped>\n",
       "    .dataframe tbody tr th:only-of-type {\n",
       "        vertical-align: middle;\n",
       "    }\n",
       "\n",
       "    .dataframe tbody tr th {\n",
       "        vertical-align: top;\n",
       "    }\n",
       "\n",
       "    .dataframe thead th {\n",
       "        text-align: right;\n",
       "    }\n",
       "</style>\n",
       "<table border=\"1\" class=\"dataframe\">\n",
       "  <thead>\n",
       "    <tr style=\"text-align: right;\">\n",
       "      <th></th>\n",
       "      <th>churn</th>\n",
       "    </tr>\n",
       "  </thead>\n",
       "  <tbody>\n",
       "    <tr>\n",
       "      <th>0</th>\n",
       "      <td>0.88505</td>\n",
       "    </tr>\n",
       "    <tr>\n",
       "      <th>1</th>\n",
       "      <td>0.11495</td>\n",
       "    </tr>\n",
       "  </tbody>\n",
       "</table>\n",
       "</div>"
      ],
      "text/plain": [
       "     churn\n",
       "0  0.88505\n",
       "1  0.11495"
      ]
     },
     "metadata": {},
     "output_type": "display_data"
    }
   ],
   "source": [
    "#Display churn rate for with and without international plan\n",
    "intl_churn = pd.DataFrame(df_intl['churn'].value_counts(normalize=True), columns=['churn'])\n",
    "non_intl_churn = pd.DataFrame(df_non_intl['churn'].value_counts(normalize=True), columns=['churn'])\n",
    "\n",
    "display(intl_churn)\n",
    "display(non_intl_churn)"
   ]
  },
  {
   "cell_type": "code",
   "execution_count": 43,
   "id": "bd642ba9",
   "metadata": {
    "ExecuteTime": {
     "end_time": "2022-07-22T19:57:24.513565Z",
     "start_time": "2022-07-22T19:57:24.163470Z"
    }
   },
   "outputs": [
    {
     "data": {
      "image/png": "[encoded data removed]",
      "text/plain": [
       "<Figure size 720x360 with 2 Axes>"
      ]
     },
     "metadata": {},
     "output_type": "display_data"
    }
   ],
   "source": [
    "#Second Visualization\n",
    "f, axes = plt.subplots(1, 2, figsize=(10, 5), sharey=True)\n",
    "sns.barplot(x=['False', 'True'], y='churn', data=intl_churn, ax=axes[0], palette='Reds')\n",
    "sns.barplot(x=['False', 'True'], y='churn', data=non_intl_churn, ax=axes[1], palette='Reds')\n",
    "axes[0].set_title('International Plan: Yes')\n",
    "axes[1].set_title('International Plan: No')\n",
    "axes[0].set_ylabel('Percentage Churned')\n",
    "axes[1].set_ylabel('Percentage Churned')\n",
    "plt.ylim(0,1)\n",
    "plt.tight_layout()\n",
    "plt.show()"
   ]
  },
  {
   "cell_type": "markdown",
   "id": "5e6ebcc0",
   "metadata": {},
   "source": [
    "#### Customer Service Calls"
   ]
  },
  {
   "cell_type": "code",
   "execution_count": 44,
   "id": "c0ed1fd0",
   "metadata": {
    "ExecuteTime": {
     "end_time": "2022-07-22T19:57:28.163771Z",
     "start_time": "2022-07-22T19:57:28.142825Z"
    }
   },
   "outputs": [
    {
     "data": {
      "text/plain": [
       "1    1181\n",
       "2     759\n",
       "0     697\n",
       "3     429\n",
       "4     166\n",
       "5      66\n",
       "6      22\n",
       "7       9\n",
       "9       2\n",
       "8       2\n",
       "Name: customer_service_calls, dtype: int64"
      ]
     },
     "execution_count": 44,
     "metadata": {},
     "output_type": "execute_result"
    }
   ],
   "source": [
    "#Customer Service calls counts\n",
    "df['customer_service_calls'].value_counts()"
   ]
  },
  {
   "cell_type": "code",
   "execution_count": 45,
   "id": "ba656d87",
   "metadata": {
    "ExecuteTime": {
     "end_time": "2022-07-22T19:57:34.476046Z",
     "start_time": "2022-07-22T19:57:34.462085Z"
    }
   },
   "outputs": [
    {
     "data": {
      "text/plain": [
       "1    35.433543\n",
       "2    22.772277\n",
       "0    20.912091\n",
       "3    12.871287\n",
       "4     4.980498\n",
       "5     1.980198\n",
       "6     0.660066\n",
       "7     0.270027\n",
       "9     0.060006\n",
       "8     0.060006\n",
       "Name: customer_service_calls, dtype: float64"
      ]
     },
     "execution_count": 45,
     "metadata": {},
     "output_type": "execute_result"
    }
   ],
   "source": [
    "#Customer Service Calls Percentages\n",
    "df['customer_service_calls'].value_counts(normalize=True) * 100"
   ]
  },
  {
   "cell_type": "code",
   "execution_count": 46,
   "id": "d0b4525f",
   "metadata": {
    "ExecuteTime": {
     "end_time": "2022-07-22T19:57:37.310710Z",
     "start_time": "2022-07-22T19:57:36.428073Z"
    }
   },
   "outputs": [
    {
     "data": {
      "image/png": "[encoded data removed]",
      "text/plain": [
       "<Figure size 728x360 with 2 Axes>"
      ]
     },
     "metadata": {},
     "output_type": "display_data"
    }
   ],
   "source": [
    "#Compare Customer Service Calls and Churn\n",
    "facet(df,'customer_service_calls')"
   ]
  },
  {
   "cell_type": "code",
   "execution_count": 47,
   "id": "6b4bd186",
   "metadata": {
    "ExecuteTime": {
     "end_time": "2022-07-22T19:57:38.083643Z",
     "start_time": "2022-07-22T19:57:38.059706Z"
    }
   },
   "outputs": [
    {
     "data": {
      "text/html": [
       "<div>\n",
       "<style scoped>\n",
       "    .dataframe tbody tr th:only-of-type {\n",
       "        vertical-align: middle;\n",
       "    }\n",
       "\n",
       "    .dataframe tbody tr th {\n",
       "        vertical-align: top;\n",
       "    }\n",
       "\n",
       "    .dataframe thead th {\n",
       "        text-align: right;\n",
       "    }\n",
       "</style>\n",
       "<table border=\"1\" class=\"dataframe\">\n",
       "  <thead>\n",
       "    <tr style=\"text-align: right;\">\n",
       "      <th></th>\n",
       "      <th>count</th>\n",
       "    </tr>\n",
       "    <tr>\n",
       "      <th>customer_service_calls</th>\n",
       "      <th></th>\n",
       "    </tr>\n",
       "  </thead>\n",
       "  <tbody>\n",
       "    <tr>\n",
       "      <th>0</th>\n",
       "      <td>697</td>\n",
       "    </tr>\n",
       "    <tr>\n",
       "      <th>1</th>\n",
       "      <td>1181</td>\n",
       "    </tr>\n",
       "    <tr>\n",
       "      <th>2</th>\n",
       "      <td>759</td>\n",
       "    </tr>\n",
       "    <tr>\n",
       "      <th>3</th>\n",
       "      <td>429</td>\n",
       "    </tr>\n",
       "    <tr>\n",
       "      <th>4</th>\n",
       "      <td>166</td>\n",
       "    </tr>\n",
       "    <tr>\n",
       "      <th>5</th>\n",
       "      <td>66</td>\n",
       "    </tr>\n",
       "    <tr>\n",
       "      <th>6</th>\n",
       "      <td>22</td>\n",
       "    </tr>\n",
       "    <tr>\n",
       "      <th>7</th>\n",
       "      <td>9</td>\n",
       "    </tr>\n",
       "    <tr>\n",
       "      <th>8</th>\n",
       "      <td>2</td>\n",
       "    </tr>\n",
       "    <tr>\n",
       "      <th>9</th>\n",
       "      <td>2</td>\n",
       "    </tr>\n",
       "  </tbody>\n",
       "</table>\n",
       "</div>"
      ],
      "text/plain": [
       "                        count\n",
       "customer_service_calls       \n",
       "0                         697\n",
       "1                        1181\n",
       "2                         759\n",
       "3                         429\n",
       "4                         166\n",
       "5                          66\n",
       "6                          22\n",
       "7                           9\n",
       "8                           2\n",
       "9                           2"
      ]
     },
     "execution_count": 47,
     "metadata": {},
     "output_type": "execute_result"
    }
   ],
   "source": [
    "#Customer service calls by Churn count\n",
    "customer_service = df.groupby('customer_service_calls')['churn'].agg(['count'])\n",
    "customer_service"
   ]
  },
  {
   "cell_type": "code",
   "execution_count": 48,
   "id": "1a85e02a",
   "metadata": {
    "ExecuteTime": {
     "end_time": "2022-07-22T19:57:39.621559Z",
     "start_time": "2022-07-22T19:57:39.222597Z"
    }
   },
   "outputs": [
    {
     "data": {
      "image/png": "[encoded data removed]",
      "text/plain": [
       "<Figure size 1152x576 with 1 Axes>"
      ]
     },
     "metadata": {},
     "output_type": "display_data"
    },
    {
     "data": {
      "text/plain": [
       "<Figure size 432x288 with 0 Axes>"
      ]
     },
     "metadata": {},
     "output_type": "display_data"
    }
   ],
   "source": [
    "#Plot\n",
    "plt.figure(figsize=(16, 8))\n",
    "splot = sns.barplot(x='customer_service_calls', y='churn',\n",
    "                    data=df, palette='dark', ci=None)\n",
    "# Add annotations to bars\n",
    "for p in splot.patches:\n",
    "    splot.annotate(format(p.get_height(), '.1f'), \n",
    "                   (p.get_x() + p.get_width() / 2., p.get_height()), \n",
    "                   ha = 'center', va = 'center', \n",
    "                   xytext = (0, 9), \n",
    "                   textcoords = 'offset points')\n",
    "plt.title('Customer Service Calls & Churn', fontsize = 20)\n",
    "plt.xlabel('# Customer Service Calls Made', fontsize = 15)\n",
    "plt.ylabel('Churn Rate', fontsize = 15)\n",
    "plt.show()\n",
    "plt.savefig('Customer_Service_Calls_Churn');"
   ]
  },
  {
   "cell_type": "code",
   "execution_count": 49,
   "id": "dccfd0f3",
   "metadata": {
    "ExecuteTime": {
     "end_time": "2022-07-22T19:57:40.435381Z",
     "start_time": "2022-07-22T19:57:40.177042Z"
    }
   },
   "outputs": [
    {
     "data": {
      "image/png": "[encoded data removed]",
      "text/plain": [
       "<Figure size 720x576 with 1 Axes>"
      ]
     },
     "metadata": {},
     "output_type": "display_data"
    }
   ],
   "source": [
    "#Visualize by Box Plot\n",
    "plt.figure(figsize=(10, 8))\n",
    "sns.boxenplot(x='churn', y='customer_service_calls',\n",
    "              data=df, palette= 'dark')\n",
    "\n",
    "plt.title('Distribution of Customer Service Calls and Churn')\n",
    "plt.show()"
   ]
  },
  {
   "cell_type": "code",
   "execution_count": 50,
   "id": "901a5766",
   "metadata": {
    "ExecuteTime": {
     "end_time": "2022-07-22T19:57:41.035745Z",
     "start_time": "2022-07-22T19:57:41.011811Z"
    }
   },
   "outputs": [
    {
     "data": {
      "text/html": [
       "<div>\n",
       "<style scoped>\n",
       "    .dataframe tbody tr th:only-of-type {\n",
       "        vertical-align: middle;\n",
       "    }\n",
       "\n",
       "    .dataframe tbody tr th {\n",
       "        vertical-align: top;\n",
       "    }\n",
       "\n",
       "    .dataframe thead th {\n",
       "        text-align: right;\n",
       "    }\n",
       "</style>\n",
       "<table border=\"1\" class=\"dataframe\">\n",
       "  <thead>\n",
       "    <tr style=\"text-align: right;\">\n",
       "      <th></th>\n",
       "      <th>state</th>\n",
       "      <th>account_length</th>\n",
       "      <th>area_code</th>\n",
       "      <th>international_plan</th>\n",
       "      <th>voice_mail_plan</th>\n",
       "      <th>number_vmail_messages</th>\n",
       "      <th>total_day_minutes</th>\n",
       "      <th>total_day_calls</th>\n",
       "      <th>total_day_charge</th>\n",
       "      <th>total_eve_minutes</th>\n",
       "      <th>total_eve_calls</th>\n",
       "      <th>total_eve_charge</th>\n",
       "      <th>total_night_minutes</th>\n",
       "      <th>total_night_calls</th>\n",
       "      <th>total_night_charge</th>\n",
       "      <th>total_intl_minutes</th>\n",
       "      <th>total_intl_calls</th>\n",
       "      <th>total_intl_charge</th>\n",
       "      <th>customer_service_calls</th>\n",
       "      <th>churn</th>\n",
       "    </tr>\n",
       "  </thead>\n",
       "  <tbody>\n",
       "    <tr>\n",
       "      <th>10</th>\n",
       "      <td>IN</td>\n",
       "      <td>65</td>\n",
       "      <td>415</td>\n",
       "      <td>0</td>\n",
       "      <td>0</td>\n",
       "      <td>0</td>\n",
       "      <td>129.1</td>\n",
       "      <td>137</td>\n",
       "      <td>21.95</td>\n",
       "      <td>228.5</td>\n",
       "      <td>83</td>\n",
       "      <td>19.42</td>\n",
       "      <td>208.8</td>\n",
       "      <td>111</td>\n",
       "      <td>9.40</td>\n",
       "      <td>12.7</td>\n",
       "      <td>6</td>\n",
       "      <td>3.43</td>\n",
       "      <td>4</td>\n",
       "      <td>1</td>\n",
       "    </tr>\n",
       "    <tr>\n",
       "      <th>15</th>\n",
       "      <td>NY</td>\n",
       "      <td>161</td>\n",
       "      <td>415</td>\n",
       "      <td>0</td>\n",
       "      <td>0</td>\n",
       "      <td>0</td>\n",
       "      <td>332.9</td>\n",
       "      <td>67</td>\n",
       "      <td>56.59</td>\n",
       "      <td>317.8</td>\n",
       "      <td>97</td>\n",
       "      <td>27.01</td>\n",
       "      <td>160.6</td>\n",
       "      <td>128</td>\n",
       "      <td>7.23</td>\n",
       "      <td>5.4</td>\n",
       "      <td>9</td>\n",
       "      <td>1.46</td>\n",
       "      <td>4</td>\n",
       "      <td>1</td>\n",
       "    </tr>\n",
       "    <tr>\n",
       "      <th>21</th>\n",
       "      <td>CO</td>\n",
       "      <td>77</td>\n",
       "      <td>408</td>\n",
       "      <td>0</td>\n",
       "      <td>0</td>\n",
       "      <td>0</td>\n",
       "      <td>62.4</td>\n",
       "      <td>89</td>\n",
       "      <td>10.61</td>\n",
       "      <td>169.9</td>\n",
       "      <td>121</td>\n",
       "      <td>14.44</td>\n",
       "      <td>209.6</td>\n",
       "      <td>64</td>\n",
       "      <td>9.43</td>\n",
       "      <td>5.7</td>\n",
       "      <td>6</td>\n",
       "      <td>1.54</td>\n",
       "      <td>5</td>\n",
       "      <td>1</td>\n",
       "    </tr>\n",
       "    <tr>\n",
       "      <th>33</th>\n",
       "      <td>AZ</td>\n",
       "      <td>12</td>\n",
       "      <td>408</td>\n",
       "      <td>0</td>\n",
       "      <td>0</td>\n",
       "      <td>0</td>\n",
       "      <td>249.6</td>\n",
       "      <td>118</td>\n",
       "      <td>42.43</td>\n",
       "      <td>252.4</td>\n",
       "      <td>119</td>\n",
       "      <td>21.45</td>\n",
       "      <td>280.2</td>\n",
       "      <td>90</td>\n",
       "      <td>12.61</td>\n",
       "      <td>11.8</td>\n",
       "      <td>3</td>\n",
       "      <td>3.19</td>\n",
       "      <td>1</td>\n",
       "      <td>1</td>\n",
       "    </tr>\n",
       "    <tr>\n",
       "      <th>41</th>\n",
       "      <td>MD</td>\n",
       "      <td>135</td>\n",
       "      <td>408</td>\n",
       "      <td>1</td>\n",
       "      <td>1</td>\n",
       "      <td>41</td>\n",
       "      <td>173.1</td>\n",
       "      <td>85</td>\n",
       "      <td>29.43</td>\n",
       "      <td>203.9</td>\n",
       "      <td>107</td>\n",
       "      <td>17.33</td>\n",
       "      <td>122.2</td>\n",
       "      <td>78</td>\n",
       "      <td>5.50</td>\n",
       "      <td>14.6</td>\n",
       "      <td>15</td>\n",
       "      <td>3.94</td>\n",
       "      <td>0</td>\n",
       "      <td>1</td>\n",
       "    </tr>\n",
       "  </tbody>\n",
       "</table>\n",
       "</div>"
      ],
      "text/plain": [
       "   state  account_length  area_code  international_plan  voice_mail_plan  \\\n",
       "10    IN              65        415                   0                0   \n",
       "15    NY             161        415                   0                0   \n",
       "21    CO              77        408                   0                0   \n",
       "33    AZ              12        408                   0                0   \n",
       "41    MD             135        408                   1                1   \n",
       "\n",
       "    number_vmail_messages  total_day_minutes  total_day_calls  \\\n",
       "10                      0              129.1              137   \n",
       "15                      0              332.9               67   \n",
       "21                      0               62.4               89   \n",
       "33                      0              249.6              118   \n",
       "41                     41              173.1               85   \n",
       "\n",
       "    total_day_charge  total_eve_minutes  total_eve_calls  total_eve_charge  \\\n",
       "10             21.95              228.5               83             19.42   \n",
       "15             56.59              317.8               97             27.01   \n",
       "21             10.61              169.9              121             14.44   \n",
       "33             42.43              252.4              119             21.45   \n",
       "41             29.43              203.9              107             17.33   \n",
       "\n",
       "    total_night_minutes  total_night_calls  total_night_charge  \\\n",
       "10                208.8                111                9.40   \n",
       "15                160.6                128                7.23   \n",
       "21                209.6                 64                9.43   \n",
       "33                280.2                 90               12.61   \n",
       "41                122.2                 78                5.50   \n",
       "\n",
       "    total_intl_minutes  total_intl_calls  total_intl_charge  \\\n",
       "10                12.7                 6               3.43   \n",
       "15                 5.4                 9               1.46   \n",
       "21                 5.7                 6               1.54   \n",
       "33                11.8                 3               3.19   \n",
       "41                14.6                15               3.94   \n",
       "\n",
       "    customer_service_calls  churn  \n",
       "10                       4      1  \n",
       "15                       4      1  \n",
       "21                       5      1  \n",
       "33                       1      1  \n",
       "41                       0      1  "
      ]
     },
     "execution_count": 50,
     "metadata": {},
     "output_type": "execute_result"
    }
   ],
   "source": [
    "#Create a new data frame with only the clients who churned\n",
    "df_churned = df[df.churn != 0]\n",
    "df_churned.head()"
   ]
  },
  {
   "cell_type": "code",
   "execution_count": 51,
   "id": "61f5d4ca",
   "metadata": {
    "ExecuteTime": {
     "end_time": "2022-07-22T19:57:41.875499Z",
     "start_time": "2022-07-22T19:57:41.865526Z"
    }
   },
   "outputs": [
    {
     "data": {
      "text/plain": [
       "0.5168539325842697"
      ]
     },
     "execution_count": 51,
     "metadata": {},
     "output_type": "execute_result"
    }
   ],
   "source": [
    "#Churn rate for clients making 4 or more calls to customer service\n",
    "sum(df_churned['customer_service_calls'] >= 4) / sum(df['customer_service_calls'] >= 4)"
   ]
  },
  {
   "cell_type": "markdown",
   "id": "93f26f9f",
   "metadata": {},
   "source": [
    "Our current churn rate for the training data set is about 14.5%. When we look at customer service calls, we can see that as the number of customer service calls increases, the likelihood of churning increases as well. Specifically, with at least 4 customer service calls, the likelihood of a customer churning increases from about 10% to 50%.\n",
    "\n",
    "Customer service calls alone cannot guarantee that a customer will churn. In fact, the majority of customers who DID NOT churn made 1-2 customer service calls. However, it is important to note that the majority people who DID churn made 1-4 calls to customer service. Therefore, more than 3 calls to customer service should be a red flag that a customer is more likely to churn."
   ]
  },
  {
   "cell_type": "markdown",
   "id": "0955be23",
   "metadata": {},
   "source": [
    "#### Voice Mail Plan"
   ]
  },
  {
   "cell_type": "code",
   "execution_count": 52,
   "id": "9529a141",
   "metadata": {
    "ExecuteTime": {
     "end_time": "2022-07-22T19:57:44.366834Z",
     "start_time": "2022-07-22T19:57:44.358858Z"
    }
   },
   "outputs": [
    {
     "data": {
      "text/plain": [
       "0    2411\n",
       "1     922\n",
       "Name: voice_mail_plan, dtype: int64"
      ]
     },
     "execution_count": 52,
     "metadata": {},
     "output_type": "execute_result"
    }
   ],
   "source": [
    "#Voice Mail Counts\n",
    "df['voice_mail_plan'].value_counts()"
   ]
  },
  {
   "cell_type": "code",
   "execution_count": 53,
   "id": "90766012",
   "metadata": {
    "ExecuteTime": {
     "end_time": "2022-07-22T19:57:46.140202Z",
     "start_time": "2022-07-22T19:57:46.124248Z"
    }
   },
   "outputs": [
    {
     "data": {
      "text/plain": [
       "0    72.337234\n",
       "1    27.662766\n",
       "Name: voice_mail_plan, dtype: float64"
      ]
     },
     "execution_count": 53,
     "metadata": {},
     "output_type": "execute_result"
    }
   ],
   "source": [
    "#Voice Mail Percentages\n",
    "df['voice_mail_plan'].value_counts(normalize=True) * 100"
   ]
  },
  {
   "cell_type": "markdown",
   "id": "e79e3e8b",
   "metadata": {},
   "source": [
    "About 27.6% of customers had the voice mail plan"
   ]
  },
  {
   "cell_type": "code",
   "execution_count": 54,
   "id": "f3a25226",
   "metadata": {
    "ExecuteTime": {
     "end_time": "2022-07-22T19:57:47.850597Z",
     "start_time": "2022-07-22T19:57:47.833643Z"
    }
   },
   "outputs": [
    {
     "data": {
      "text/plain": [
       "0    83.436853\n",
       "1    16.563147\n",
       "Name: voice_mail_plan, dtype: float64"
      ]
     },
     "execution_count": 54,
     "metadata": {},
     "output_type": "execute_result"
    }
   ],
   "source": [
    "#Churned Voice Mail Percentages\n",
    "df_churned['voice_mail_plan'].value_counts(normalize=True) * 100"
   ]
  },
  {
   "cell_type": "code",
   "execution_count": 55,
   "id": "faaf8925",
   "metadata": {
    "ExecuteTime": {
     "end_time": "2022-07-22T19:57:48.586736Z",
     "start_time": "2022-07-22T19:57:48.558705Z"
    }
   },
   "outputs": [
    {
     "data": {
      "text/plain": [
       "count    3333.000000\n",
       "mean        8.099010\n",
       "std        13.688365\n",
       "min         0.000000\n",
       "25%         0.000000\n",
       "50%         0.000000\n",
       "75%        20.000000\n",
       "max        51.000000\n",
       "Name: number_vmail_messages, dtype: float64"
      ]
     },
     "execution_count": 55,
     "metadata": {},
     "output_type": "execute_result"
    }
   ],
   "source": [
    "df['number_vmail_messages'].describe()"
   ]
  },
  {
   "cell_type": "markdown",
   "id": "ac2e80de",
   "metadata": {},
   "source": [
    "The maximum number of voice mails was 51, which is quite high, compared to the average which was 8."
   ]
  },
  {
   "cell_type": "code",
   "execution_count": 56,
   "id": "19267bb9",
   "metadata": {
    "ExecuteTime": {
     "end_time": "2022-07-22T19:57:49.310722Z",
     "start_time": "2022-07-22T19:57:49.299754Z"
    }
   },
   "outputs": [
    {
     "data": {
      "text/plain": [
       "array([1], dtype=int64)"
      ]
     },
     "execution_count": 56,
     "metadata": {},
     "output_type": "execute_result"
    }
   ],
   "source": [
    "# Are there any customers which had voice message but didn't have a voice mail plan?\n",
    "df[df['number_vmail_messages'] > 0]['voice_mail_plan'].unique()"
   ]
  },
  {
   "cell_type": "markdown",
   "id": "5736b0d6",
   "metadata": {},
   "source": [
    "No customers had a voice messages but didn't have a plan"
   ]
  },
  {
   "cell_type": "code",
   "execution_count": 57,
   "id": "67f975bf",
   "metadata": {
    "ExecuteTime": {
     "end_time": "2022-07-22T19:57:51.225611Z",
     "start_time": "2022-07-22T19:57:50.257163Z"
    }
   },
   "outputs": [
    {
     "data": {
      "image/png": "[encoded data removed]",
      "text/plain": [
       "<Figure size 728x360 with 2 Axes>"
      ]
     },
     "metadata": {},
     "output_type": "display_data"
    }
   ],
   "source": [
    "#Compare number of voicemail messages by churn\n",
    "facet(df, 'number_vmail_messages')"
   ]
  },
  {
   "cell_type": "code",
   "execution_count": 58,
   "id": "bdf8b9b4",
   "metadata": {
    "ExecuteTime": {
     "end_time": "2022-07-22T19:57:52.758468Z",
     "start_time": "2022-07-22T19:57:51.877823Z"
    }
   },
   "outputs": [
    {
     "data": {
      "image/png": "[encoded data removed]",
      "text/plain": [
       "<Figure size 728x360 with 2 Axes>"
      ]
     },
     "metadata": {},
     "output_type": "display_data"
    }
   ],
   "source": [
    "#Compare voice mail plan by churn\n",
    "facet(df,'voice_mail_plan')"
   ]
  },
  {
   "cell_type": "markdown",
   "id": "ab2efb35",
   "metadata": {},
   "source": [
    "#### Charges for Minutes & Calls\n",
    "How much are customers being charged and is it relevant to churn?"
   ]
  },
  {
   "cell_type": "code",
   "execution_count": 59,
   "id": "297bdc15",
   "metadata": {
    "ExecuteTime": {
     "end_time": "2022-07-22T19:57:53.408760Z",
     "start_time": "2022-07-22T19:57:53.380804Z"
    }
   },
   "outputs": [
    {
     "name": "stdout",
     "output_type": "stream",
     "text": [
      "Day Cost/Min: $0.17\n",
      "Night Cost/Min: $0.05\n",
      "Eve Cost/Min: $0.09\n",
      "International Cost/Min: $0.27\n"
     ]
    }
   ],
   "source": [
    "#Calculate cost per minute for each call category\n",
    "df['cost_per_day_call'] = df['total_day_charge'] / df['total_day_minutes']\n",
    "df['cost_per_intl_call'] = df['total_intl_charge'] / df['total_intl_minutes']\n",
    "df['cost_per_night_call'] = df['total_night_charge'] / df['total_night_minutes']\n",
    "df['cost_per_eve_call'] = df['total_eve_charge'] / df['total_eve_minutes']\n",
    "\n",
    "night_call_per_min = np.mean(df['cost_per_night_call'])\n",
    "eve_call_per_min = np.mean(df['cost_per_eve_call'])\n",
    "intl_call_per_min = np.mean(df['cost_per_intl_call'])\n",
    "day_call_per_min = np.mean(df['cost_per_day_call'])\n",
    "\n",
    "print(f'Day Cost/Min: ${round(day_call_per_min, 2)}')\n",
    "print(f'Night Cost/Min: ${round(night_call_per_min, 2)}')\n",
    "print(f'Eve Cost/Min: ${round(eve_call_per_min, 2)}')\n",
    "print(f'International Cost/Min: ${round(intl_call_per_min, 2)}')"
   ]
  },
  {
   "cell_type": "code",
   "execution_count": 60,
   "id": "f11d5d5e",
   "metadata": {
    "ExecuteTime": {
     "end_time": "2022-07-22T19:57:54.087942Z",
     "start_time": "2022-07-22T19:57:54.074980Z"
    }
   },
   "outputs": [],
   "source": [
    "#Total Net Charge for all charges \n",
    "df['total_net_charge'] = df.total_day_charge + df.total_eve_charge + df.total_night_charge + df.total_intl_charge"
   ]
  },
  {
   "cell_type": "code",
   "execution_count": 63,
   "id": "236337e0",
   "metadata": {
    "ExecuteTime": {
     "end_time": "2022-07-22T19:57:56.837590Z",
     "start_time": "2022-07-22T19:57:56.826586Z"
    }
   },
   "outputs": [],
   "source": [
    "#Calculate the total_net_minutes; we are going to do the same with calls, and charge\n",
    "df['total_net_minutes'] = df.total_day_minutes + df.total_eve_minutes + df.total_night_minutes + df.total_intl_minutes"
   ]
  },
  {
   "cell_type": "code",
   "execution_count": 64,
   "id": "c877c527",
   "metadata": {
    "ExecuteTime": {
     "end_time": "2022-07-22T19:57:57.501782Z",
     "start_time": "2022-07-22T19:57:57.489812Z"
    }
   },
   "outputs": [],
   "source": [
    "df['total_net_calls'] = df.total_day_calls + df.total_eve_calls + df.total_night_calls + df.total_intl_calls"
   ]
  },
  {
   "cell_type": "code",
   "execution_count": 65,
   "id": "e9b87763",
   "metadata": {
    "ExecuteTime": {
     "end_time": "2022-07-22T19:58:08.578839Z",
     "start_time": "2022-07-22T19:58:08.562883Z"
    }
   },
   "outputs": [],
   "source": [
    "df['total_net_charge'] = df.total_day_charge + df.total_eve_charge + df.total_night_charge + df.total_intl_charge"
   ]
  },
  {
   "cell_type": "code",
   "execution_count": 66,
   "id": "f9301fc9",
   "metadata": {
    "ExecuteTime": {
     "end_time": "2022-07-22T19:58:09.352772Z",
     "start_time": "2022-07-22T19:58:09.324846Z"
    }
   },
   "outputs": [
    {
     "data": {
      "text/plain": [
       "count    3333.000000\n",
       "mean      591.864776\n",
       "std        89.954251\n",
       "min       284.300000\n",
       "25%       531.500000\n",
       "50%       593.600000\n",
       "75%       652.400000\n",
       "max       885.000000\n",
       "Name: total_net_minutes, dtype: float64"
      ]
     },
     "execution_count": 66,
     "metadata": {},
     "output_type": "execute_result"
    }
   ],
   "source": [
    "#Descriptive Statistics for total net minutes, charge & calls\n",
    "df['total_net_minutes'].describe()"
   ]
  },
  {
   "cell_type": "code",
   "execution_count": 67,
   "id": "435fcc4e",
   "metadata": {
    "ExecuteTime": {
     "end_time": "2022-07-22T19:58:10.027150Z",
     "start_time": "2022-07-22T19:58:10.000039Z"
    }
   },
   "outputs": [
    {
     "data": {
      "text/plain": [
       "count    3333.000000\n",
       "mean       59.449754\n",
       "std        10.502261\n",
       "min        22.930000\n",
       "25%        52.380000\n",
       "50%        59.470000\n",
       "75%        66.480000\n",
       "max        96.150000\n",
       "Name: total_net_charge, dtype: float64"
      ]
     },
     "execution_count": 67,
     "metadata": {},
     "output_type": "execute_result"
    }
   ],
   "source": [
    "df['total_net_charge'].describe()"
   ]
  },
  {
   "cell_type": "code",
   "execution_count": 68,
   "id": "07315d04",
   "metadata": {
    "ExecuteTime": {
     "end_time": "2022-07-22T19:58:10.707149Z",
     "start_time": "2022-07-22T19:58:10.694182Z"
    }
   },
   "outputs": [
    {
     "data": {
      "text/plain": [
       "count    3333.000000\n",
       "mean      305.137114\n",
       "std        34.448164\n",
       "min       191.000000\n",
       "25%       282.000000\n",
       "50%       305.000000\n",
       "75%       328.000000\n",
       "max       416.000000\n",
       "Name: total_net_calls, dtype: float64"
      ]
     },
     "execution_count": 68,
     "metadata": {},
     "output_type": "execute_result"
    }
   ],
   "source": [
    "df['total_net_calls'].describe()"
   ]
  },
  {
   "cell_type": "markdown",
   "id": "5314d1c8",
   "metadata": {},
   "source": [
    "The average net minutes used by a customer was 591 minutes, the average net charged was 59 dollars, and the average net calls made by a customer was 305 calls."
   ]
  },
  {
   "cell_type": "code",
   "execution_count": 69,
   "id": "e92c0675",
   "metadata": {
    "ExecuteTime": {
     "end_time": "2022-07-22T19:58:12.526471Z",
     "start_time": "2022-07-22T19:58:12.507504Z"
    }
   },
   "outputs": [],
   "source": [
    "#Create a new data frame with only the clients who churned\n",
    "df_churned = df[df.churn != 0]"
   ]
  },
  {
   "cell_type": "code",
   "execution_count": 70,
   "id": "8e08c836",
   "metadata": {
    "ExecuteTime": {
     "end_time": "2022-07-22T19:58:13.599608Z",
     "start_time": "2022-07-22T19:58:13.288401Z"
    }
   },
   "outputs": [
    {
     "data": {
      "image/png": "[encoded data removed]",
      "text/plain": [
       "<Figure size 432x288 with 1 Axes>"
      ]
     },
     "metadata": {},
     "output_type": "display_data"
    },
    {
     "data": {
      "text/plain": [
       "<Figure size 1080x576 with 0 Axes>"
      ]
     },
     "metadata": {},
     "output_type": "display_data"
    }
   ],
   "source": [
    "#Visualize churn rate for net charge\n",
    "sns.histplot(df_churned['total_net_charge'], bins=5)\n",
    "\n",
    "plt.xlabel(\"Monthly Net Charges\", size=10)\n",
    "plt.ylabel(\"Churn\", size=10)\n",
    "\n",
    "plt.figure(figsize=(15,8))\n",
    "plt.show()"
   ]
  },
  {
   "cell_type": "code",
   "execution_count": 71,
   "id": "3198a32f",
   "metadata": {
    "ExecuteTime": {
     "end_time": "2022-07-22T19:58:14.266787Z",
     "start_time": "2022-07-22T19:58:14.255812Z"
    }
   },
   "outputs": [
    {
     "data": {
      "text/plain": [
       "array([0.11428571, 0.12398922, 0.08169177, 0.26258503, 0.81666667])"
      ]
     },
     "execution_count": 71,
     "metadata": {},
     "output_type": "execute_result"
    }
   ],
   "source": [
    "#Calculate churn rate for each bin in the histogram above\n",
    "counts1, _ =  np.histogram(df['total_net_charge'], bins=5)\n",
    "\n",
    "counts2, _ =  np.histogram(df_churned['total_net_charge'], bins=5)\n",
    "\n",
    "day_churn_rate = counts2 / counts1\n",
    "day_churn_rate"
   ]
  },
  {
   "cell_type": "code",
   "execution_count": 72,
   "id": "b0129f62",
   "metadata": {
    "ExecuteTime": {
     "end_time": "2022-07-22T19:58:15.276116Z",
     "start_time": "2022-07-22T19:58:14.949956Z"
    }
   },
   "outputs": [
    {
     "data": {
      "image/png": "[encoded data removed]",
      "text/plain": [
       "<Figure size 432x288 with 1 Axes>"
      ]
     },
     "metadata": {},
     "output_type": "display_data"
    },
    {
     "data": {
      "text/plain": [
       "<Figure size 1080x576 with 0 Axes>"
      ]
     },
     "metadata": {},
     "output_type": "display_data"
    }
   ],
   "source": [
    "#Visualize churn rate for day call charges only\n",
    "sns.histplot(df_churned['total_day_charge'], bins=5)\n",
    "\n",
    "plt.xlabel(\"Monthly Day Call Charges\", size=10)\n",
    "plt.ylabel(\"Churn\", size=10)\n",
    "\n",
    "plt.figure(figsize=(15,8))\n",
    "plt.show()"
   ]
  },
  {
   "cell_type": "code",
   "execution_count": 73,
   "id": "e023a82e",
   "metadata": {
    "ExecuteTime": {
     "end_time": "2022-07-22T19:58:16.352208Z",
     "start_time": "2022-07-22T19:58:15.929340Z"
    }
   },
   "outputs": [
    {
     "data": {
      "image/png": "[encoded data removed]",
      "text/plain": [
       "<Figure size 720x576 with 1 Axes>"
      ]
     },
     "metadata": {},
     "output_type": "display_data"
    },
    {
     "data": {
      "text/plain": [
       "<Figure size 432x288 with 0 Axes>"
      ]
     },
     "metadata": {},
     "output_type": "display_data"
    }
   ],
   "source": [
    "#Plot the proportion of churned clients by charges against the total number \n",
    "#of clients within each price range\n",
    "plt.figure(figsize=(10,8))\n",
    "plt.hist(\n",
    "         df['total_net_charge'], \n",
    "         bins=range(25, 100, 5), \n",
    "         alpha=0.5, \n",
    "         label=\"All Clients\"\n",
    ")\n",
    "plt.hist(\n",
    "         df_churned['total_net_charge'], \n",
    "         bins=range(25, 100, 5), \n",
    "         alpha=0.5, \n",
    "         label=\"Churned Clients\"\n",
    ")\n",
    "\n",
    "plt.legend()\n",
    "\n",
    "plt.xlabel('Client Total Call Charges', size=14)\n",
    "plt.ylabel('Number of Clients', size=14)\n",
    "\n",
    "fig4 = plt.gcf()\n",
    "plt.show()\n",
    "plt.savefig('Client_Total_Call_Charges_Against_Churn');"
   ]
  },
  {
   "cell_type": "code",
   "execution_count": 74,
   "id": "48569176",
   "metadata": {
    "ExecuteTime": {
     "end_time": "2022-07-22T19:58:18.495470Z",
     "start_time": "2022-07-22T19:58:18.480513Z"
    }
   },
   "outputs": [
    {
     "data": {
      "text/plain": [
       "array([0.5       , 0.14285714, 0.15151515, 0.1       , 0.08928571,\n",
       "       0.134375  , 0.14484127, 0.08387097, 0.05769231, 0.05458515,\n",
       "       0.17406143, 0.7254902 , 0.75862069, 0.77777778, 1.        ])"
      ]
     },
     "execution_count": 74,
     "metadata": {},
     "output_type": "execute_result"
    }
   ],
   "source": [
    "#Calculate churn rate for each bin in the double histogram above\n",
    "counts1, _ =  np.histogram(df['total_net_charge'], bins=range(20, 100, 5))\n",
    "counts2, _ =  np.histogram(df_churned['total_net_charge'], bins=range(20, 100, 5))\n",
    "counts2 / counts1"
   ]
  },
  {
   "cell_type": "code",
   "execution_count": 75,
   "id": "64f6ab0d",
   "metadata": {
    "ExecuteTime": {
     "end_time": "2022-07-22T19:58:19.931659Z",
     "start_time": "2022-07-22T19:58:19.913683Z"
    }
   },
   "outputs": [
    {
     "data": {
      "text/plain": [
       "[0.11860940695296524,\n",
       " 0.11499272197962154,\n",
       " 0.06119402985074627,\n",
       " 0.10564663023679417,\n",
       " 0.23529411764705882,\n",
       " 0.5460526315789473,\n",
       " 0.6739130434782609,\n",
       " 1.0,\n",
       " nan]"
      ]
     },
     "execution_count": 75,
     "metadata": {},
     "output_type": "execute_result"
    }
   ],
   "source": [
    "#Calculate churn rate for day charges by price bins\n",
    "counts3, _ =  np.histogram(df['total_day_charge'], bins=range(20, 70, 5))\n",
    "counts4, _ =  np.histogram(df_churned['total_day_charge'], bins=range(20,70,5))\n",
    "day_charge = list(counts4 / counts3)\n",
    "x2 = [25,30,35,40,45,50,60]\n",
    "day_charge"
   ]
  },
  {
   "cell_type": "code",
   "execution_count": 76,
   "id": "487fcd3d",
   "metadata": {
    "ExecuteTime": {
     "end_time": "2022-07-22T19:58:21.557312Z",
     "start_time": "2022-07-22T19:58:21.546344Z"
    }
   },
   "outputs": [],
   "source": [
    "#Convert decimals to percentages\n",
    "day_charge = [11.86, 11.49, 6.12, 10.56, 23.53, 54.60, 67.39]"
   ]
  },
  {
   "cell_type": "code",
   "execution_count": 77,
   "id": "d3acdd1c",
   "metadata": {
    "ExecuteTime": {
     "end_time": "2022-07-22T19:58:22.631439Z",
     "start_time": "2022-07-22T19:58:22.317248Z"
    }
   },
   "outputs": [
    {
     "data": {
      "image/png": "[encoded data removed]",
      "text/plain": [
       "<Figure size 576x432 with 1 Axes>"
      ]
     },
     "metadata": {},
     "output_type": "display_data"
    }
   ],
   "source": [
    "#Plot churn rate for each $5 increase in day charges\n",
    "plt.figure(figsize=(8,6))\n",
    "sns.lineplot(x=x2, y=day_charge, marker=\"o\")\n",
    "plt.xlabel('Day Charges', size=14)\n",
    "plt.ylabel('Percent Churn', size=14)\n",
    "fig5 = plt.gcf()\n",
    "plt.show()"
   ]
  },
  {
   "cell_type": "code",
   "execution_count": 78,
   "id": "2b510f34",
   "metadata": {
    "ExecuteTime": {
     "end_time": "2022-07-22T19:58:23.296665Z",
     "start_time": "2022-07-22T19:58:23.283696Z"
    }
   },
   "outputs": [
    {
     "data": {
      "text/plain": [
       "0.5382205364918289"
      ]
     },
     "execution_count": 78,
     "metadata": {},
     "output_type": "execute_result"
    }
   ],
   "source": [
    "#Calculate the day call charges proportion against total charges\n",
    "day_charge_sum = sum(df_churned.total_day_charge)\n",
    "total_net_charge_sum = sum(df_churned.total_net_charge)\n",
    "day_charge_sum / total_net_charge_sum"
   ]
  },
  {
   "cell_type": "code",
   "execution_count": 79,
   "id": "9d368c12",
   "metadata": {
    "ExecuteTime": {
     "end_time": "2022-07-22T19:58:23.947918Z",
     "start_time": "2022-07-22T19:58:23.935917Z"
    }
   },
   "outputs": [
    {
     "data": {
      "text/plain": [
       "0.9993999399939995"
      ]
     },
     "execution_count": 79,
     "metadata": {},
     "output_type": "execute_result"
    }
   ],
   "source": [
    "#Calculate how many clients are making day calls\n",
    "sum(df.total_day_charge != 0) / len(df.total_day_charge )"
   ]
  },
  {
   "cell_type": "markdown",
   "id": "64326a54",
   "metadata": {},
   "source": [
    "After a further look into the breakdown of charges, 99.9% of all clients make day time phone calls and 52% of all phone call charges come from day calls. Clients spending $40 or more are more likely to churn."
   ]
  },
  {
   "cell_type": "code",
   "execution_count": 80,
   "id": "8c025b96",
   "metadata": {
    "ExecuteTime": {
     "end_time": "2022-07-22T19:58:24.613107Z",
     "start_time": "2022-07-22T19:58:24.601138Z"
    }
   },
   "outputs": [
    {
     "data": {
      "text/plain": [
       "0    71.635611\n",
       "1    28.364389\n",
       "Name: international_plan, dtype: float64"
      ]
     },
     "execution_count": 80,
     "metadata": {},
     "output_type": "execute_result"
    }
   ],
   "source": [
    "#Churned rate for customers with internation plans\n",
    "df_churned['international_plan'].value_counts(normalize=True) * 100"
   ]
  },
  {
   "cell_type": "code",
   "execution_count": 81,
   "id": "544b778b",
   "metadata": {
    "ExecuteTime": {
     "end_time": "2022-07-22T19:58:25.373074Z",
     "start_time": "2022-07-22T19:58:25.360109Z"
    }
   },
   "outputs": [],
   "source": [
    "#Create a new data frame with only the clients with intl plans\n",
    "df_intl = df[df.international_plan != 1]"
   ]
  },
  {
   "cell_type": "code",
   "execution_count": 82,
   "id": "42809126",
   "metadata": {
    "ExecuteTime": {
     "end_time": "2022-07-22T19:58:26.065221Z",
     "start_time": "2022-07-22T19:58:26.052257Z"
    }
   },
   "outputs": [
    {
     "name": "stdout",
     "output_type": "stream",
     "text": [
      "International Cost/Min: $0.27\n"
     ]
    }
   ],
   "source": [
    "#International Plan Cost per Min with Plan\n",
    "df_intl['cost_per_intl_call'] = df_intl['total_intl_charge'] / df_intl['total_intl_minutes']\n",
    "intl_call_per_min2 = np.mean(df_intl['cost_per_intl_call'])\n",
    "print(f'International Cost/Min: ${round(intl_call_per_min2, 2)}')"
   ]
  },
  {
   "cell_type": "markdown",
   "id": "054788b5",
   "metadata": {},
   "source": [
    "It is clear that the customers who churned and those that did not churn had almost exactly the same usage across day, eve, night and international calls. The rates for international minutes are the same regardless of whether the customer has an international plan or not (27 cents per minute). It is also interesting to note that the percentage of customers who churned was higher for customers with international plans than for customers without international plans. Because of this similar charge for international calls, it is possible that the customers who had an international plan and churned did not feel that paying for the international plan was worth it.\n",
    "\n",
    "\n",
    "Based on these findings, the recommendation is to change the rates for international minutes. If a customer has an international plan, they should have cheaper rates for international calls than a customer without an international plan."
   ]
  },
  {
   "cell_type": "markdown",
   "id": "1b0f0182",
   "metadata": {},
   "source": [
    "##### Investigate Correlation between different variables"
   ]
  },
  {
   "cell_type": "code",
   "execution_count": 83,
   "id": "190d37ed",
   "metadata": {
    "ExecuteTime": {
     "end_time": "2022-07-22T19:58:27.330872Z",
     "start_time": "2022-07-22T19:58:27.296976Z"
    },
    "scrolled": true
   },
   "outputs": [
    {
     "data": {
      "text/plain": [
       "churn                     1.000000\n",
       "international_plan        0.259852\n",
       "total_net_charge          0.231549\n",
       "customer_service_calls    0.208750\n",
       "total_day_minutes         0.205151\n",
       "total_day_charge          0.205151\n",
       "total_net_minutes         0.198607\n",
       "total_eve_minutes         0.092796\n",
       "total_eve_charge          0.092786\n",
       "total_intl_charge         0.068259\n",
       "total_intl_minutes        0.068239\n",
       "total_night_charge        0.035496\n",
       "total_night_minutes       0.035493\n",
       "total_day_calls           0.018459\n",
       "account_length            0.016541\n",
       "total_net_calls           0.015807\n",
       "total_eve_calls           0.009233\n",
       "area_code                 0.006174\n",
       "total_night_calls         0.006141\n",
       "cost_per_intl_call       -0.001715\n",
       "cost_per_night_call      -0.003009\n",
       "cost_per_day_call        -0.007103\n",
       "cost_per_eve_call        -0.008959\n",
       "total_intl_calls         -0.052844\n",
       "number_vmail_messages    -0.089728\n",
       "voice_mail_plan          -0.102148\n",
       "Name: churn, dtype: float64"
      ]
     },
     "execution_count": 83,
     "metadata": {},
     "output_type": "execute_result"
    }
   ],
   "source": [
    "#Correlation\n",
    "corr_matrix = df.corr()\n",
    "corr_matrix['churn'].sort_values(ascending=False)"
   ]
  },
  {
   "cell_type": "code",
   "execution_count": 84,
   "id": "c9eff4bd",
   "metadata": {
    "ExecuteTime": {
     "end_time": "2022-07-22T19:58:28.227471Z",
     "start_time": "2022-07-22T19:58:28.151640Z"
    }
   },
   "outputs": [
    {
     "data": {
      "text/html": [
       "<div>\n",
       "<style scoped>\n",
       "    .dataframe tbody tr th:only-of-type {\n",
       "        vertical-align: middle;\n",
       "    }\n",
       "\n",
       "    .dataframe tbody tr th {\n",
       "        vertical-align: top;\n",
       "    }\n",
       "\n",
       "    .dataframe thead th {\n",
       "        text-align: right;\n",
       "    }\n",
       "</style>\n",
       "<table border=\"1\" class=\"dataframe\">\n",
       "  <thead>\n",
       "    <tr style=\"text-align: right;\">\n",
       "      <th></th>\n",
       "      <th>account_length</th>\n",
       "      <th>area_code</th>\n",
       "      <th>international_plan</th>\n",
       "      <th>voice_mail_plan</th>\n",
       "      <th>number_vmail_messages</th>\n",
       "      <th>total_day_minutes</th>\n",
       "      <th>total_day_calls</th>\n",
       "      <th>total_day_charge</th>\n",
       "      <th>total_eve_minutes</th>\n",
       "      <th>total_eve_calls</th>\n",
       "      <th>...</th>\n",
       "      <th>total_intl_charge</th>\n",
       "      <th>customer_service_calls</th>\n",
       "      <th>churn</th>\n",
       "      <th>cost_per_day_call</th>\n",
       "      <th>cost_per_intl_call</th>\n",
       "      <th>cost_per_night_call</th>\n",
       "      <th>cost_per_eve_call</th>\n",
       "      <th>total_net_charge</th>\n",
       "      <th>total_net_minutes</th>\n",
       "      <th>total_net_calls</th>\n",
       "    </tr>\n",
       "  </thead>\n",
       "  <tbody>\n",
       "    <tr>\n",
       "      <th>account_length</th>\n",
       "      <td>1.000000</td>\n",
       "      <td>-0.012463</td>\n",
       "      <td>0.024735</td>\n",
       "      <td>0.002918</td>\n",
       "      <td>-0.004628</td>\n",
       "      <td>0.006216</td>\n",
       "      <td>0.038470</td>\n",
       "      <td>0.006214</td>\n",
       "      <td>-0.006757</td>\n",
       "      <td>0.019260</td>\n",
       "      <td>...</td>\n",
       "      <td>0.009546</td>\n",
       "      <td>-0.003796</td>\n",
       "      <td>0.016541</td>\n",
       "      <td>-0.000073</td>\n",
       "      <td>0.006221</td>\n",
       "      <td>-0.009487</td>\n",
       "      <td>0.026133</td>\n",
       "      <td>0.001454</td>\n",
       "      <td>-0.004785</td>\n",
       "      <td>0.027542</td>\n",
       "    </tr>\n",
       "    <tr>\n",
       "      <th>area_code</th>\n",
       "      <td>-0.012463</td>\n",
       "      <td>1.000000</td>\n",
       "      <td>0.048551</td>\n",
       "      <td>-0.000747</td>\n",
       "      <td>-0.001994</td>\n",
       "      <td>-0.008264</td>\n",
       "      <td>-0.009646</td>\n",
       "      <td>-0.008264</td>\n",
       "      <td>0.003580</td>\n",
       "      <td>-0.011886</td>\n",
       "      <td>...</td>\n",
       "      <td>-0.018395</td>\n",
       "      <td>0.027572</td>\n",
       "      <td>0.006174</td>\n",
       "      <td>-0.009105</td>\n",
       "      <td>-0.024514</td>\n",
       "      <td>-0.008893</td>\n",
       "      <td>0.032689</td>\n",
       "      <td>-0.008393</td>\n",
       "      <td>-0.006828</td>\n",
       "      <td>-0.004836</td>\n",
       "    </tr>\n",
       "    <tr>\n",
       "      <th>international_plan</th>\n",
       "      <td>0.024735</td>\n",
       "      <td>0.048551</td>\n",
       "      <td>1.000000</td>\n",
       "      <td>0.006006</td>\n",
       "      <td>0.008745</td>\n",
       "      <td>0.049396</td>\n",
       "      <td>0.003755</td>\n",
       "      <td>0.049398</td>\n",
       "      <td>0.019100</td>\n",
       "      <td>0.006114</td>\n",
       "      <td>...</td>\n",
       "      <td>0.045780</td>\n",
       "      <td>-0.024522</td>\n",
       "      <td>0.259852</td>\n",
       "      <td>0.016647</td>\n",
       "      <td>-0.018257</td>\n",
       "      <td>-0.015902</td>\n",
       "      <td>0.006415</td>\n",
       "      <td>0.048415</td>\n",
       "      <td>0.025850</td>\n",
       "      <td>0.014037</td>\n",
       "    </tr>\n",
       "    <tr>\n",
       "      <th>voice_mail_plan</th>\n",
       "      <td>0.002918</td>\n",
       "      <td>-0.000747</td>\n",
       "      <td>0.006006</td>\n",
       "      <td>1.000000</td>\n",
       "      <td>0.956927</td>\n",
       "      <td>-0.001684</td>\n",
       "      <td>-0.011086</td>\n",
       "      <td>-0.001686</td>\n",
       "      <td>0.021545</td>\n",
       "      <td>-0.006444</td>\n",
       "      <td>...</td>\n",
       "      <td>-0.001276</td>\n",
       "      <td>-0.017824</td>\n",
       "      <td>-0.102148</td>\n",
       "      <td>-0.027948</td>\n",
       "      <td>0.012561</td>\n",
       "      <td>-0.016235</td>\n",
       "      <td>0.015298</td>\n",
       "      <td>0.008585</td>\n",
       "      <td>0.014503</td>\n",
       "      <td>-0.000807</td>\n",
       "    </tr>\n",
       "    <tr>\n",
       "      <th>number_vmail_messages</th>\n",
       "      <td>-0.004628</td>\n",
       "      <td>-0.001994</td>\n",
       "      <td>0.008745</td>\n",
       "      <td>0.956927</td>\n",
       "      <td>1.000000</td>\n",
       "      <td>0.000778</td>\n",
       "      <td>-0.009548</td>\n",
       "      <td>0.000776</td>\n",
       "      <td>0.017562</td>\n",
       "      <td>-0.005864</td>\n",
       "      <td>...</td>\n",
       "      <td>0.002884</td>\n",
       "      <td>-0.013263</td>\n",
       "      <td>-0.089728</td>\n",
       "      <td>-0.031363</td>\n",
       "      <td>0.008435</td>\n",
       "      <td>-0.018974</td>\n",
       "      <td>0.019557</td>\n",
       "      <td>0.009766</td>\n",
       "      <td>0.014779</td>\n",
       "      <td>-0.003911</td>\n",
       "    </tr>\n",
       "    <tr>\n",
       "      <th>total_day_minutes</th>\n",
       "      <td>0.006216</td>\n",
       "      <td>-0.008264</td>\n",
       "      <td>0.049396</td>\n",
       "      <td>-0.001684</td>\n",
       "      <td>0.000778</td>\n",
       "      <td>1.000000</td>\n",
       "      <td>0.006750</td>\n",
       "      <td>1.000000</td>\n",
       "      <td>0.007043</td>\n",
       "      <td>0.015769</td>\n",
       "      <td>...</td>\n",
       "      <td>-0.010092</td>\n",
       "      <td>-0.013423</td>\n",
       "      <td>0.205151</td>\n",
       "      <td>-0.027128</td>\n",
       "      <td>0.011097</td>\n",
       "      <td>-0.022404</td>\n",
       "      <td>-0.019943</td>\n",
       "      <td>0.884754</td>\n",
       "      <td>0.611587</td>\n",
       "      <td>0.026676</td>\n",
       "    </tr>\n",
       "    <tr>\n",
       "      <th>total_day_calls</th>\n",
       "      <td>0.038470</td>\n",
       "      <td>-0.009646</td>\n",
       "      <td>0.003755</td>\n",
       "      <td>-0.011086</td>\n",
       "      <td>-0.009548</td>\n",
       "      <td>0.006750</td>\n",
       "      <td>1.000000</td>\n",
       "      <td>0.006753</td>\n",
       "      <td>-0.021451</td>\n",
       "      <td>0.006462</td>\n",
       "      <td>...</td>\n",
       "      <td>0.021666</td>\n",
       "      <td>-0.018942</td>\n",
       "      <td>0.018459</td>\n",
       "      <td>-0.006811</td>\n",
       "      <td>0.016938</td>\n",
       "      <td>-0.008315</td>\n",
       "      <td>0.011130</td>\n",
       "      <td>0.003673</td>\n",
       "      <td>0.005559</td>\n",
       "      <td>0.575542</td>\n",
       "    </tr>\n",
       "    <tr>\n",
       "      <th>total_day_charge</th>\n",
       "      <td>0.006214</td>\n",
       "      <td>-0.008264</td>\n",
       "      <td>0.049398</td>\n",
       "      <td>-0.001686</td>\n",
       "      <td>0.000776</td>\n",
       "      <td>1.000000</td>\n",
       "      <td>0.006753</td>\n",
       "      <td>1.000000</td>\n",
       "      <td>0.007050</td>\n",
       "      <td>0.015769</td>\n",
       "      <td>...</td>\n",
       "      <td>-0.010094</td>\n",
       "      <td>-0.013427</td>\n",
       "      <td>0.205151</td>\n",
       "      <td>-0.026918</td>\n",
       "      <td>0.011096</td>\n",
       "      <td>-0.022414</td>\n",
       "      <td>-0.019947</td>\n",
       "      <td>0.884757</td>\n",
       "      <td>0.611591</td>\n",
       "      <td>0.026678</td>\n",
       "    </tr>\n",
       "    <tr>\n",
       "      <th>total_eve_minutes</th>\n",
       "      <td>-0.006757</td>\n",
       "      <td>0.003580</td>\n",
       "      <td>0.019100</td>\n",
       "      <td>0.021545</td>\n",
       "      <td>0.017562</td>\n",
       "      <td>0.007043</td>\n",
       "      <td>-0.021451</td>\n",
       "      <td>0.007050</td>\n",
       "      <td>1.000000</td>\n",
       "      <td>-0.011430</td>\n",
       "      <td>...</td>\n",
       "      <td>-0.011067</td>\n",
       "      <td>-0.012985</td>\n",
       "      <td>0.092796</td>\n",
       "      <td>0.017592</td>\n",
       "      <td>-0.006197</td>\n",
       "      <td>0.001652</td>\n",
       "      <td>-0.030188</td>\n",
       "      <td>0.413143</td>\n",
       "      <td>0.560621</td>\n",
       "      <td>-0.014617</td>\n",
       "    </tr>\n",
       "    <tr>\n",
       "      <th>total_eve_calls</th>\n",
       "      <td>0.019260</td>\n",
       "      <td>-0.011886</td>\n",
       "      <td>0.006114</td>\n",
       "      <td>-0.006444</td>\n",
       "      <td>-0.005864</td>\n",
       "      <td>0.015769</td>\n",
       "      <td>0.006462</td>\n",
       "      <td>0.015769</td>\n",
       "      <td>-0.011430</td>\n",
       "      <td>1.000000</td>\n",
       "      <td>...</td>\n",
       "      <td>0.008674</td>\n",
       "      <td>0.002423</td>\n",
       "      <td>0.009233</td>\n",
       "      <td>0.001509</td>\n",
       "      <td>-0.005190</td>\n",
       "      <td>0.025952</td>\n",
       "      <td>0.005539</td>\n",
       "      <td>0.009392</td>\n",
       "      <td>0.002198</td>\n",
       "      <td>0.587726</td>\n",
       "    </tr>\n",
       "    <tr>\n",
       "      <th>total_eve_charge</th>\n",
       "      <td>-0.006745</td>\n",
       "      <td>0.003607</td>\n",
       "      <td>0.019106</td>\n",
       "      <td>0.021559</td>\n",
       "      <td>0.017578</td>\n",
       "      <td>0.007029</td>\n",
       "      <td>-0.021449</td>\n",
       "      <td>0.007036</td>\n",
       "      <td>1.000000</td>\n",
       "      <td>-0.011423</td>\n",
       "      <td>...</td>\n",
       "      <td>-0.011074</td>\n",
       "      <td>-0.012987</td>\n",
       "      <td>0.092786</td>\n",
       "      <td>0.017597</td>\n",
       "      <td>-0.006192</td>\n",
       "      <td>0.001650</td>\n",
       "      <td>-0.029552</td>\n",
       "      <td>0.413129</td>\n",
       "      <td>0.560608</td>\n",
       "      <td>-0.014606</td>\n",
       "    </tr>\n",
       "    <tr>\n",
       "      <th>total_night_minutes</th>\n",
       "      <td>-0.008955</td>\n",
       "      <td>-0.005825</td>\n",
       "      <td>-0.028905</td>\n",
       "      <td>0.006079</td>\n",
       "      <td>0.007681</td>\n",
       "      <td>0.004323</td>\n",
       "      <td>0.022938</td>\n",
       "      <td>0.004324</td>\n",
       "      <td>-0.012584</td>\n",
       "      <td>-0.002093</td>\n",
       "      <td>...</td>\n",
       "      <td>-0.015180</td>\n",
       "      <td>-0.009288</td>\n",
       "      <td>0.035493</td>\n",
       "      <td>-0.004255</td>\n",
       "      <td>0.015159</td>\n",
       "      <td>0.016506</td>\n",
       "      <td>-0.017021</td>\n",
       "      <td>0.214257</td>\n",
       "      <td>0.557269</td>\n",
       "      <td>0.017635</td>\n",
       "    </tr>\n",
       "    <tr>\n",
       "      <th>total_night_calls</th>\n",
       "      <td>-0.013176</td>\n",
       "      <td>0.016522</td>\n",
       "      <td>0.012451</td>\n",
       "      <td>0.015553</td>\n",
       "      <td>0.007123</td>\n",
       "      <td>0.022972</td>\n",
       "      <td>-0.019557</td>\n",
       "      <td>0.022972</td>\n",
       "      <td>0.007586</td>\n",
       "      <td>0.007710</td>\n",
       "      <td>...</td>\n",
       "      <td>-0.013630</td>\n",
       "      <td>-0.012802</td>\n",
       "      <td>0.006141</td>\n",
       "      <td>-0.030640</td>\n",
       "      <td>-0.010011</td>\n",
       "      <td>-0.001506</td>\n",
       "      <td>0.016695</td>\n",
       "      <td>0.024818</td>\n",
       "      <td>0.024063</td>\n",
       "      <td>0.561146</td>\n",
       "    </tr>\n",
       "    <tr>\n",
       "      <th>total_night_charge</th>\n",
       "      <td>-0.008960</td>\n",
       "      <td>-0.005845</td>\n",
       "      <td>-0.028913</td>\n",
       "      <td>0.006064</td>\n",
       "      <td>0.007663</td>\n",
       "      <td>0.004300</td>\n",
       "      <td>0.022927</td>\n",
       "      <td>0.004301</td>\n",
       "      <td>-0.012593</td>\n",
       "      <td>-0.002056</td>\n",
       "      <td>...</td>\n",
       "      <td>-0.015186</td>\n",
       "      <td>-0.009277</td>\n",
       "      <td>0.035496</td>\n",
       "      <td>-0.004281</td>\n",
       "      <td>0.015147</td>\n",
       "      <td>0.017675</td>\n",
       "      <td>-0.017024</td>\n",
       "      <td>0.214233</td>\n",
       "      <td>0.557249</td>\n",
       "      <td>0.017642</td>\n",
       "    </tr>\n",
       "    <tr>\n",
       "      <th>total_intl_minutes</th>\n",
       "      <td>0.009514</td>\n",
       "      <td>-0.018288</td>\n",
       "      <td>0.045871</td>\n",
       "      <td>-0.001318</td>\n",
       "      <td>0.002856</td>\n",
       "      <td>-0.010155</td>\n",
       "      <td>0.021565</td>\n",
       "      <td>-0.010157</td>\n",
       "      <td>-0.011035</td>\n",
       "      <td>0.008703</td>\n",
       "      <td>...</td>\n",
       "      <td>0.999993</td>\n",
       "      <td>-0.009640</td>\n",
       "      <td>0.068239</td>\n",
       "      <td>-0.009498</td>\n",
       "      <td>-0.075697</td>\n",
       "      <td>-0.015530</td>\n",
       "      <td>-0.018776</td>\n",
       "      <td>0.054988</td>\n",
       "      <td>0.010117</td>\n",
       "      <td>0.012176</td>\n",
       "    </tr>\n",
       "    <tr>\n",
       "      <th>total_intl_calls</th>\n",
       "      <td>0.020661</td>\n",
       "      <td>-0.024179</td>\n",
       "      <td>0.017366</td>\n",
       "      <td>0.007618</td>\n",
       "      <td>0.013957</td>\n",
       "      <td>0.008033</td>\n",
       "      <td>0.004574</td>\n",
       "      <td>0.008032</td>\n",
       "      <td>0.002541</td>\n",
       "      <td>0.017434</td>\n",
       "      <td>...</td>\n",
       "      <td>0.032372</td>\n",
       "      <td>-0.017561</td>\n",
       "      <td>-0.052844</td>\n",
       "      <td>-0.010863</td>\n",
       "      <td>0.010990</td>\n",
       "      <td>0.019959</td>\n",
       "      <td>0.002483</td>\n",
       "      <td>0.007776</td>\n",
       "      <td>0.000354</td>\n",
       "      <td>0.084367</td>\n",
       "    </tr>\n",
       "    <tr>\n",
       "      <th>total_intl_charge</th>\n",
       "      <td>0.009546</td>\n",
       "      <td>-0.018395</td>\n",
       "      <td>0.045780</td>\n",
       "      <td>-0.001276</td>\n",
       "      <td>0.002884</td>\n",
       "      <td>-0.010092</td>\n",
       "      <td>0.021666</td>\n",
       "      <td>-0.010094</td>\n",
       "      <td>-0.011067</td>\n",
       "      <td>0.008674</td>\n",
       "      <td>...</td>\n",
       "      <td>1.000000</td>\n",
       "      <td>-0.009675</td>\n",
       "      <td>0.068259</td>\n",
       "      <td>-0.009526</td>\n",
       "      <td>-0.072017</td>\n",
       "      <td>-0.015614</td>\n",
       "      <td>-0.018780</td>\n",
       "      <td>0.055036</td>\n",
       "      <td>0.010152</td>\n",
       "      <td>0.012209</td>\n",
       "    </tr>\n",
       "    <tr>\n",
       "      <th>customer_service_calls</th>\n",
       "      <td>-0.003796</td>\n",
       "      <td>0.027572</td>\n",
       "      <td>-0.024522</td>\n",
       "      <td>-0.017824</td>\n",
       "      <td>-0.013263</td>\n",
       "      <td>-0.013423</td>\n",
       "      <td>-0.018942</td>\n",
       "      <td>-0.013427</td>\n",
       "      <td>-0.012985</td>\n",
       "      <td>0.002423</td>\n",
       "      <td>...</td>\n",
       "      <td>-0.009675</td>\n",
       "      <td>1.000000</td>\n",
       "      <td>0.208750</td>\n",
       "      <td>-0.012554</td>\n",
       "      <td>-0.025068</td>\n",
       "      <td>0.002041</td>\n",
       "      <td>-0.002548</td>\n",
       "      <td>-0.019873</td>\n",
       "      <td>-0.020969</td>\n",
       "      <td>-0.018161</td>\n",
       "    </tr>\n",
       "    <tr>\n",
       "      <th>churn</th>\n",
       "      <td>0.016541</td>\n",
       "      <td>0.006174</td>\n",
       "      <td>0.259852</td>\n",
       "      <td>-0.102148</td>\n",
       "      <td>-0.089728</td>\n",
       "      <td>0.205151</td>\n",
       "      <td>0.018459</td>\n",
       "      <td>0.205151</td>\n",
       "      <td>0.092796</td>\n",
       "      <td>0.009233</td>\n",
       "      <td>...</td>\n",
       "      <td>0.068259</td>\n",
       "      <td>0.208750</td>\n",
       "      <td>1.000000</td>\n",
       "      <td>-0.007103</td>\n",
       "      <td>-0.001715</td>\n",
       "      <td>-0.003009</td>\n",
       "      <td>-0.008959</td>\n",
       "      <td>0.231549</td>\n",
       "      <td>0.198607</td>\n",
       "      <td>0.015807</td>\n",
       "    </tr>\n",
       "    <tr>\n",
       "      <th>cost_per_day_call</th>\n",
       "      <td>-0.000073</td>\n",
       "      <td>-0.009105</td>\n",
       "      <td>0.016647</td>\n",
       "      <td>-0.027948</td>\n",
       "      <td>-0.031363</td>\n",
       "      <td>-0.027128</td>\n",
       "      <td>-0.006811</td>\n",
       "      <td>-0.026918</td>\n",
       "      <td>0.017592</td>\n",
       "      <td>0.001509</td>\n",
       "      <td>...</td>\n",
       "      <td>-0.009526</td>\n",
       "      <td>-0.012554</td>\n",
       "      <td>-0.007103</td>\n",
       "      <td>1.000000</td>\n",
       "      <td>-0.001227</td>\n",
       "      <td>-0.022826</td>\n",
       "      <td>0.001915</td>\n",
       "      <td>-0.018105</td>\n",
       "      <td>-0.009162</td>\n",
       "      <td>-0.021286</td>\n",
       "    </tr>\n",
       "    <tr>\n",
       "      <th>cost_per_intl_call</th>\n",
       "      <td>0.006221</td>\n",
       "      <td>-0.024514</td>\n",
       "      <td>-0.018257</td>\n",
       "      <td>0.012561</td>\n",
       "      <td>0.008435</td>\n",
       "      <td>0.011097</td>\n",
       "      <td>0.016938</td>\n",
       "      <td>0.011096</td>\n",
       "      <td>-0.006197</td>\n",
       "      <td>-0.005190</td>\n",
       "      <td>...</td>\n",
       "      <td>-0.072017</td>\n",
       "      <td>-0.025068</td>\n",
       "      <td>-0.001715</td>\n",
       "      <td>-0.001227</td>\n",
       "      <td>1.000000</td>\n",
       "      <td>-0.020056</td>\n",
       "      <td>0.009178</td>\n",
       "      <td>0.005529</td>\n",
       "      <td>0.009471</td>\n",
       "      <td>0.001962</td>\n",
       "    </tr>\n",
       "    <tr>\n",
       "      <th>cost_per_night_call</th>\n",
       "      <td>-0.009487</td>\n",
       "      <td>-0.008893</td>\n",
       "      <td>-0.015902</td>\n",
       "      <td>-0.016235</td>\n",
       "      <td>-0.018974</td>\n",
       "      <td>-0.022404</td>\n",
       "      <td>-0.008315</td>\n",
       "      <td>-0.022414</td>\n",
       "      <td>0.001652</td>\n",
       "      <td>0.025952</td>\n",
       "      <td>...</td>\n",
       "      <td>-0.015614</td>\n",
       "      <td>0.002041</td>\n",
       "      <td>-0.003009</td>\n",
       "      <td>-0.022826</td>\n",
       "      <td>-0.020056</td>\n",
       "      <td>1.000000</td>\n",
       "      <td>-0.012799</td>\n",
       "      <td>-0.016375</td>\n",
       "      <td>-0.003837</td>\n",
       "      <td>0.010735</td>\n",
       "    </tr>\n",
       "    <tr>\n",
       "      <th>cost_per_eve_call</th>\n",
       "      <td>0.026133</td>\n",
       "      <td>0.032689</td>\n",
       "      <td>0.006415</td>\n",
       "      <td>0.015298</td>\n",
       "      <td>0.019557</td>\n",
       "      <td>-0.019943</td>\n",
       "      <td>0.011130</td>\n",
       "      <td>-0.019947</td>\n",
       "      <td>-0.030188</td>\n",
       "      <td>0.005539</td>\n",
       "      <td>...</td>\n",
       "      <td>-0.018780</td>\n",
       "      <td>-0.002548</td>\n",
       "      <td>-0.008959</td>\n",
       "      <td>0.001915</td>\n",
       "      <td>0.009178</td>\n",
       "      <td>-0.012799</td>\n",
       "      <td>1.000000</td>\n",
       "      <td>-0.034731</td>\n",
       "      <td>-0.039234</td>\n",
       "      <td>0.019346</td>\n",
       "    </tr>\n",
       "    <tr>\n",
       "      <th>total_net_charge</th>\n",
       "      <td>0.001454</td>\n",
       "      <td>-0.008393</td>\n",
       "      <td>0.048415</td>\n",
       "      <td>0.008585</td>\n",
       "      <td>0.009766</td>\n",
       "      <td>0.884754</td>\n",
       "      <td>0.003673</td>\n",
       "      <td>0.884757</td>\n",
       "      <td>0.413143</td>\n",
       "      <td>0.009392</td>\n",
       "      <td>...</td>\n",
       "      <td>0.055036</td>\n",
       "      <td>-0.019873</td>\n",
       "      <td>0.231549</td>\n",
       "      <td>-0.018105</td>\n",
       "      <td>0.005529</td>\n",
       "      <td>-0.016375</td>\n",
       "      <td>-0.034731</td>\n",
       "      <td>1.000000</td>\n",
       "      <td>0.890804</td>\n",
       "      <td>0.022225</td>\n",
       "    </tr>\n",
       "    <tr>\n",
       "      <th>total_net_minutes</th>\n",
       "      <td>-0.004785</td>\n",
       "      <td>-0.006828</td>\n",
       "      <td>0.025850</td>\n",
       "      <td>0.014503</td>\n",
       "      <td>0.014779</td>\n",
       "      <td>0.611587</td>\n",
       "      <td>0.005559</td>\n",
       "      <td>0.611591</td>\n",
       "      <td>0.560621</td>\n",
       "      <td>0.002198</td>\n",
       "      <td>...</td>\n",
       "      <td>0.010152</td>\n",
       "      <td>-0.020969</td>\n",
       "      <td>0.198607</td>\n",
       "      <td>-0.009162</td>\n",
       "      <td>0.009471</td>\n",
       "      <td>-0.003837</td>\n",
       "      <td>-0.039234</td>\n",
       "      <td>0.890804</td>\n",
       "      <td>1.000000</td>\n",
       "      <td>0.018204</td>\n",
       "    </tr>\n",
       "    <tr>\n",
       "      <th>total_net_calls</th>\n",
       "      <td>0.027542</td>\n",
       "      <td>-0.004836</td>\n",
       "      <td>0.014037</td>\n",
       "      <td>-0.000807</td>\n",
       "      <td>-0.003911</td>\n",
       "      <td>0.026676</td>\n",
       "      <td>0.575542</td>\n",
       "      <td>0.026678</td>\n",
       "      <td>-0.014617</td>\n",
       "      <td>0.587726</td>\n",
       "      <td>...</td>\n",
       "      <td>0.012209</td>\n",
       "      <td>-0.018161</td>\n",
       "      <td>0.015807</td>\n",
       "      <td>-0.021286</td>\n",
       "      <td>0.001962</td>\n",
       "      <td>0.010735</td>\n",
       "      <td>0.019346</td>\n",
       "      <td>0.022225</td>\n",
       "      <td>0.018204</td>\n",
       "      <td>1.000000</td>\n",
       "    </tr>\n",
       "  </tbody>\n",
       "</table>\n",
       "<p>26 rows × 26 columns</p>\n",
       "</div>"
      ],
      "text/plain": [
       "                        account_length  area_code  international_plan  \\\n",
       "account_length                1.000000  -0.012463            0.024735   \n",
       "area_code                    -0.012463   1.000000            0.048551   \n",
       "international_plan            0.024735   0.048551            1.000000   \n",
       "voice_mail_plan               0.002918  -0.000747            0.006006   \n",
       "number_vmail_messages        -0.004628  -0.001994            0.008745   \n",
       "total_day_minutes             0.006216  -0.008264            0.049396   \n",
       "total_day_calls               0.038470  -0.009646            0.003755   \n",
       "total_day_charge              0.006214  -0.008264            0.049398   \n",
       "total_eve_minutes            -0.006757   0.003580            0.019100   \n",
       "total_eve_calls               0.019260  -0.011886            0.006114   \n",
       "total_eve_charge             -0.006745   0.003607            0.019106   \n",
       "total_night_minutes          -0.008955  -0.005825           -0.028905   \n",
       "total_night_calls            -0.013176   0.016522            0.012451   \n",
       "total_night_charge           -0.008960  -0.005845           -0.028913   \n",
       "total_intl_minutes            0.009514  -0.018288            0.045871   \n",
       "total_intl_calls              0.020661  -0.024179            0.017366   \n",
       "total_intl_charge             0.009546  -0.018395            0.045780   \n",
       "customer_service_calls       -0.003796   0.027572           -0.024522   \n",
       "churn                         0.016541   0.006174            0.259852   \n",
       "cost_per_day_call            -0.000073  -0.009105            0.016647   \n",
       "cost_per_intl_call            0.006221  -0.024514           -0.018257   \n",
       "cost_per_night_call          -0.009487  -0.008893           -0.015902   \n",
       "cost_per_eve_call             0.026133   0.032689            0.006415   \n",
       "total_net_charge              0.001454  -0.008393            0.048415   \n",
       "total_net_minutes            -0.004785  -0.006828            0.025850   \n",
       "total_net_calls               0.027542  -0.004836            0.014037   \n",
       "\n",
       "                        voice_mail_plan  number_vmail_messages  \\\n",
       "account_length                 0.002918              -0.004628   \n",
       "area_code                     -0.000747              -0.001994   \n",
       "international_plan             0.006006               0.008745   \n",
       "voice_mail_plan                1.000000               0.956927   \n",
       "number_vmail_messages          0.956927               1.000000   \n",
       "total_day_minutes             -0.001684               0.000778   \n",
       "total_day_calls               -0.011086              -0.009548   \n",
       "total_day_charge              -0.001686               0.000776   \n",
       "total_eve_minutes              0.021545               0.017562   \n",
       "total_eve_calls               -0.006444              -0.005864   \n",
       "total_eve_charge               0.021559               0.017578   \n",
       "total_night_minutes            0.006079               0.007681   \n",
       "total_night_calls              0.015553               0.007123   \n",
       "total_night_charge             0.006064               0.007663   \n",
       "total_intl_minutes            -0.001318               0.002856   \n",
       "total_intl_calls               0.007618               0.013957   \n",
       "total_intl_charge             -0.001276               0.002884   \n",
       "customer_service_calls        -0.017824              -0.013263   \n",
       "churn                         -0.102148              -0.089728   \n",
       "cost_per_day_call             -0.027948              -0.031363   \n",
       "cost_per_intl_call             0.012561               0.008435   \n",
       "cost_per_night_call           -0.016235              -0.018974   \n",
       "cost_per_eve_call              0.015298               0.019557   \n",
       "total_net_charge               0.008585               0.009766   \n",
       "total_net_minutes              0.014503               0.014779   \n",
       "total_net_calls               -0.000807              -0.003911   \n",
       "\n",
       "                        total_day_minutes  total_day_calls  total_day_charge  \\\n",
       "account_length                   0.006216         0.038470          0.006214   \n",
       "area_code                       -0.008264        -0.009646         -0.008264   \n",
       "international_plan               0.049396         0.003755          0.049398   \n",
       "voice_mail_plan                 -0.001684        -0.011086         -0.001686   \n",
       "number_vmail_messages            0.000778        -0.009548          0.000776   \n",
       "total_day_minutes                1.000000         0.006750          1.000000   \n",
       "total_day_calls                  0.006750         1.000000          0.006753   \n",
       "total_day_charge                 1.000000         0.006753          1.000000   \n",
       "total_eve_minutes                0.007043        -0.021451          0.007050   \n",
       "total_eve_calls                  0.015769         0.006462          0.015769   \n",
       "total_eve_charge                 0.007029        -0.021449          0.007036   \n",
       "total_night_minutes              0.004323         0.022938          0.004324   \n",
       "total_night_calls                0.022972        -0.019557          0.022972   \n",
       "total_night_charge               0.004300         0.022927          0.004301   \n",
       "total_intl_minutes              -0.010155         0.021565         -0.010157   \n",
       "total_intl_calls                 0.008033         0.004574          0.008032   \n",
       "total_intl_charge               -0.010092         0.021666         -0.010094   \n",
       "customer_service_calls          -0.013423        -0.018942         -0.013427   \n",
       "churn                            0.205151         0.018459          0.205151   \n",
       "cost_per_day_call               -0.027128        -0.006811         -0.026918   \n",
       "cost_per_intl_call               0.011097         0.016938          0.011096   \n",
       "cost_per_night_call             -0.022404        -0.008315         -0.022414   \n",
       "cost_per_eve_call               -0.019943         0.011130         -0.019947   \n",
       "total_net_charge                 0.884754         0.003673          0.884757   \n",
       "total_net_minutes                0.611587         0.005559          0.611591   \n",
       "total_net_calls                  0.026676         0.575542          0.026678   \n",
       "\n",
       "                        total_eve_minutes  total_eve_calls  ...  \\\n",
       "account_length                  -0.006757         0.019260  ...   \n",
       "area_code                        0.003580        -0.011886  ...   \n",
       "international_plan               0.019100         0.006114  ...   \n",
       "voice_mail_plan                  0.021545        -0.006444  ...   \n",
       "number_vmail_messages            0.017562        -0.005864  ...   \n",
       "total_day_minutes                0.007043         0.015769  ...   \n",
       "total_day_calls                 -0.021451         0.006462  ...   \n",
       "total_day_charge                 0.007050         0.015769  ...   \n",
       "total_eve_minutes                1.000000        -0.011430  ...   \n",
       "total_eve_calls                 -0.011430         1.000000  ...   \n",
       "total_eve_charge                 1.000000        -0.011423  ...   \n",
       "total_night_minutes             -0.012584        -0.002093  ...   \n",
       "total_night_calls                0.007586         0.007710  ...   \n",
       "total_night_charge              -0.012593        -0.002056  ...   \n",
       "total_intl_minutes              -0.011035         0.008703  ...   \n",
       "total_intl_calls                 0.002541         0.017434  ...   \n",
       "total_intl_charge               -0.011067         0.008674  ...   \n",
       "customer_service_calls          -0.012985         0.002423  ...   \n",
       "churn                            0.092796         0.009233  ...   \n",
       "cost_per_day_call                0.017592         0.001509  ...   \n",
       "cost_per_intl_call              -0.006197        -0.005190  ...   \n",
       "cost_per_night_call              0.001652         0.025952  ...   \n",
       "cost_per_eve_call               -0.030188         0.005539  ...   \n",
       "total_net_charge                 0.413143         0.009392  ...   \n",
       "total_net_minutes                0.560621         0.002198  ...   \n",
       "total_net_calls                 -0.014617         0.587726  ...   \n",
       "\n",
       "                        total_intl_charge  customer_service_calls     churn  \\\n",
       "account_length                   0.009546               -0.003796  0.016541   \n",
       "area_code                       -0.018395                0.027572  0.006174   \n",
       "international_plan               0.045780               -0.024522  0.259852   \n",
       "voice_mail_plan                 -0.001276               -0.017824 -0.102148   \n",
       "number_vmail_messages            0.002884               -0.013263 -0.089728   \n",
       "total_day_minutes               -0.010092               -0.013423  0.205151   \n",
       "total_day_calls                  0.021666               -0.018942  0.018459   \n",
       "total_day_charge                -0.010094               -0.013427  0.205151   \n",
       "total_eve_minutes               -0.011067               -0.012985  0.092796   \n",
       "total_eve_calls                  0.008674                0.002423  0.009233   \n",
       "total_eve_charge                -0.011074               -0.012987  0.092786   \n",
       "total_night_minutes             -0.015180               -0.009288  0.035493   \n",
       "total_night_calls               -0.013630               -0.012802  0.006141   \n",
       "total_night_charge              -0.015186               -0.009277  0.035496   \n",
       "total_intl_minutes               0.999993               -0.009640  0.068239   \n",
       "total_intl_calls                 0.032372               -0.017561 -0.052844   \n",
       "total_intl_charge                1.000000               -0.009675  0.068259   \n",
       "customer_service_calls          -0.009675                1.000000  0.208750   \n",
       "churn                            0.068259                0.208750  1.000000   \n",
       "cost_per_day_call               -0.009526               -0.012554 -0.007103   \n",
       "cost_per_intl_call              -0.072017               -0.025068 -0.001715   \n",
       "cost_per_night_call             -0.015614                0.002041 -0.003009   \n",
       "cost_per_eve_call               -0.018780               -0.002548 -0.008959   \n",
       "total_net_charge                 0.055036               -0.019873  0.231549   \n",
       "total_net_minutes                0.010152               -0.020969  0.198607   \n",
       "total_net_calls                  0.012209               -0.018161  0.015807   \n",
       "\n",
       "                        cost_per_day_call  cost_per_intl_call  \\\n",
       "account_length                  -0.000073            0.006221   \n",
       "area_code                       -0.009105           -0.024514   \n",
       "international_plan               0.016647           -0.018257   \n",
       "voice_mail_plan                 -0.027948            0.012561   \n",
       "number_vmail_messages           -0.031363            0.008435   \n",
       "total_day_minutes               -0.027128            0.011097   \n",
       "total_day_calls                 -0.006811            0.016938   \n",
       "total_day_charge                -0.026918            0.011096   \n",
       "total_eve_minutes                0.017592           -0.006197   \n",
       "total_eve_calls                  0.001509           -0.005190   \n",
       "total_eve_charge                 0.017597           -0.006192   \n",
       "total_night_minutes             -0.004255            0.015159   \n",
       "total_night_calls               -0.030640           -0.010011   \n",
       "total_night_charge              -0.004281            0.015147   \n",
       "total_intl_minutes              -0.009498           -0.075697   \n",
       "total_intl_calls                -0.010863            0.010990   \n",
       "total_intl_charge               -0.009526           -0.072017   \n",
       "customer_service_calls          -0.012554           -0.025068   \n",
       "churn                           -0.007103           -0.001715   \n",
       "cost_per_day_call                1.000000           -0.001227   \n",
       "cost_per_intl_call              -0.001227            1.000000   \n",
       "cost_per_night_call             -0.022826           -0.020056   \n",
       "cost_per_eve_call                0.001915            0.009178   \n",
       "total_net_charge                -0.018105            0.005529   \n",
       "total_net_minutes               -0.009162            0.009471   \n",
       "total_net_calls                 -0.021286            0.001962   \n",
       "\n",
       "                        cost_per_night_call  cost_per_eve_call  \\\n",
       "account_length                    -0.009487           0.026133   \n",
       "area_code                         -0.008893           0.032689   \n",
       "international_plan                -0.015902           0.006415   \n",
       "voice_mail_plan                   -0.016235           0.015298   \n",
       "number_vmail_messages             -0.018974           0.019557   \n",
       "total_day_minutes                 -0.022404          -0.019943   \n",
       "total_day_calls                   -0.008315           0.011130   \n",
       "total_day_charge                  -0.022414          -0.019947   \n",
       "total_eve_minutes                  0.001652          -0.030188   \n",
       "total_eve_calls                    0.025952           0.005539   \n",
       "total_eve_charge                   0.001650          -0.029552   \n",
       "total_night_minutes                0.016506          -0.017021   \n",
       "total_night_calls                 -0.001506           0.016695   \n",
       "total_night_charge                 0.017675          -0.017024   \n",
       "total_intl_minutes                -0.015530          -0.018776   \n",
       "total_intl_calls                   0.019959           0.002483   \n",
       "total_intl_charge                 -0.015614          -0.018780   \n",
       "customer_service_calls             0.002041          -0.002548   \n",
       "churn                             -0.003009          -0.008959   \n",
       "cost_per_day_call                 -0.022826           0.001915   \n",
       "cost_per_intl_call                -0.020056           0.009178   \n",
       "cost_per_night_call                1.000000          -0.012799   \n",
       "cost_per_eve_call                 -0.012799           1.000000   \n",
       "total_net_charge                  -0.016375          -0.034731   \n",
       "total_net_minutes                 -0.003837          -0.039234   \n",
       "total_net_calls                    0.010735           0.019346   \n",
       "\n",
       "                        total_net_charge  total_net_minutes  total_net_calls  \n",
       "account_length                  0.001454          -0.004785         0.027542  \n",
       "area_code                      -0.008393          -0.006828        -0.004836  \n",
       "international_plan              0.048415           0.025850         0.014037  \n",
       "voice_mail_plan                 0.008585           0.014503        -0.000807  \n",
       "number_vmail_messages           0.009766           0.014779        -0.003911  \n",
       "total_day_minutes               0.884754           0.611587         0.026676  \n",
       "total_day_calls                 0.003673           0.005559         0.575542  \n",
       "total_day_charge                0.884757           0.611591         0.026678  \n",
       "total_eve_minutes               0.413143           0.560621        -0.014617  \n",
       "total_eve_calls                 0.009392           0.002198         0.587726  \n",
       "total_eve_charge                0.413129           0.560608        -0.014606  \n",
       "total_night_minutes             0.214257           0.557269         0.017635  \n",
       "total_night_calls               0.024818           0.024063         0.561146  \n",
       "total_night_charge              0.214233           0.557249         0.017642  \n",
       "total_intl_minutes              0.054988           0.010117         0.012176  \n",
       "total_intl_calls                0.007776           0.000354         0.084367  \n",
       "total_intl_charge               0.055036           0.010152         0.012209  \n",
       "customer_service_calls         -0.019873          -0.020969        -0.018161  \n",
       "churn                           0.231549           0.198607         0.015807  \n",
       "cost_per_day_call              -0.018105          -0.009162        -0.021286  \n",
       "cost_per_intl_call              0.005529           0.009471         0.001962  \n",
       "cost_per_night_call            -0.016375          -0.003837         0.010735  \n",
       "cost_per_eve_call              -0.034731          -0.039234         0.019346  \n",
       "total_net_charge                1.000000           0.890804         0.022225  \n",
       "total_net_minutes               0.890804           1.000000         0.018204  \n",
       "total_net_calls                 0.022225           0.018204         1.000000  \n",
       "\n",
       "[26 rows x 26 columns]"
      ]
     },
     "execution_count": 84,
     "metadata": {},
     "output_type": "execute_result"
    }
   ],
   "source": [
    "#Correlation data\n",
    "corr_matrix = df.corr()\n",
    "corr_matrix"
   ]
  },
  {
   "cell_type": "code",
   "execution_count": 85,
   "id": "c6de2107",
   "metadata": {
    "ExecuteTime": {
     "end_time": "2022-07-22T19:58:30.762659Z",
     "start_time": "2022-07-22T19:58:28.985412Z"
    }
   },
   "outputs": [
    {
     "data": {
      "text/plain": [
       "<AxesSubplot:>"
      ]
     },
     "execution_count": 85,
     "metadata": {},
     "output_type": "execute_result"
    },
    {
     "data": {
      "image/png": "[encoded data removed]",
      "text/plain": [
       "<Figure size 720x720 with 2 Axes>"
      ]
     },
     "metadata": {},
     "output_type": "display_data"
    }
   ],
   "source": [
    "#Heatmap\n",
    "plt.figure(figsize = (10,10))\n",
    "sns.heatmap(corr_matrix,data = df)"
   ]
  },
  {
   "cell_type": "markdown",
   "id": "c58f5114",
   "metadata": {},
   "source": [
    "##### Addressing multicolinaraty "
   ]
  },
  {
   "cell_type": "code",
   "execution_count": 86,
   "id": "2215816c",
   "metadata": {
    "ExecuteTime": {
     "end_time": "2022-07-22T19:58:31.617372Z",
     "start_time": "2022-07-22T19:58:31.604406Z"
    }
   },
   "outputs": [],
   "source": [
    "#Drop features with multicolinarity\n",
    "df.drop(columns=['total_day_minutes', 'total_night_minutes', 'total_eve_minutes', \n",
    "                 'total_intl_minutes', 'cost_per_day_call', 'cost_per_intl_call', \n",
    "                 'cost_per_night_call', 'cost_per_eve_call', 'total_net_charge', \n",
    "                 'total_net_minutes', 'total_net_calls'], inplace=True)"
   ]
  },
  {
   "cell_type": "code",
   "execution_count": 87,
   "id": "25c57be0",
   "metadata": {
    "ExecuteTime": {
     "end_time": "2022-07-22T19:58:32.423245Z",
     "start_time": "2022-07-22T19:58:32.396286Z"
    }
   },
   "outputs": [
    {
     "name": "stdout",
     "output_type": "stream",
     "text": [
      "<class 'pandas.core.frame.DataFrame'>\n",
      "RangeIndex: 3333 entries, 0 to 3332\n",
      "Data columns (total 16 columns):\n",
      " #   Column                  Non-Null Count  Dtype   \n",
      "---  ------                  --------------  -----   \n",
      " 0   state                   3333 non-null   category\n",
      " 1   account_length          3333 non-null   int64   \n",
      " 2   area_code               3333 non-null   int64   \n",
      " 3   international_plan      3333 non-null   int64   \n",
      " 4   voice_mail_plan         3333 non-null   int64   \n",
      " 5   number_vmail_messages   3333 non-null   int64   \n",
      " 6   total_day_calls         3333 non-null   int64   \n",
      " 7   total_day_charge        3333 non-null   float64 \n",
      " 8   total_eve_calls         3333 non-null   int64   \n",
      " 9   total_eve_charge        3333 non-null   float64 \n",
      " 10  total_night_calls       3333 non-null   int64   \n",
      " 11  total_night_charge      3333 non-null   float64 \n",
      " 12  total_intl_calls        3333 non-null   int64   \n",
      " 13  total_intl_charge       3333 non-null   float64 \n",
      " 14  customer_service_calls  3333 non-null   int64   \n",
      " 15  churn                   3333 non-null   int64   \n",
      "dtypes: category(1), float64(4), int64(11)\n",
      "memory usage: 396.9 KB\n"
     ]
    }
   ],
   "source": [
    "df.info()"
   ]
  },
  {
   "cell_type": "code",
   "execution_count": 88,
   "id": "64d3e6ac",
   "metadata": {
    "ExecuteTime": {
     "end_time": "2022-07-22T19:58:33.842450Z",
     "start_time": "2022-07-22T19:58:33.120350Z"
    }
   },
   "outputs": [
    {
     "data": {
      "text/plain": [
       "<AxesSubplot:>"
      ]
     },
     "execution_count": 88,
     "metadata": {},
     "output_type": "execute_result"
    },
    {
     "data": {
      "image/png": "[encoded data removed]",
      "text/plain": [
       "<Figure size 720x720 with 2 Axes>"
      ]
     },
     "metadata": {},
     "output_type": "display_data"
    }
   ],
   "source": [
    "#Check heatmap again\n",
    "corr_matrix = df.corr()\n",
    "corr_matrix\n",
    "plt.figure(figsize = (10,10))\n",
    "sns.heatmap(corr_matrix,data = df)"
   ]
  },
  {
   "cell_type": "code",
   "execution_count": 89,
   "id": "06c7956b",
   "metadata": {
    "ExecuteTime": {
     "end_time": "2022-07-22T19:58:34.565483Z",
     "start_time": "2022-07-22T19:58:34.536562Z"
    }
   },
   "outputs": [
    {
     "data": {
      "text/plain": [
       "churn                     1.000000\n",
       "international_plan        0.259852\n",
       "customer_service_calls    0.208750\n",
       "total_day_charge          0.205151\n",
       "total_eve_charge          0.092786\n",
       "total_intl_charge         0.068259\n",
       "total_night_charge        0.035496\n",
       "total_day_calls           0.018459\n",
       "account_length            0.016541\n",
       "total_eve_calls           0.009233\n",
       "area_code                 0.006174\n",
       "total_night_calls         0.006141\n",
       "total_intl_calls         -0.052844\n",
       "number_vmail_messages    -0.089728\n",
       "voice_mail_plan          -0.102148\n",
       "Name: churn, dtype: float64"
      ]
     },
     "execution_count": 89,
     "metadata": {},
     "output_type": "execute_result"
    }
   ],
   "source": [
    "#Sort correlations by descending order\n",
    "corr_matrix = df.corr()\n",
    "corr_matrix['churn'].sort_values(ascending=False)"
   ]
  },
  {
   "cell_type": "markdown",
   "id": "2e5606c9",
   "metadata": {},
   "source": [
    "### Data\n",
    "\n",
    "In this sample dataset of the population of SyriaTel clients, the churn rate is 14.5%. The number one reason of churn in the telecom industry is customer service issues. By identifying the early indicators of customer dissatisfaction and addressing them boldly to achieve utmost customer satisfaction.\n",
    "\n",
    "Using a Pearson's correlation, the following features had the highest correlations to churn\n",
    "\n",
    "1. total_net_charge         \n",
    "2. customer_service_calls    \n",
    "3. total_day_minutes         \n",
    "\n",
    "The Pearson correlation coefficient only measures linear correlations, thus categorical features were not addressed. "
   ]
  },
  {
   "cell_type": "markdown",
   "id": "820bc38f",
   "metadata": {},
   "source": [
    "## Modeling"
   ]
  },
  {
   "cell_type": "code",
   "execution_count": 90,
   "id": "c06b146a",
   "metadata": {
    "ExecuteTime": {
     "end_time": "2022-07-22T19:58:36.427534Z",
     "start_time": "2022-07-22T19:58:36.405595Z"
    }
   },
   "outputs": [],
   "source": [
    "#Define Evaluating metrics\n",
    "from sklearn.metrics import precision_score, recall_score, accuracy_score, f1_score, log_loss, plot_confusion_matrix\n",
    "\n",
    "def evaluate_model(model, X, y):\n",
    "    y_pred = model.predict(X)\n",
    "    print(f'Accuracy Score: {round(accuracy_score(y, y_pred), 2)}')\n",
    "    print(f'Recall Score: {round(recall_score(y, y_pred), 2)}')\n",
    "    print(f'Precision Score: {round(precision_score(y, y_pred), 2)}')\n",
    "    print(f'F1 Score: {round(f1_score(y, y_pred), 2)}')\n",
    "    plot_confusion_matrix(model, X, y,cmap=\"Reds\")"
   ]
  },
  {
   "cell_type": "markdown",
   "id": "01adb703",
   "metadata": {},
   "source": [
    "### Model 1: Buidling a Vanilla Model using Logistic Regression"
   ]
  },
  {
   "cell_type": "code",
   "execution_count": 91,
   "id": "43b7a4d4",
   "metadata": {
    "ExecuteTime": {
     "end_time": "2022-07-22T19:58:38.378316Z",
     "start_time": "2022-07-22T19:58:38.369313Z"
    }
   },
   "outputs": [],
   "source": [
    "#Split Target\n",
    "X0 = df.drop(['state','churn'], axis=1)\n",
    "y0 = df['churn']"
   ]
  },
  {
   "cell_type": "code",
   "execution_count": 92,
   "id": "37ac90c0",
   "metadata": {
    "ExecuteTime": {
     "end_time": "2022-07-22T19:58:39.913182Z",
     "start_time": "2022-07-22T19:58:39.891239Z"
    }
   },
   "outputs": [],
   "source": [
    "#Train Test Split\n",
    "X0_train, X0_test, y0_train, y0_test = train_test_split(X0, y0, test_size=0.25, random_state=42)"
   ]
  },
  {
   "cell_type": "code",
   "execution_count": 93,
   "id": "381c71b7",
   "metadata": {
    "ExecuteTime": {
     "end_time": "2022-07-22T19:58:41.305455Z",
     "start_time": "2022-07-22T19:58:41.198740Z"
    }
   },
   "outputs": [
    {
     "data": {
      "text/plain": [
       "LogisticRegression(C=1000000000000.0, fit_intercept=False, solver='liblinear')"
      ]
     },
     "execution_count": 93,
     "metadata": {},
     "output_type": "execute_result"
    }
   ],
   "source": [
    "# Instantiate LogisticRegression \n",
    "logreg = LogisticRegression(fit_intercept=False, C=1e12, solver='liblinear')\n",
    "\n",
    "# Fit to training data\n",
    "model_log = logreg.fit(X0_train, y0_train)\n",
    "model_log"
   ]
  },
  {
   "cell_type": "code",
   "execution_count": 94,
   "id": "5a0fc1b1",
   "metadata": {
    "ExecuteTime": {
     "end_time": "2022-07-22T19:58:42.680780Z",
     "start_time": "2022-07-22T19:58:42.669806Z"
    }
   },
   "outputs": [],
   "source": [
    "# Function to calculate Recall\n",
    "def recall(y0, y_hat):\n",
    "    # Could also use confusion matrix\n",
    "    y_y_hat = list(zip(y0, y_hat))\n",
    "    tp = sum([1 for i in y_y_hat if i[0] == 1 and i[1] == 1])\n",
    "    fn = sum([1 for i in y_y_hat if i[0] == 1 and i[1] == 0])\n",
    "    return tp / float(tp + fn)"
   ]
  },
  {
   "cell_type": "code",
   "execution_count": 95,
   "id": "a1adc0a0",
   "metadata": {
    "ExecuteTime": {
     "end_time": "2022-07-22T19:58:44.151841Z",
     "start_time": "2022-07-22T19:58:44.126909Z"
    }
   },
   "outputs": [],
   "source": [
    "y_hat_train = logreg.predict(X0_train)\n",
    "y_hat_test = logreg.predict(X0_test)"
   ]
  },
  {
   "cell_type": "code",
   "execution_count": 96,
   "id": "aa742242",
   "metadata": {
    "ExecuteTime": {
     "end_time": "2022-07-22T19:58:45.706681Z",
     "start_time": "2022-07-22T19:58:45.681749Z"
    }
   },
   "outputs": [
    {
     "name": "stdout",
     "output_type": "stream",
     "text": [
      "Training Recall:  20.949720670391063\n",
      "Testing Recall:  14.399999999999999\n"
     ]
    }
   ],
   "source": [
    "print('Training Recall: ', recall(y0_train, y_hat_train) * 100)\n",
    "print('Testing Recall: ', recall(y0_test, y_hat_test) * 100)"
   ]
  },
  {
   "cell_type": "code",
   "execution_count": 99,
   "id": "afb6f945",
   "metadata": {
    "ExecuteTime": {
     "end_time": "2022-07-22T19:58:49.288101Z",
     "start_time": "2022-07-22T19:58:48.930062Z"
    }
   },
   "outputs": [
    {
     "name": "stdout",
     "output_type": "stream",
     "text": [
      "Accuracy Score: 0.86\n",
      "Recall Score: 0.14\n",
      "Precision Score: 0.6\n",
      "F1 Score: 0.23\n"
     ]
    },
    {
     "data": {
      "image/png": "[encoded data removed]",
      "text/plain": [
       "<Figure size 432x288 with 2 Axes>"
      ]
     },
     "metadata": {},
     "output_type": "display_data"
    }
   ],
   "source": [
    "evaluate_model(model_log, X0_test, y0_test)"
   ]
  },
  {
   "cell_type": "markdown",
   "id": "1fefdc83",
   "metadata": {},
   "source": [
    "##### Smote\n",
    "Use the SMOTE class from the imblearn package in order to improve the model's performance on the minority class."
   ]
  },
  {
   "cell_type": "code",
   "execution_count": 100,
   "id": "508e7855",
   "metadata": {
    "ExecuteTime": {
     "end_time": "2022-07-22T19:58:50.551720Z",
     "start_time": "2022-07-22T19:58:50.509835Z"
    }
   },
   "outputs": [],
   "source": [
    "#Fit SMOTE to training data\n",
    "X0_train_resampled, y0_train_resampled = SMOTE().fit_resample(X0_train, y0_train)"
   ]
  },
  {
   "cell_type": "code",
   "execution_count": 101,
   "id": "8422e40f",
   "metadata": {
    "ExecuteTime": {
     "end_time": "2022-07-22T19:58:51.703671Z",
     "start_time": "2022-07-22T19:58:51.644799Z"
    }
   },
   "outputs": [
    {
     "data": {
      "text/plain": [
       "LogisticRegression(C=1000000000000.0, fit_intercept=False, solver='liblinear')"
      ]
     },
     "execution_count": 101,
     "metadata": {},
     "output_type": "execute_result"
    }
   ],
   "source": [
    "#Instantiate LogisticRegression \n",
    "logreg = LogisticRegression(fit_intercept=False, C=1e12, solver='liblinear')\n",
    "\n",
    "#Fit to training data\n",
    "model_log = logreg.fit(X0_train_resampled, y0_train_resampled)\n",
    "model_log"
   ]
  },
  {
   "cell_type": "code",
   "execution_count": 102,
   "id": "2dc83346",
   "metadata": {
    "ExecuteTime": {
     "end_time": "2022-07-22T19:58:52.785816Z",
     "start_time": "2022-07-22T19:58:52.773779Z"
    }
   },
   "outputs": [],
   "source": [
    "y_hat_train = logreg.predict(X0_train_resampled)\n",
    "y_hat_test = logreg.predict(X0_test)"
   ]
  },
  {
   "cell_type": "code",
   "execution_count": 103,
   "id": "6a3d33c0",
   "metadata": {
    "ExecuteTime": {
     "end_time": "2022-07-22T19:58:53.763163Z",
     "start_time": "2022-07-22T19:58:53.750199Z"
    }
   },
   "outputs": [
    {
     "name": "stdout",
     "output_type": "stream",
     "text": [
      "Training Recall:  73.46368715083798\n",
      "Testing Recall:  78.4\n"
     ]
    }
   ],
   "source": [
    "print('Training Recall: ', recall(y0_train, y_hat_train) * 100)\n",
    "print('Testing Recall: ', recall(y0_test, y_hat_test) * 100)"
   ]
  },
  {
   "cell_type": "code",
   "execution_count": 104,
   "id": "096a8a3e",
   "metadata": {
    "ExecuteTime": {
     "end_time": "2022-07-22T19:58:55.003814Z",
     "start_time": "2022-07-22T19:58:54.739519Z"
    }
   },
   "outputs": [
    {
     "name": "stdout",
     "output_type": "stream",
     "text": [
      "Accuracy Score: 0.73\n",
      "Recall Score: 0.78\n",
      "Precision Score: 0.33\n",
      "F1 Score: 0.46\n"
     ]
    },
    {
     "data": {
      "image/png": "[encoded data removed]",
      "text/plain": [
       "<Figure size 432x288 with 2 Axes>"
      ]
     },
     "metadata": {},
     "output_type": "display_data"
    }
   ],
   "source": [
    "evaluate_model(model_log, X0_test, y0_test)"
   ]
  },
  {
   "cell_type": "markdown",
   "id": "77979dba",
   "metadata": {},
   "source": [
    "Using smote really helped increase our recall score"
   ]
  },
  {
   "cell_type": "markdown",
   "id": "7b88bdb2",
   "metadata": {},
   "source": [
    "### Model 2: K-Nearest Neighbors"
   ]
  },
  {
   "cell_type": "code",
   "execution_count": 106,
   "id": "b0589324",
   "metadata": {
    "ExecuteTime": {
     "end_time": "2022-07-22T19:59:11.896016Z",
     "start_time": "2022-07-22T19:59:11.878068Z"
    }
   },
   "outputs": [],
   "source": [
    "#Split target\n",
    "X4 = df.drop(['state','churn'], axis=1)\n",
    "y4 = df['churn']"
   ]
  },
  {
   "cell_type": "code",
   "execution_count": 107,
   "id": "64afdcc8",
   "metadata": {
    "ExecuteTime": {
     "end_time": "2022-07-22T19:59:13.032012Z",
     "start_time": "2022-07-22T19:59:13.020010Z"
    }
   },
   "outputs": [],
   "source": [
    "#Train Test Split\n",
    "X4_train, X4_test, y4_train, y4_test = train_test_split(X4, y4, test_size=0.25, random_state=42)"
   ]
  },
  {
   "cell_type": "code",
   "execution_count": 110,
   "id": "2cb03c04",
   "metadata": {
    "ExecuteTime": {
     "end_time": "2022-07-22T19:59:23.731396Z",
     "start_time": "2022-07-22T19:59:23.681576Z"
    }
   },
   "outputs": [
    {
     "data": {
      "text/html": [
       "<div>\n",
       "<style scoped>\n",
       "    .dataframe tbody tr th:only-of-type {\n",
       "        vertical-align: middle;\n",
       "    }\n",
       "\n",
       "    .dataframe tbody tr th {\n",
       "        vertical-align: top;\n",
       "    }\n",
       "\n",
       "    .dataframe thead th {\n",
       "        text-align: right;\n",
       "    }\n",
       "</style>\n",
       "<table border=\"1\" class=\"dataframe\">\n",
       "  <thead>\n",
       "    <tr style=\"text-align: right;\">\n",
       "      <th></th>\n",
       "      <th>account_length</th>\n",
       "      <th>area_code</th>\n",
       "      <th>international_plan</th>\n",
       "      <th>voice_mail_plan</th>\n",
       "      <th>number_vmail_messages</th>\n",
       "      <th>total_day_calls</th>\n",
       "      <th>total_day_charge</th>\n",
       "      <th>total_eve_calls</th>\n",
       "      <th>total_eve_charge</th>\n",
       "      <th>total_night_calls</th>\n",
       "      <th>total_night_charge</th>\n",
       "      <th>total_intl_calls</th>\n",
       "      <th>total_intl_charge</th>\n",
       "      <th>customer_service_calls</th>\n",
       "    </tr>\n",
       "  </thead>\n",
       "  <tbody>\n",
       "    <tr>\n",
       "      <th>0</th>\n",
       "      <td>-1.404508</td>\n",
       "      <td>-0.512381</td>\n",
       "      <td>-0.327448</td>\n",
       "      <td>-0.611418</td>\n",
       "      <td>-0.584700</td>\n",
       "      <td>1.330852</td>\n",
       "      <td>-1.884170</td>\n",
       "      <td>0.401340</td>\n",
       "      <td>1.037905</td>\n",
       "      <td>0.004940</td>\n",
       "      <td>1.071757</td>\n",
       "      <td>-0.595235</td>\n",
       "      <td>2.767357</td>\n",
       "      <td>-0.427903</td>\n",
       "    </tr>\n",
       "    <tr>\n",
       "      <th>1</th>\n",
       "      <td>0.366388</td>\n",
       "      <td>-0.512381</td>\n",
       "      <td>-0.327448</td>\n",
       "      <td>-0.611418</td>\n",
       "      <td>-0.584700</td>\n",
       "      <td>0.529165</td>\n",
       "      <td>0.293703</td>\n",
       "      <td>0.401340</td>\n",
       "      <td>0.517286</td>\n",
       "      <td>0.670832</td>\n",
       "      <td>2.212569</td>\n",
       "      <td>-1.417963</td>\n",
       "      <td>1.045965</td>\n",
       "      <td>0.324616</td>\n",
       "    </tr>\n",
       "    <tr>\n",
       "      <th>2</th>\n",
       "      <td>0.518179</td>\n",
       "      <td>-0.679077</td>\n",
       "      <td>-0.327448</td>\n",
       "      <td>1.635543</td>\n",
       "      <td>1.685101</td>\n",
       "      <td>-1.875896</td>\n",
       "      <td>1.056666</td>\n",
       "      <td>0.849774</td>\n",
       "      <td>0.094283</td>\n",
       "      <td>-0.763398</td>\n",
       "      <td>-0.077797</td>\n",
       "      <td>0.227493</td>\n",
       "      <td>-0.053077</td>\n",
       "      <td>1.829653</td>\n",
       "    </tr>\n",
       "    <tr>\n",
       "      <th>3</th>\n",
       "      <td>2.010792</td>\n",
       "      <td>-0.512381</td>\n",
       "      <td>-0.327448</td>\n",
       "      <td>-0.611418</td>\n",
       "      <td>-0.584700</td>\n",
       "      <td>1.681590</td>\n",
       "      <td>-0.679320</td>\n",
       "      <td>0.650470</td>\n",
       "      <td>-0.403094</td>\n",
       "      <td>-0.660953</td>\n",
       "      <td>-0.322569</td>\n",
       "      <td>-0.183871</td>\n",
       "      <td>-0.053077</td>\n",
       "      <td>-0.427903</td>\n",
       "    </tr>\n",
       "    <tr>\n",
       "      <th>4</th>\n",
       "      <td>0.290493</td>\n",
       "      <td>1.749923</td>\n",
       "      <td>-0.327448</td>\n",
       "      <td>-0.611418</td>\n",
       "      <td>-0.584700</td>\n",
       "      <td>1.080325</td>\n",
       "      <td>0.484172</td>\n",
       "      <td>-0.296224</td>\n",
       "      <td>-0.719184</td>\n",
       "      <td>0.056162</td>\n",
       "      <td>-1.188013</td>\n",
       "      <td>1.050221</td>\n",
       "      <td>0.834102</td>\n",
       "      <td>1.077134</td>\n",
       "    </tr>\n",
       "  </tbody>\n",
       "</table>\n",
       "</div>"
      ],
      "text/plain": [
       "   account_length  area_code  international_plan  voice_mail_plan  \\\n",
       "0       -1.404508  -0.512381           -0.327448        -0.611418   \n",
       "1        0.366388  -0.512381           -0.327448        -0.611418   \n",
       "2        0.518179  -0.679077           -0.327448         1.635543   \n",
       "3        2.010792  -0.512381           -0.327448        -0.611418   \n",
       "4        0.290493   1.749923           -0.327448        -0.611418   \n",
       "\n",
       "   number_vmail_messages  total_day_calls  total_day_charge  total_eve_calls  \\\n",
       "0              -0.584700         1.330852         -1.884170         0.401340   \n",
       "1              -0.584700         0.529165          0.293703         0.401340   \n",
       "2               1.685101        -1.875896          1.056666         0.849774   \n",
       "3              -0.584700         1.681590         -0.679320         0.650470   \n",
       "4              -0.584700         1.080325          0.484172        -0.296224   \n",
       "\n",
       "   total_eve_charge  total_night_calls  total_night_charge  total_intl_calls  \\\n",
       "0          1.037905           0.004940            1.071757         -0.595235   \n",
       "1          0.517286           0.670832            2.212569         -1.417963   \n",
       "2          0.094283          -0.763398           -0.077797          0.227493   \n",
       "3         -0.403094          -0.660953           -0.322569         -0.183871   \n",
       "4         -0.719184           0.056162           -1.188013          1.050221   \n",
       "\n",
       "   total_intl_charge  customer_service_calls  \n",
       "0           2.767357               -0.427903  \n",
       "1           1.045965                0.324616  \n",
       "2          -0.053077                1.829653  \n",
       "3          -0.053077               -0.427903  \n",
       "4           0.834102                1.077134  "
      ]
     },
     "execution_count": 110,
     "metadata": {},
     "output_type": "execute_result"
    }
   ],
   "source": [
    "# Instantiate StandardScaler\n",
    "scaler = StandardScaler()\n",
    "\n",
    "# Transform the training and test sets\n",
    "scaled_data_train = scaler.fit_transform(X4_train)\n",
    "scaled_data_test = scaler.transform(X4_test)\n",
    "\n",
    "# Convert into a DataFrame\n",
    "scaled_df_train = pd.DataFrame(scaled_data_train, columns=X4.columns)\n",
    "scaled_df_train.head()"
   ]
  },
  {
   "cell_type": "code",
   "execution_count": 111,
   "id": "d26efa39",
   "metadata": {
    "ExecuteTime": {
     "end_time": "2022-07-22T19:59:25.295211Z",
     "start_time": "2022-07-22T19:59:25.139629Z"
    }
   },
   "outputs": [],
   "source": [
    "#Import KNeighborsClassifier\n",
    "from sklearn.neighbors import KNeighborsClassifier\n",
    "\n",
    "#Instantiate KNeighborsClassifier\n",
    "clf = KNeighborsClassifier()\n",
    "\n",
    "#Fit the classifier\n",
    "clf.fit(scaled_data_train, y4_train)\n",
    "\n",
    "#Predict on the test set\n",
    "test_preds = clf.predict(scaled_data_test)"
   ]
  },
  {
   "cell_type": "code",
   "execution_count": 112,
   "id": "e1b81455",
   "metadata": {
    "ExecuteTime": {
     "end_time": "2022-07-22T19:59:26.671532Z",
     "start_time": "2022-07-22T19:59:26.643605Z"
    }
   },
   "outputs": [
    {
     "name": "stdout",
     "output_type": "stream",
     "text": [
      "Precision Score: 73.91304347826086\n",
      "Recall Score: 27.200000000000003\n",
      "Accuracy Score: 87.64988009592327\n",
      "F1 Score: 39.76608187134503\n"
     ]
    }
   ],
   "source": [
    "#Create metrics function\n",
    "from sklearn.metrics import f1_score\n",
    "def print_metrics(y4, preds):\n",
    "    print(\"Precision Score: {}\".format(precision_score(y4, preds) * 100))\n",
    "    print(\"Recall Score: {}\".format(recall_score(y4, preds) * 100))\n",
    "    print(\"Accuracy Score: {}\".format(accuracy_score(y4, preds) * 100))\n",
    "    print(\"F1 Score: {}\".format(f1_score(y4, preds) * 100))\n",
    "    \n",
    "print_metrics(y4_test, test_preds)"
   ]
  },
  {
   "cell_type": "code",
   "execution_count": 113,
   "id": "e71eefcc",
   "metadata": {
    "ExecuteTime": {
     "end_time": "2022-07-22T19:59:28.032888Z",
     "start_time": "2022-07-22T19:59:28.021950Z"
    }
   },
   "outputs": [],
   "source": [
    "#Define function to find best K\n",
    "def find_best_k(X4_train, y4_train, X4_test, y4_test, min_k=1, max_k=25):\n",
    "    best_k = 0\n",
    "    best_score = 0.0\n",
    "    for k in range(min_k, max_k+1, 2):\n",
    "        knn = KNeighborsClassifier(n_neighbors=k)\n",
    "        knn.fit(X4_train, y4_train)\n",
    "        preds = knn.predict(X4_test)\n",
    "        recall1 = recall_score(y4_test, preds)\n",
    "        if recall1 > best_score:\n",
    "            best_k = k\n",
    "            best_score = recall1\n",
    "    \n",
    "    print(\"Best Value for k: {}\".format(best_k))\n",
    "    print(\"Recall: {}\".format(best_score))"
   ]
  },
  {
   "cell_type": "code",
   "execution_count": 114,
   "id": "494f1b59",
   "metadata": {
    "ExecuteTime": {
     "end_time": "2022-07-22T19:59:32.020515Z",
     "start_time": "2022-07-22T19:59:30.361920Z"
    }
   },
   "outputs": [
    {
     "name": "stdout",
     "output_type": "stream",
     "text": [
      "Best Value for k: 1\n",
      "Recall: 0.472\n"
     ]
    }
   ],
   "source": [
    "#Find best value for K\n",
    "find_best_k(scaled_data_train, y4_train, scaled_data_test, y4_test)"
   ]
  },
  {
   "cell_type": "code",
   "execution_count": 115,
   "id": "c3f05592",
   "metadata": {
    "ExecuteTime": {
     "end_time": "2022-07-22T19:59:33.919593Z",
     "start_time": "2022-07-22T19:59:33.416745Z"
    }
   },
   "outputs": [
    {
     "name": "stdout",
     "output_type": "stream",
     "text": [
      "Accuracy Score: 0.88\n",
      "Recall Score: 0.27\n",
      "Precision Score: 0.74\n",
      "F1 Score: 0.4\n"
     ]
    },
    {
     "data": {
      "image/png": "[encoded data removed]",
      "text/plain": [
       "<Figure size 432x288 with 2 Axes>"
      ]
     },
     "metadata": {},
     "output_type": "display_data"
    }
   ],
   "source": [
    "evaluate_model(clf, scaled_data_test, y4_test)"
   ]
  },
  {
   "cell_type": "markdown",
   "id": "21bc941b",
   "metadata": {},
   "source": [
    "### Model 3: Random Forest Model"
   ]
  },
  {
   "cell_type": "code",
   "execution_count": 117,
   "id": "3159b22e",
   "metadata": {
    "ExecuteTime": {
     "end_time": "2022-07-22T20:01:16.959414Z",
     "start_time": "2022-07-22T20:01:16.931493Z"
    }
   },
   "outputs": [
    {
     "data": {
      "text/plain": [
       "((2333, 14), (1000, 14))"
      ]
     },
     "execution_count": 117,
     "metadata": {},
     "output_type": "execute_result"
    }
   ],
   "source": [
    "#train,test split\n",
    "X = df.drop(['state','churn'], axis=1)\n",
    "y = df['churn']\n",
    "\n",
    "X_train,X_test,y_train,y_test = train_test_split(X, y,test_size = 0.3,random_state = 42)\n",
    "X_train.shape, X_test.shape"
   ]
  },
  {
   "cell_type": "code",
   "execution_count": 118,
   "id": "a7122f2d",
   "metadata": {
    "ExecuteTime": {
     "end_time": "2022-07-22T20:01:34.211606Z",
     "start_time": "2022-07-22T20:01:32.717572Z"
    }
   },
   "outputs": [
    {
     "data": {
      "text/plain": [
       "RandomForestRegressor(random_state=42)"
      ]
     },
     "execution_count": 118,
     "metadata": {},
     "output_type": "execute_result"
    }
   ],
   "source": [
    "#RandonForest Classifier\n",
    "for_reg = RandomForestRegressor(random_state = 42)\n",
    "for_reg.fit(X_train,y_train)"
   ]
  },
  {
   "cell_type": "code",
   "execution_count": 119,
   "id": "6825bd7e",
   "metadata": {
    "ExecuteTime": {
     "end_time": "2022-07-22T20:01:35.683643Z",
     "start_time": "2022-07-22T20:01:35.639757Z"
    }
   },
   "outputs": [],
   "source": [
    "#Predict regularization\n",
    "predict = for_reg.predict(X_test)"
   ]
  },
  {
   "cell_type": "code",
   "execution_count": 120,
   "id": "4ccdecd3",
   "metadata": {
    "ExecuteTime": {
     "end_time": "2022-07-22T20:01:41.870089Z",
     "start_time": "2022-07-22T20:01:41.857125Z"
    }
   },
   "outputs": [
    {
     "data": {
      "text/plain": [
       "0.953"
      ]
     },
     "execution_count": 120,
     "metadata": {},
     "output_type": "execute_result"
    }
   ],
   "source": [
    "#Accuracy of Model\n",
    "accuracy_score(predict.round(),y_test)"
   ]
  },
  {
   "cell_type": "code",
   "execution_count": 121,
   "id": "355e803d",
   "metadata": {
    "ExecuteTime": {
     "end_time": "2022-07-22T20:01:44.703510Z",
     "start_time": "2022-07-22T20:01:44.686556Z"
    }
   },
   "outputs": [
    {
     "data": {
      "text/plain": [
       "0.9444444444444444"
      ]
     },
     "execution_count": 121,
     "metadata": {},
     "output_type": "execute_result"
    }
   ],
   "source": [
    "#Recall of Model\n",
    "recall_score(predict.round(), y_test)"
   ]
  },
  {
   "cell_type": "markdown",
   "id": "89bace77",
   "metadata": {},
   "source": [
    "The recall score for the RandomForest Model looks very promising, lets improve the model"
   ]
  },
  {
   "cell_type": "markdown",
   "id": "a6be5e9d",
   "metadata": {},
   "source": [
    "##### Fine-Tune Model using GridSearch"
   ]
  },
  {
   "cell_type": "code",
   "execution_count": 122,
   "id": "b1b980d7",
   "metadata": {
    "ExecuteTime": {
     "end_time": "2022-07-22T20:02:01.283006Z",
     "start_time": "2022-07-22T20:02:01.265054Z"
    }
   },
   "outputs": [],
   "source": [
    "#Find Parameters\n",
    "param_grid = [{'n_estimators':[10,100,1000] ,'max_features':[2,4,6,8,16]}]    "
   ]
  },
  {
   "cell_type": "code",
   "execution_count": 123,
   "id": "24de7949",
   "metadata": {
    "ExecuteTime": {
     "end_time": "2022-07-22T20:02:02.911681Z",
     "start_time": "2022-07-22T20:02:02.899681Z"
    }
   },
   "outputs": [
    {
     "data": {
      "text/plain": [
       "[{'n_estimators': [10, 100, 1000], 'max_features': [2, 4, 6, 8, 16]}]"
      ]
     },
     "execution_count": 123,
     "metadata": {},
     "output_type": "execute_result"
    }
   ],
   "source": [
    "param_grid"
   ]
  },
  {
   "cell_type": "code",
   "execution_count": 124,
   "id": "014f341f",
   "metadata": {
    "ExecuteTime": {
     "end_time": "2022-07-22T20:02:04.366789Z",
     "start_time": "2022-07-22T20:02:04.354788Z"
    }
   },
   "outputs": [],
   "source": [
    "#Use Grid Search CV for best parameters\n",
    "grid_search = GridSearchCV(for_reg,param_grid,cv = 3,scoring = 'neg_mean_squared_error',return_train_score = True,n_jobs = 3)"
   ]
  },
  {
   "cell_type": "code",
   "execution_count": 125,
   "id": "8aa6f0c9",
   "metadata": {
    "ExecuteTime": {
     "end_time": "2022-07-22T20:02:51.639338Z",
     "start_time": "2022-07-22T20:02:08.172647Z"
    }
   },
   "outputs": [
    {
     "data": {
      "text/plain": [
       "GridSearchCV(cv=3, estimator=RandomForestRegressor(random_state=42), n_jobs=3,\n",
       "             param_grid=[{'max_features': [2, 4, 6, 8, 16],\n",
       "                          'n_estimators': [10, 100, 1000]}],\n",
       "             return_train_score=True, scoring='neg_mean_squared_error')"
      ]
     },
     "execution_count": 125,
     "metadata": {},
     "output_type": "execute_result"
    }
   ],
   "source": [
    "#Fit Model\n",
    "grid_search.fit(X_train,y_train)"
   ]
  },
  {
   "cell_type": "code",
   "execution_count": 126,
   "id": "daa314bd",
   "metadata": {
    "ExecuteTime": {
     "end_time": "2022-07-22T20:03:02.024219Z",
     "start_time": "2022-07-22T20:03:02.011285Z"
    }
   },
   "outputs": [
    {
     "data": {
      "text/plain": [
       "{'max_features': 8, 'n_estimators': 1000}"
      ]
     },
     "execution_count": 126,
     "metadata": {},
     "output_type": "execute_result"
    }
   ],
   "source": [
    "#Find Best Parameters\n",
    "grid_search.best_params_"
   ]
  },
  {
   "cell_type": "code",
   "execution_count": 127,
   "id": "890f49b1",
   "metadata": {
    "ExecuteTime": {
     "end_time": "2022-07-22T20:03:03.667199Z",
     "start_time": "2022-07-22T20:03:03.649211Z"
    }
   },
   "outputs": [
    {
     "data": {
      "text/plain": [
       "RandomForestRegressor(max_features=8, n_estimators=1000, random_state=42)"
      ]
     },
     "execution_count": 127,
     "metadata": {},
     "output_type": "execute_result"
    }
   ],
   "source": [
    "#Find Best Estimator\n",
    "grid_search.best_estimator_"
   ]
  },
  {
   "cell_type": "code",
   "execution_count": 128,
   "id": "1a5b18b7",
   "metadata": {
    "ExecuteTime": {
     "end_time": "2022-07-22T20:03:05.519210Z",
     "start_time": "2022-07-22T20:03:05.238964Z"
    }
   },
   "outputs": [],
   "source": [
    "#Validate using best parameters\n",
    "y_pred = grid_search.predict(X_test)"
   ]
  },
  {
   "cell_type": "code",
   "execution_count": 129,
   "id": "50bba6b2",
   "metadata": {
    "ExecuteTime": {
     "end_time": "2022-07-22T20:03:07.058124Z",
     "start_time": "2022-07-22T20:03:07.046124Z"
    }
   },
   "outputs": [],
   "source": [
    "#Round for easier visual\n",
    "y_pred = y_pred.round()"
   ]
  },
  {
   "cell_type": "code",
   "execution_count": 130,
   "id": "429f35fd",
   "metadata": {
    "ExecuteTime": {
     "end_time": "2022-07-22T20:03:08.578027Z",
     "start_time": "2022-07-22T20:03:08.567055Z"
    }
   },
   "outputs": [],
   "source": [
    "#Accuracy for model\n",
    "score = accuracy_score(y_pred,y_test)"
   ]
  },
  {
   "cell_type": "code",
   "execution_count": 131,
   "id": "5784f62d",
   "metadata": {
    "ExecuteTime": {
     "end_time": "2022-07-22T20:03:10.131870Z",
     "start_time": "2022-07-22T20:03:10.119903Z"
    }
   },
   "outputs": [
    {
     "name": "stdout",
     "output_type": "stream",
     "text": [
      "Accuracys is 95.39999999999999 %\n"
     ]
    }
   ],
   "source": [
    "print( \"Accuracys is\"+\" \"+ str(score*100),\"%\")"
   ]
  },
  {
   "cell_type": "code",
   "execution_count": 132,
   "id": "a54f18a0",
   "metadata": {
    "ExecuteTime": {
     "end_time": "2022-07-22T20:03:11.792428Z",
     "start_time": "2022-07-22T20:03:11.781458Z"
    }
   },
   "outputs": [],
   "source": [
    "#Recall Score for model\n",
    "recall_score = recall_score(y_pred, y_test)"
   ]
  },
  {
   "cell_type": "code",
   "execution_count": 133,
   "id": "474f853c",
   "metadata": {
    "ExecuteTime": {
     "end_time": "2022-07-22T20:03:13.353285Z",
     "start_time": "2022-07-22T20:03:13.342287Z"
    },
    "scrolled": true
   },
   "outputs": [
    {
     "name": "stdout",
     "output_type": "stream",
     "text": [
      "Recall is 95.32710280373831 %\n"
     ]
    }
   ],
   "source": [
    "print( \"Recall is\"+\" \"+ str(recall_score*100),\"%\")"
   ]
  },
  {
   "cell_type": "markdown",
   "id": "3629e7f4",
   "metadata": {},
   "source": [
    "##### Feature Importance"
   ]
  },
  {
   "cell_type": "code",
   "execution_count": 134,
   "id": "440ffa27",
   "metadata": {
    "ExecuteTime": {
     "end_time": "2022-07-22T20:03:17.425362Z",
     "start_time": "2022-07-22T20:03:17.391454Z"
    }
   },
   "outputs": [
    {
     "data": {
      "text/plain": [
       "array([0.02869585, 0.00840487, 0.07720959, 0.03020876, 0.03427118,\n",
       "       0.02847854, 0.2616167 , 0.0289946 , 0.12765987, 0.0321008 ,\n",
       "       0.05388318, 0.08100447, 0.0930967 , 0.1143749 ])"
      ]
     },
     "execution_count": 134,
     "metadata": {},
     "output_type": "execute_result"
    }
   ],
   "source": [
    "#Feature importance\n",
    "for_reg.feature_importances_"
   ]
  },
  {
   "cell_type": "code",
   "execution_count": 135,
   "id": "0dd4ea99",
   "metadata": {
    "ExecuteTime": {
     "end_time": "2022-07-22T20:03:19.498815Z",
     "start_time": "2022-07-22T20:03:19.104868Z"
    }
   },
   "outputs": [
    {
     "data": {
      "image/png": "[encoded data removed]",
      "text/plain": [
       "<Figure size 1152x576 with 1 Axes>"
      ]
     },
     "metadata": {},
     "output_type": "display_data"
    }
   ],
   "source": [
    "#Plot feature importances\n",
    "def plot_feature_importances(model):\n",
    "    n_features = X_train.shape[1]\n",
    "    plt.figure(figsize=(16,8))\n",
    "    plt.barh(range(n_features), model.feature_importances_, align='center') \n",
    "    plt.yticks(np.arange(n_features), X_train.columns.values) \n",
    "    plt.title('Feature Importance Values', fontsize = 20)\n",
    "    plt.xlabel('Feature importance', fontsize=15)\n",
    "    plt.ylabel('Features', fontsize=15)\n",
    "\n",
    "plot_feature_importances(for_reg)"
   ]
  },
  {
   "cell_type": "markdown",
   "id": "5ae7b31a",
   "metadata": {},
   "source": [
    "Using Feature Importance, we can see that total day charge is the most important feature, we can assume that total net charges are the most important, followed by number of customer service calls, and whether a customer has an international plan or not."
   ]
  },
  {
   "cell_type": "markdown",
   "id": "b7f4df3c",
   "metadata": {},
   "source": [
    "### Model 4: XGBoost"
   ]
  },
  {
   "cell_type": "code",
   "execution_count": 136,
   "id": "592673be",
   "metadata": {
    "ExecuteTime": {
     "end_time": "2022-07-22T20:03:37.903564Z",
     "start_time": "2022-07-22T20:03:37.881630Z"
    }
   },
   "outputs": [
    {
     "data": {
      "text/plain": [
       "((2333, 14), (1000, 14))"
      ]
     },
     "execution_count": 136,
     "metadata": {},
     "output_type": "execute_result"
    }
   ],
   "source": [
    "#Train,test split\n",
    "X3 = df.drop(['state','churn'], axis=1)\n",
    "y3 = df['churn']\n",
    "\n",
    "X3_train,X3_test,y3_train,y3_test = train_test_split(X3, y3,test_size = 0.3,random_state = 42)\n",
    "X3_train.shape, X3_test.shape"
   ]
  },
  {
   "cell_type": "code",
   "execution_count": 139,
   "id": "fa327b4d",
   "metadata": {
    "ExecuteTime": {
     "end_time": "2022-07-22T20:04:09.286978Z",
     "start_time": "2022-07-22T20:04:08.834226Z"
    }
   },
   "outputs": [
    {
     "name": "stdout",
     "output_type": "stream",
     "text": [
      "[16:04:08] WARNING: ..\\src\\learner.cc:1115: Starting in XGBoost 1.3.0, the default evaluation metric used with the objective 'binary:logistic' was changed from 'error' to 'logloss'. Explicitly set eval_metric if you'd like to restore the old behavior.\n",
      "Training Accuracy: 100.0%\n",
      "Validation accuracy: 95.6%\n",
      "Training Recall: 100.0%\n",
      "Validation Recall: 74.13%\n"
     ]
    }
   ],
   "source": [
    "#Instantiate XGBClassifier\n",
    "clf1 = XGBClassifier()\n",
    "\n",
    "#Fit XGBClassifier\n",
    "clf1.fit(X3_train, y3_train)\n",
    "\n",
    "#Predict on training and test sets\n",
    "training_preds = clf1.predict(X3_train)\n",
    "test_preds = clf1.predict(X3_test)\n",
    "\n",
    "#Accuracy of training and test sets\n",
    "training_accuracy = accuracy_score(y3_train, training_preds)\n",
    "test_accuracy = accuracy_score(y3_test, test_preds)\n",
    "\n",
    "#Recall of training and test sets\n",
    "training_recall = recall_score(y3_train, training_preds)\n",
    "test_recall = recall_score(y3_test, test_preds)\n",
    "\n",
    "print('Training Accuracy: {:.4}%'.format(training_accuracy * 100))\n",
    "print('Validation accuracy: {:.4}%'.format(test_accuracy * 100))\n",
    "\n",
    "print('Training Recall: {:.4}%'.format(training_recall * 100))\n",
    "print('Validation Recall: {:.4}%'.format(test_recall * 100))"
   ]
  },
  {
   "cell_type": "code",
   "execution_count": 140,
   "id": "89d5f302",
   "metadata": {
    "ExecuteTime": {
     "end_time": "2022-07-22T20:04:23.759646Z",
     "start_time": "2022-07-22T20:04:23.378370Z"
    }
   },
   "outputs": [
    {
     "name": "stdout",
     "output_type": "stream",
     "text": [
      "Accuracy Score: 0.96\n",
      "Recall Score: 0.74\n",
      "Precision Score: 0.94\n",
      "F1 Score: 0.83\n"
     ]
    },
    {
     "data": {
      "image/png": "[encoded data removed]",
      "text/plain": [
       "<Figure size 432x288 with 2 Axes>"
      ]
     },
     "metadata": {},
     "output_type": "display_data"
    }
   ],
   "source": [
    "evaluate_model(clf1, X3_test, y3_test)"
   ]
  },
  {
   "cell_type": "markdown",
   "id": "f065d39a",
   "metadata": {},
   "source": [
    "The recall score improved compared to the KNN Model, but did worse than the RandomForest model. Hence the final and best model should be the RandomForest model, which had a recall score of 95.32%"
   ]
  },
  {
   "cell_type": "markdown",
   "id": "9ad7ac0d",
   "metadata": {},
   "source": [
    "### Appendix: Modeling Using Pipelines"
   ]
  },
  {
   "cell_type": "code",
   "execution_count": 141,
   "id": "1099d5bf",
   "metadata": {
    "ExecuteTime": {
     "end_time": "2022-07-22T20:04:33.139697Z",
     "start_time": "2022-07-22T20:04:33.112743Z"
    }
   },
   "outputs": [
    {
     "name": "stdout",
     "output_type": "stream",
     "text": [
      "<class 'pandas.core.frame.DataFrame'>\n",
      "RangeIndex: 3333 entries, 0 to 3332\n",
      "Data columns (total 16 columns):\n",
      " #   Column                  Non-Null Count  Dtype   \n",
      "---  ------                  --------------  -----   \n",
      " 0   state                   3333 non-null   category\n",
      " 1   account_length          3333 non-null   int64   \n",
      " 2   area_code               3333 non-null   int64   \n",
      " 3   international_plan      3333 non-null   int64   \n",
      " 4   voice_mail_plan         3333 non-null   int64   \n",
      " 5   number_vmail_messages   3333 non-null   int64   \n",
      " 6   total_day_calls         3333 non-null   int64   \n",
      " 7   total_day_charge        3333 non-null   float64 \n",
      " 8   total_eve_calls         3333 non-null   int64   \n",
      " 9   total_eve_charge        3333 non-null   float64 \n",
      " 10  total_night_calls       3333 non-null   int64   \n",
      " 11  total_night_charge      3333 non-null   float64 \n",
      " 12  total_intl_calls        3333 non-null   int64   \n",
      " 13  total_intl_charge       3333 non-null   float64 \n",
      " 14  customer_service_calls  3333 non-null   int64   \n",
      " 15  churn                   3333 non-null   int64   \n",
      "dtypes: category(1), float64(4), int64(11)\n",
      "memory usage: 396.9 KB\n"
     ]
    }
   ],
   "source": [
    "df.info()"
   ]
  },
  {
   "cell_type": "code",
   "execution_count": 142,
   "id": "bfb18f40",
   "metadata": {
    "ExecuteTime": {
     "end_time": "2022-07-22T20:04:59.189801Z",
     "start_time": "2022-07-22T20:04:59.166827Z"
    }
   },
   "outputs": [],
   "source": [
    "#Split targets and train test split\n",
    "X9 = df.drop(columns='churn')\n",
    "y9 = df.churn\n",
    "\n",
    "X9_train, X9_test, y9_train, y9_test = train_test_split(X9, y9, random_state=42)"
   ]
  },
  {
   "cell_type": "code",
   "execution_count": 143,
   "id": "de450cf2",
   "metadata": {
    "ExecuteTime": {
     "end_time": "2022-07-22T20:05:13.055830Z",
     "start_time": "2022-07-22T20:05:13.034880Z"
    }
   },
   "outputs": [],
   "source": [
    "#Scale numeric features and One hot encode categorical features\n",
    "cat_features = list(X_train.select_dtypes(include=['category']).columns)\n",
    "num_features = list(X_train.select_dtypes(exclude=['category']).columns)\n",
    "\n",
    "preprocessing = ColumnTransformer([\n",
    "    ('num', StandardScaler(), num_features),\n",
    "    ('cat', OneHotEncoder(categories=\"auto\", drop='first'), cat_features),])"
   ]
  },
  {
   "cell_type": "markdown",
   "id": "7774b034",
   "metadata": {},
   "source": [
    "#### Pipeline Model A: Logistic Regression"
   ]
  },
  {
   "cell_type": "code",
   "execution_count": 144,
   "id": "6bde4bc4",
   "metadata": {
    "ExecuteTime": {
     "end_time": "2022-07-22T20:05:20.374214Z",
     "start_time": "2022-07-22T20:05:19.998222Z"
    }
   },
   "outputs": [
    {
     "name": "stdout",
     "output_type": "stream",
     "text": [
      "Accuracy Score: 0.77\n",
      "Recall Score: 0.74\n",
      "Precision Score: 0.36\n",
      "F1 Score: 0.48\n"
     ]
    },
    {
     "data": {
      "image/png": "[encoded data removed]",
      "text/plain": [
       "<Figure size 432x288 with 2 Axes>"
      ]
     },
     "metadata": {},
     "output_type": "display_data"
    }
   ],
   "source": [
    "#Create pipeline using smote and logistic regression\n",
    "pipe_log = imbpipeline(steps=[\n",
    "    ('preprocessing', preprocessing),\n",
    "    ('smote', SMOTE()),\n",
    "    ('model', LogisticRegression()),\n",
    "])\n",
    "\n",
    "#Fit and evaluate the model on training data\n",
    "pipe_log.fit(X9_train, y9_train)\n",
    "evaluate_model(pipe_log, X9_train, y9_train)"
   ]
  },
  {
   "cell_type": "code",
   "execution_count": 145,
   "id": "8b0831bc",
   "metadata": {
    "ExecuteTime": {
     "end_time": "2022-07-22T20:06:38.120047Z",
     "start_time": "2022-07-22T20:06:37.826821Z"
    }
   },
   "outputs": [
    {
     "name": "stdout",
     "output_type": "stream",
     "text": [
      "Accuracy Score: 0.78\n",
      "Recall Score: 0.79\n",
      "Precision Score: 0.39\n",
      "F1 Score: 0.52\n"
     ]
    },
    {
     "data": {
      "image/png": "[encoded data removed]",
      "text/plain": [
       "<Figure size 432x288 with 2 Axes>"
      ]
     },
     "metadata": {},
     "output_type": "display_data"
    }
   ],
   "source": [
    "#Evaluate the model on test data\n",
    "evaluate_model(pipe_log, X9_test, y9_test)"
   ]
  },
  {
   "cell_type": "markdown",
   "id": "577184f1",
   "metadata": {
    "ExecuteTime": {
     "end_time": "2022-07-22T19:32:02.826990Z",
     "start_time": "2022-07-22T19:32:02.810027Z"
    }
   },
   "source": [
    "#### Pipeline Model B: KNN"
   ]
  },
  {
   "cell_type": "code",
   "execution_count": 146,
   "id": "6553b527",
   "metadata": {
    "ExecuteTime": {
     "end_time": "2022-07-22T20:07:28.019516Z",
     "start_time": "2022-07-22T20:07:26.714975Z"
    }
   },
   "outputs": [
    {
     "name": "stdout",
     "output_type": "stream",
     "text": [
      "Accuracy Score: 0.88\n",
      "Recall Score: 1.0\n",
      "Precision Score: 0.55\n",
      "F1 Score: 0.71\n"
     ]
    },
    {
     "data": {
      "image/png": "[encoded data removed]",
      "text/plain": [
       "<Figure size 432x288 with 2 Axes>"
      ]
     },
     "metadata": {},
     "output_type": "display_data"
    }
   ],
   "source": [
    "#Create pipeline using smote and KNN\n",
    "pipe_knn = imbpipeline(steps=[\n",
    "    ('preprocessing', preprocessing),\n",
    "    ('smote', SMOTE()),\n",
    "    ('model', KNeighborsClassifier()),\n",
    "])\n",
    "\n",
    "#Fit and evaluate model on training data\n",
    "pipe_knn.fit(X9_train, y9_train)\n",
    "evaluate_model(pipe_knn, X9_train, y9_train)"
   ]
  },
  {
   "cell_type": "code",
   "execution_count": 147,
   "id": "203bcc1a",
   "metadata": {
    "ExecuteTime": {
     "end_time": "2022-07-22T20:08:37.938049Z",
     "start_time": "2022-07-22T20:08:37.308746Z"
    }
   },
   "outputs": [
    {
     "name": "stdout",
     "output_type": "stream",
     "text": [
      "Accuracy Score: 0.79\n",
      "Recall Score: 0.75\n",
      "Precision Score: 0.4\n",
      "F1 Score: 0.52\n"
     ]
    },
    {
     "data": {
      "image/png": "[encoded data removed]",
      "text/plain": [
       "<Figure size 432x288 with 2 Axes>"
      ]
     },
     "metadata": {},
     "output_type": "display_data"
    }
   ],
   "source": [
    "#Evaluate model on test data\n",
    "evaluate_model(pipe_knn, X9_test, y9_test)"
   ]
  },
  {
   "cell_type": "markdown",
   "id": "25154816",
   "metadata": {},
   "source": [
    "#### Pipeline Model C: Gradient Boosting"
   ]
  },
  {
   "cell_type": "code",
   "execution_count": 148,
   "id": "899c67f1",
   "metadata": {
    "ExecuteTime": {
     "end_time": "2022-07-22T20:09:05.647874Z",
     "start_time": "2022-07-22T20:09:03.842702Z"
    }
   },
   "outputs": [
    {
     "name": "stdout",
     "output_type": "stream",
     "text": [
      "Accuracy Score: 0.96\n",
      "Recall Score: 0.83\n",
      "Precision Score: 0.88\n",
      "F1 Score: 0.85\n"
     ]
    },
    {
     "data": {
      "image/png": "[encoded data removed]",
      "text/plain": [
       "<Figure size 432x288 with 2 Axes>"
      ]
     },
     "metadata": {},
     "output_type": "display_data"
    }
   ],
   "source": [
    "#Create pipeline using smote and Gradient Boosting\n",
    "pipe_grad = imbpipeline(steps=[\n",
    "    ('preprocessing', preprocessing),\n",
    "    ('smote', SMOTE()),\n",
    "    ('model', GradientBoostingClassifier()),\n",
    "])\n",
    "\n",
    "#Fit and evaluate model on the training data\n",
    "pipe_grad.fit(X9_train, y9_train)\n",
    "evaluate_model(pipe_grad, X9_train, y9_train)"
   ]
  },
  {
   "cell_type": "code",
   "execution_count": 149,
   "id": "4bd1467d",
   "metadata": {
    "ExecuteTime": {
     "end_time": "2022-07-22T20:09:15.315187Z",
     "start_time": "2022-07-22T20:09:15.013999Z"
    }
   },
   "outputs": [
    {
     "name": "stdout",
     "output_type": "stream",
     "text": [
      "Accuracy Score: 0.94\n",
      "Recall Score: 0.77\n",
      "Precision Score: 0.81\n",
      "F1 Score: 0.79\n"
     ]
    },
    {
     "data": {
      "image/png": "[encoded data removed]",
      "text/plain": [
       "<Figure size 432x288 with 2 Axes>"
      ]
     },
     "metadata": {},
     "output_type": "display_data"
    }
   ],
   "source": [
    "#Evaluate model on testing data\n",
    "evaluate_model(pipe_grad, X9_test, y9_test)"
   ]
  },
  {
   "cell_type": "markdown",
   "id": "52a817fc",
   "metadata": {},
   "source": [
    "#### Pipeline Model D: Decision Trees"
   ]
  },
  {
   "cell_type": "code",
   "execution_count": 150,
   "id": "17a19628",
   "metadata": {
    "ExecuteTime": {
     "end_time": "2022-07-22T20:09:46.101583Z",
     "start_time": "2022-07-22T20:09:45.709631Z"
    }
   },
   "outputs": [
    {
     "name": "stdout",
     "output_type": "stream",
     "text": [
      "Accuracy Score: 1.0\n",
      "Recall Score: 1.0\n",
      "Precision Score: 1.0\n",
      "F1 Score: 1.0\n"
     ]
    },
    {
     "data": {
      "image/png": "[encoded data removed]",
      "text/plain": [
       "<Figure size 432x288 with 2 Axes>"
      ]
     },
     "metadata": {},
     "output_type": "display_data"
    }
   ],
   "source": [
    "#Create pipeline using smote and DecisionTree\n",
    "dt_model = imbpipeline(steps=[\n",
    "    ('preprocessing', preprocessing),\n",
    "    ('smote', SMOTE()),\n",
    "    ('model', DecisionTreeClassifier()),\n",
    "])\n",
    "\n",
    "# fit and evaluate model on training data\n",
    "dt_model.fit(X0_train , y0_train)\n",
    "evaluate_model(dt_model, X0_train, y9_train)"
   ]
  },
  {
   "cell_type": "code",
   "execution_count": 151,
   "id": "4213c40f",
   "metadata": {
    "ExecuteTime": {
     "end_time": "2022-07-22T20:09:58.766879Z",
     "start_time": "2022-07-22T20:09:58.466683Z"
    }
   },
   "outputs": [
    {
     "name": "stdout",
     "output_type": "stream",
     "text": [
      "Accuracy Score: 0.91\n",
      "Recall Score: 0.74\n",
      "Precision Score: 0.66\n",
      "F1 Score: 0.7\n"
     ]
    },
    {
     "data": {
      "image/png": "[encoded data removed]",
      "text/plain": [
       "<Figure size 432x288 with 2 Axes>"
      ]
     },
     "metadata": {},
     "output_type": "display_data"
    }
   ],
   "source": [
    "#Evaluate the model on testing data\n",
    "evaluate_model(dt_model, X9_test, y9_test)"
   ]
  },
  {
   "cell_type": "markdown",
   "id": "ac43a82c",
   "metadata": {},
   "source": [
    "#### Pipeline Model E: Random Forrest"
   ]
  },
  {
   "cell_type": "code",
   "execution_count": 152,
   "id": "e954e412",
   "metadata": {
    "ExecuteTime": {
     "end_time": "2022-07-22T20:10:34.756744Z",
     "start_time": "2022-07-22T20:10:33.336539Z"
    }
   },
   "outputs": [
    {
     "name": "stdout",
     "output_type": "stream",
     "text": [
      "Accuracy Score: 1.0\n",
      "Recall Score: 1.0\n",
      "Precision Score: 1.0\n",
      "F1 Score: 1.0\n"
     ]
    },
    {
     "data": {
      "image/png": "[encoded data removed]",
      "text/plain": [
       "<Figure size 432x288 with 2 Axes>"
      ]
     },
     "metadata": {},
     "output_type": "display_data"
    }
   ],
   "source": [
    "#Create pipeline using smote and RandomForrest\n",
    "pipe_rand = imbpipeline(steps=[\n",
    "    ('preprocessing', preprocessing),\n",
    "    ('smote', SMOTE()),\n",
    "    ('model', RandomForestClassifier()),\n",
    "])\n",
    "\n",
    "#Fit and evaluate the model to the training data\n",
    "pipe_rand.fit(X9_train , y9_train)\n",
    "evaluate_model(pipe_rand, X9_train, y9_train)"
   ]
  },
  {
   "cell_type": "code",
   "execution_count": 153,
   "id": "c93ec344",
   "metadata": {
    "ExecuteTime": {
     "end_time": "2022-07-22T20:10:44.532885Z",
     "start_time": "2022-07-22T20:10:44.164870Z"
    }
   },
   "outputs": [
    {
     "name": "stdout",
     "output_type": "stream",
     "text": [
      "Accuracy Score: 0.94\n",
      "Recall Score: 0.78\n",
      "Precision Score: 0.84\n",
      "F1 Score: 0.81\n"
     ]
    },
    {
     "data": {
      "image/png": "[encoded data removed]",
      "text/plain": [
       "<Figure size 432x288 with 2 Axes>"
      ]
     },
     "metadata": {},
     "output_type": "display_data"
    }
   ],
   "source": [
    "#Evaluate model on testing data\n",
    "evaluate_model(pipe_rand, X9_test, y9_test)"
   ]
  },
  {
   "cell_type": "markdown",
   "id": "5c496d1f",
   "metadata": {},
   "source": [
    "#### Pipeline Model F: XG Boost"
   ]
  },
  {
   "cell_type": "code",
   "execution_count": 154,
   "id": "749f8ec3",
   "metadata": {
    "ExecuteTime": {
     "end_time": "2022-07-22T20:11:16.203628Z",
     "start_time": "2022-07-22T20:11:15.015804Z"
    }
   },
   "outputs": [
    {
     "name": "stdout",
     "output_type": "stream",
     "text": [
      "[16:11:15] WARNING: ..\\src\\learner.cc:1115: Starting in XGBoost 1.3.0, the default evaluation metric used with the objective 'binary:logistic' was changed from 'error' to 'logloss'. Explicitly set eval_metric if you'd like to restore the old behavior.\n",
      "Accuracy Score: 1.0\n",
      "Recall Score: 1.0\n",
      "Precision Score: 1.0\n",
      "F1 Score: 1.0\n"
     ]
    },
    {
     "data": {
      "image/png": "[encoded data removed]",
      "text/plain": [
       "<Figure size 432x288 with 2 Axes>"
      ]
     },
     "metadata": {},
     "output_type": "display_data"
    }
   ],
   "source": [
    "#Create pipeline using SMOTE and XGBoost\n",
    "pipe_xg = imbpipeline(steps=[\n",
    "    ('preprocessing', preprocessing),\n",
    "    ('smote', SMOTE()),\n",
    "    ('model', XGBClassifier()),\n",
    "])\n",
    "\n",
    "#Fit and evaluate model on training data\n",
    "pipe_xg.fit(X9_train , y9_train)\n",
    "evaluate_model(pipe_xg, X9_train, y9_train)"
   ]
  },
  {
   "cell_type": "code",
   "execution_count": 155,
   "id": "128dbded",
   "metadata": {
    "ExecuteTime": {
     "end_time": "2022-07-22T20:11:26.389745Z",
     "start_time": "2022-07-22T20:11:26.009761Z"
    }
   },
   "outputs": [
    {
     "name": "stdout",
     "output_type": "stream",
     "text": [
      "Accuracy Score: 0.96\n",
      "Recall Score: 0.78\n",
      "Precision Score: 0.92\n",
      "F1 Score: 0.84\n"
     ]
    },
    {
     "data": {
      "image/png": "[encoded data removed]",
      "text/plain": [
       "<Figure size 432x288 with 2 Axes>"
      ]
     },
     "metadata": {},
     "output_type": "display_data"
    }
   ],
   "source": [
    "#Evaluate model on testing data\n",
    "evaluate_model(pipe_xg, X9_test, y9_test)"
   ]
  },
  {
   "cell_type": "markdown",
   "id": "ae60b9d9",
   "metadata": {},
   "source": [
    "## Conclusions"
   ]
  },
  {
   "cell_type": "markdown",
   "id": "860e523b",
   "metadata": {},
   "source": [
    "The importance of this type of research in the telecom market is to help companies make more profit. It has become known that predicting churn is one of the most important sources of income to telecom companies. Hence, this research aimed to build a system that predicts the churn of customers in SyriaTel telecom company. Five seperate models were created, \n",
    "\n",
    "1. Logistic Regression \n",
    "2. K-Nearest Neighbors\n",
    "3. Random Forest\n",
    "4. XG Boost\n",
    "5. Models using Pipelines \n",
    "        A. Logistic Regression\n",
    "        B. KNN\n",
    "        C. Gradient Boosting\n",
    "        D. Decision Trees\n",
    "        E. Random Forrest\n",
    "        F. XG Boost\n",
    "    \n",
    "Our Random forest model had the highest recall score of 95.32% and was chosen to be the best and final model. "
   ]
  },
  {
   "cell_type": "markdown",
   "id": "20471158",
   "metadata": {},
   "source": [
    "### Recommendations"
   ]
  },
  {
   "cell_type": "markdown",
   "id": "5cf5e9a5",
   "metadata": {},
   "source": [
    "Based on the feature analysis and the results from the final model it is clear that customer service calls and day call charges have the strongest impact on customer churn. SyriaTel can do the following to reduce churn:\n",
    "\n",
    "1. Customers who called customer service more than three times should be reviewed with more importance. Track metrics from customer service calls. Are clients calling about the same issues? Once we know why these clients are calling we can better alleviate their pain by addressing and correcting these issues.\n",
    "\n",
    "2. Re-evaluate pricing structure for day calls. Consider a tiered pricing structure past a certain dollar amount\n",
    "\n",
    "3. The international plan is not marketed effectively less than 10% of customers have the international plan and are paying the same rate as customers without the plan. The international plan has to be updated"
   ]
  }
 ],
 "metadata": {
  "kernelspec": {
   "display_name": "Python (learn-env)",
   "language": "python",
   "name": "learn-env"
  },
  "language_info": {
   "codemirror_mode": {
    "name": "ipython",
    "version": 3
   },
   "file_extension": ".py",
   "mimetype": "text/x-python",
   "name": "python",
   "nbconvert_exporter": "python",
   "pygments_lexer": "ipython3",
   "version": "3.8.5"
  },
  "toc": {
   "base_numbering": 1,
   "nav_menu": {},
   "number_sections": true,
   "sideBar": true,
   "skip_h1_title": false,
   "title_cell": "Table of Contents",
   "title_sidebar": "Contents",
   "toc_cell": false,
   "toc_position": {
    "height": "calc(100% - 180px)",
    "left": "10px",
    "top": "150px",
    "width": "165px"
   },
   "toc_section_display": true,
   "toc_window_display": false
  },
  "varInspector": {
   "cols": {
    "lenName": 16,
    "lenType": 16,
    "lenVar": 40
   },
   "kernels_config": {
    "python": {
     "delete_cmd_postfix": "",
     "delete_cmd_prefix": "del ",
     "library": "var_list.py",
     "varRefreshCmd": "print(var_dic_list())"
    },
    "r": {
     "delete_cmd_postfix": ") ",
     "delete_cmd_prefix": "rm(",
     "library": "var_list.r",
     "varRefreshCmd": "cat(var_dic_list()) "
    }
   },
   "types_to_exclude": [
    "module",
    "function",
    "builtin_function_or_method",
    "instance",
    "_Feature"
   ],
   "window_display": false
  }
 },
 "nbformat": 4,
 "nbformat_minor": 5
}
